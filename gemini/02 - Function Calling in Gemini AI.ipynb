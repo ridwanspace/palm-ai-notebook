{
 "cells": [
  {
   "cell_type": "markdown",
   "metadata": {},
   "source": [
    "## Overview\n",
    "\n",
    "Gemini is a family of generative AI models developed by Google DeepMind that is designed for multimodal use cases.\n",
    "\n",
    "## Calling functions from Gemini\n",
    "[`Function calling`](https://cloud.google.com/vertex-ai/docs/generative-ai/multimodal/function-calling) lets developers create a description of a function in their code, then pass that description to a language model in a request. The response from the model includes the name of a function that matches the description and the arguments to call it with.\n",
    "\n",
    "Function calling is similar to Vertex AI Extensions in that they both generate information about functions. The difference between them is that function calling returns JSON data with the name of a function and the arguments to use in your code, whereas Vertex AI Extensions returns the function and calls it for you.\n",
    "\n",
    "Objectives\n",
    "\n",
    "In this tutorial, you'll build a generative AI pipeline with the Vertex AI Gemini Pro (gemini-pro) model and Python. Using your app, users can ask about exchange rates, and the system will fetch the latest data from an external API and respond to the user with the answer.\n",
    "\n",
    "What we'll learn\n",
    "* How to interact with the Gemini model using the Python client library\n",
    "* How to define a function declaration and register it as a tool\n",
    "* How to call Gemini and get a function call response\n",
    "* How to return the function response to Gemini and respond to the user"
   ]
  },
  {
   "cell_type": "markdown",
   "metadata": {},
   "source": [
    "### 1. Set Up The Environment\n",
    "\n",
    "Install Python client library for Vertex AI if we don't\n",
    "\n",
    "`pip install --upgrade google-cloud-aiplatform`"
   ]
  },
  {
   "cell_type": "code",
   "execution_count": 23,
   "metadata": {},
   "outputs": [],
   "source": [
    "# import libraries\n",
    "# import libraries\n",
    "import os\n",
    "import vertexai\n",
    "from IPython.display import Markdown, display\n",
    "from google.oauth2 import service_account\n",
    "from dotenv import load_dotenv\n",
    "# gemini\n",
    "from vertexai.preview.generative_models import (\n",
    "    FunctionDeclaration,\n",
    "    GenerativeModel,\n",
    "    Tool,\n",
    "    Part,\n",
    "    Content\n",
    ")"
   ]
  },
  {
   "cell_type": "code",
   "execution_count": 2,
   "metadata": {},
   "outputs": [],
   "source": [
    "# initiate service account (authentication)\n",
    "json_path = '../llm-ai.json' # replace with your own service account\n",
    "credentials = service_account.Credentials.from_service_account_file(json_path)"
   ]
  },
  {
   "cell_type": "code",
   "execution_count": 4,
   "metadata": {},
   "outputs": [],
   "source": [
    "# start Vertex AI\n",
    "load_dotenv()\n",
    "vertexai.init(project=os.environ[\"PROJECT_ID\"], # replace with your own project\n",
    "              credentials=credentials)"
   ]
  },
  {
   "cell_type": "code",
   "execution_count": 5,
   "metadata": {},
   "outputs": [],
   "source": [
    "# load the model\n",
    "model = GenerativeModel(\"gemini-pro\")"
   ]
  },
  {
   "cell_type": "code",
   "execution_count": 9,
   "metadata": {},
   "outputs": [
    {
     "data": {
      "text/markdown": [
       "**The Partition of India** was the division of the British Indian Empire into two independent dominions, India and Pakistan, effective from midnight of 14 August 1947. The partition involved the geographical division of the Indian subcontinent as well as the division of its armed forces, civil services, and other resources.\n",
       "\n",
       "The partition was the culmination of a long history of political and communal tensions between Hindus and Muslims in India. The Indian National Congress, which represented the Hindu majority, demanded independence from British rule and the creation of a united India. The Muslim League, which represented the Muslim minority, demanded the creation of a separate Muslim state in India.\n",
       "\n",
       "In 1946, the British government announced its plan to divide India into two dominions, India and Pakistan. The plan was accepted by the Indian National Congress but was rejected by the Muslim League. The Muslim League launched a direct action campaign, which resulted in communal violence and riots in Calcutta and other cities.\n",
       "\n",
       "In 1947, the British government decided to grant independence to India and Pakistan on the condition that the two dominions would agree to a partition plan. The partition plan was accepted by both the Indian National Congress and the Muslim League.\n",
       "\n",
       "The partition of India was a traumatic event that resulted in the displacement of millions of people and the deaths of hundreds of thousands. The partition also led to the creation of two separate states, India and Pakistan, which have been in conflict with each other ever since.\n",
       "\n",
       "**Some of the key factors that contributed to the partition of India include:**\n",
       "\n",
       "* **The rise of nationalism:** The early 20th century saw the rise of nationalism in both India and Pakistan. This led to increasing demands for independence from British rule.\n",
       "* **Communal tensions:** There were long-standing tensions between Hindus and Muslims in India. These tensions were exacerbated by the rise of nationalism and the competing demands of the Indian National Congress and the Muslim League.\n",
       "* **The British government's divide-and-rule policy:** The British government often played one religious group against the other in order to maintain its control over India. This policy contributed to the growth of communal tensions.\n",
       "* **The role of the Indian National Congress and the Muslim League:** The Indian National Congress represented the Hindu majority, while the Muslim League represented the Muslim minority. The two parties were unable to agree on a power-sharing arrangement, which led to deadlock and ultimately partition.\n",
       "\n",
       "**The partition of India was a tragedy that had a profound impact on the history of the Indian subcontinent. It led to the displacement of millions of people, the deaths of hundreds of thousands, and the creation of two separate states that have been in conflict with each other ever since.**"
      ],
      "text/plain": [
       "<IPython.core.display.Markdown object>"
      ]
     },
     "metadata": {},
     "output_type": "display_data"
    }
   ],
   "source": [
    "# test the model\n",
    "response = model.generate_content(\"Why India was split?\")\n",
    "\n",
    "display(Markdown(response.text))"
   ]
  },
  {
   "cell_type": "markdown",
   "metadata": {},
   "source": [
    "### 2. Understand The Problem\n",
    "\n",
    "Have you ever interacted with a large language model or generative AI model and asked it about real-time or current information, only to get a response with outdated information or inaccurate information?\n",
    "\n",
    "Let's try it now!"
   ]
  },
  {
   "cell_type": "code",
   "execution_count": 10,
   "metadata": {},
   "outputs": [
    {
     "data": {
      "text/markdown": [
       "I do not have real-time information and my knowledge cutoff is April 2023. Therefore, I cannot provide you with the current exchange rate for rupiahs to dollars. You may want to check a reputable financial news source or a currency exchange website for the most up-to-date information."
      ],
      "text/plain": [
       "<IPython.core.display.Markdown object>"
      ]
     },
     "metadata": {},
     "output_type": "display_data"
    }
   ],
   "source": [
    "response = model.generate_content(\n",
    "    \"What's the exchange rate for rupiahs to dollars today?\"\n",
    ")\n",
    "display(Markdown(response.text))"
   ]
  },
  {
   "cell_type": "markdown",
   "metadata": {},
   "source": [
    "If an end-user received this type of response, they would need to switch contexts to look up the currencies that they're interested in, fetch the latest exchange rate, and perform any conversions on their own.\n",
    "\n",
    "Ideally, a generative model pipeline could handle some or all of these tasks for the user. In the next part, we'll try some common workarounds for getting structured responses from generative models so that we can call external systems."
   ]
  },
  {
   "cell_type": "markdown",
   "metadata": {},
   "source": [
    "### 3. Try common workarounds\n",
    "\n",
    "When working with generative models in scenarios where we need up-to-date information or data from external sources, we could call an external API then feed the results back to the generative model for it to use in its response.\n",
    "\n",
    "Before we call an external system, we need to determine the right function to use, extract the relevant parameters from the user, and put the parameters into a structured data object. This usually involves exhaustive prompt engineering to coerce the generative model to output valid structured data.\n",
    "\n",
    "Let's revisit the question that we asked in the previous section and add some additional instructions for the model. Try sending the following request to the Gemini model:"
   ]
  },
  {
   "cell_type": "code",
   "execution_count": 11,
   "metadata": {},
   "outputs": [
    {
     "data": {
      "text/markdown": [
       "```json\n",
       "{\n",
       "    \"from\": \"rupiahs\",\n",
       "    \"to\": \"US dollars\"\n",
       "}\n",
       "```"
      ],
      "text/plain": [
       "<IPython.core.display.Markdown object>"
      ]
     },
     "metadata": {},
     "output_type": "display_data"
    }
   ],
   "source": [
    "user_prompt = \"What's the exchange rate from rupiahs to US dollars today?\"\n",
    "\n",
    "response = model.generate_content(f\"\"\"\n",
    "Your task is to extract parameters from the user's input and return it as a\n",
    "structured JSON payload. The user will ask about the exchange rate and which\n",
    "currency they are converting from and converting to.\n",
    "\n",
    "User input: {user_prompt}\n",
    "\n",
    "Please extract the currencies as parameters and put them in a JSON object.\n",
    "\"\"\"\n",
    ")\n",
    "\n",
    "display(Markdown(response.text))"
   ]
  },
  {
   "cell_type": "code",
   "execution_count": 12,
   "metadata": {},
   "outputs": [
    {
     "name": "stdout",
     "output_type": "stream",
     "text": [
      "```json\n",
      "{\n",
      "    \"from\": \"rupiahs\",\n",
      "    \"to\": \"US dollars\"\n",
      "}\n",
      "```\n"
     ]
    }
   ],
   "source": [
    "# print it\n",
    "print(response.text)"
   ]
  },
  {
   "cell_type": "markdown",
   "metadata": {},
   "source": [
    "In particular, the first and last lines of the text response include backticks to delimit the code block, the first line includes a language specifier, and the values in the JSON object are not the standard three-letter currency abbreviations that a currency exchange API would expect as input parameters.\n",
    "\n",
    "We could try to use Python to post-process this text into valid JSON and a dictionary, add more instructions to the prompt, provide one or more examples of desired output, fine-tune the model, or make another call to the generative model asking it to clean up the JSON.\n",
    "\n",
    "But there is a more deterministic way! Let's learn how to use function calling in Gemini to query for information in external services and return relevant responses to end-users."
   ]
  },
  {
   "cell_type": "markdown",
   "metadata": {},
   "source": [
    "### 4. How function calling works\n",
    "\n",
    "Before we get started with parameter extraction and function calling, let's walk through the steps of function calling and which components are used along the way.\n",
    "\n",
    "![Function Calling](../assets/gemini-function-calling.png)\n",
    "\n",
    "#### A. Define a function and tool\n",
    "First, we'll define a function declaration and a tool so that the model knows which functions it can call and how to call them. This step involves describing one or more functions for the model to use, the relevant input parameters and data types, and which parameters are required.\n",
    "\n",
    "```\n",
    "API Specification → Function Declaration → Tool\n",
    "```\n",
    "\n",
    "#### B. Generate a function call\n",
    "Then, we'll send a request to the model with a prompt so that it can generate a function call with the appropriate function name and parameters. This step involves sending a prompt and list of tools to the model, and receiving a response with a function name and parameters to use.\n",
    "\n",
    "```\n",
    "Model → Tool → Function call with parameters\n",
    "```\n",
    "\n",
    "#### C. Make an API request\n",
    "Then, we'll use the function and parameters to make a an API request so that you can retrieve the latest information from an external system. This step involves setting up the input parameters, making an API request, and receiving a response object from the API.\n",
    "\n",
    "```\n",
    "Function call with parameters → API → Response\n",
    "```\n",
    "\n",
    "#### D. Return a summary\n",
    "Finally, we'll pass the function response back to the model so that it can generate a response to the end-user's initial prompt. This step involves returning the function response along with the previous conversation turns to the model, then handling the final response.\n",
    "\n",
    "```\n",
    "Function Response → Model → Response to user\n",
    "```\n"
   ]
  },
  {
   "cell_type": "markdown",
   "metadata": {},
   "source": [
    "### 5. Choose our API\n",
    "\n",
    "Now that we understand the overall flow and specific steps in function calling, we'll build a generative AI pipeline to fetch the latest currency exchange rates. First, we'll need to select which API that we want to use as a source of information.\n",
    "\n",
    "For our currency exchange app, we'll use the REST API at [https://www.frankfurter.app/](https://www.frankfurter.app/) to fetch the latest information about global exchange rates.\n",
    "\n",
    "To interact with this REST API, we might make a REST API call with `requests` in Python as:"
   ]
  },
  {
   "cell_type": "code",
   "execution_count": 13,
   "metadata": {},
   "outputs": [
    {
     "data": {
      "text/plain": [
       "'{\"amount\":1.0,\"base\":\"EUR\",\"date\":\"2024-01-26\",\"rates\":{\"AUD\":1.6483,\"BGN\":1.9558,\"BRL\":5.3366,\"CAD\":1.4607,\"CHF\":0.9396,\"CNY\":7.7994,\"CZK\":24.748,\"DKK\":7.4549,\"GBP\":0.85368,\"HKD\":8.4933,\"HUF\":386.95,\"IDR\":17132,\"ILS\":4.0057,\"INR\":90.37,\"ISK\":148.3,\"JPY\":160.62,\"KRW\":1451.08,\"MXN\":18.6582,\"MYR\":5.1393,\"NOK\":11.3325,\"NZD\":1.7801,\"PHP\":61.28,\"PLN\":4.3775,\"RON\":4.9765,\"SEK\":11.3203,\"SGD\":1.457,\"THB\":38.679,\"TRY\":32.944,\"USD\":1.0871,\"ZAR\":20.426}}'"
      ]
     },
     "execution_count": 13,
     "metadata": {},
     "output_type": "execute_result"
    }
   ],
   "source": [
    "import requests\n",
    "url = \"https://api.frankfurter.app/latest\"\n",
    "response = requests.get(url)\n",
    "response.text"
   ]
  },
  {
   "cell_type": "markdown",
   "metadata": {},
   "source": [
    "Because function calling in Gemini does not actually make the external API call for us, there are no such restrictions on what type of API that we use! We could use a Cloud Run Service, a Cloud Function, an API request to a Google Cloud service, or any external REST API.\n",
    "\n",
    "\n",
    "Referring back to the REST API at [https://www.frankfurter.app/docs/](www.frankfurter.app/docs/), we can see that it accepts the following input parameters:\n",
    "\n",
    "| Parameter | Type   | Description                        |\n",
    "|-----------|--------|------------------------------------|\n",
    "| _from_      | String | Currency to convert from           |\n",
    "| _to_        | String | Currency to convert to             |\n",
    "| _date_      | String | Date to fetch the exchange rate for|\n",
    "\n",
    "Now, let's register this as a `FunctionDeclaration` using the Python SDK for Gemini:\n"
   ]
  },
  {
   "cell_type": "code",
   "execution_count": 18,
   "metadata": {},
   "outputs": [],
   "source": [
    "get_exchange_rate_func = FunctionDeclaration(\n",
    "    name=\"get_exchange_rate\",\n",
    "    description=\"Get the exchange rate for currencies between countries\",\n",
    "    parameters={\n",
    "    \"type\": \"object\",\n",
    "    \"properties\": {\n",
    "        \"currency_date\": {\n",
    "            \"type\": \"string\",\n",
    "            \"description\": \"A date that must always be in YYYY-MM-DD format or the value 'latest' if a time period is not specified\"\n",
    "        },\n",
    "        \"currency_from\": {\n",
    "            \"type\": \"string\",\n",
    "            \"description\": \"The currency to convert from in ISO 4217 format\"\n",
    "        },\n",
    "        \"currency_to\": {\n",
    "            \"type\": \"string\",\n",
    "            \"description\": \"The currency to convert to in ISO 4217 format\"\n",
    "        }\n",
    "    },\n",
    "         \"required\": [\n",
    "            \"currency_from\",\n",
    "            \"currency_date\",\n",
    "      ]\n",
    "  },\n",
    ")"
   ]
  },
  {
   "cell_type": "markdown",
   "metadata": {},
   "source": [
    "Be sure to use as much detail as possible in the function and parameter descriptions since the generative model will use this information to determine which function to select and how to fill the parameters in the function call.\n",
    "\n",
    "Finally, you'll define a `Tool` that includes the function declaration:"
   ]
  },
  {
   "cell_type": "code",
   "execution_count": 19,
   "metadata": {},
   "outputs": [],
   "source": [
    "exchange_rate_tool = Tool(\n",
    "    function_declarations=[get_exchange_rate_func],\n",
    ")"
   ]
  },
  {
   "cell_type": "markdown",
   "metadata": {},
   "source": [
    "Here, we're using one function declaration within a tool, but note that we can **register one or more** function declarations in a tool, and the model will select the appropriate function to use at runtime.\n",
    "\n",
    "We've completed the configuration of our function and tool definitions. In the next section, we'll call the generative model with this tool and get back a function call that we can use to call the REST API.\n",
    "\n",
    "\n",
    "### 6. Generate a function call\n",
    "\n",
    "Now we can prompt the generative model and include the tool that we defined:"
   ]
  },
  {
   "cell_type": "code",
   "execution_count": 20,
   "metadata": {},
   "outputs": [
    {
     "name": "stdout",
     "output_type": "stream",
     "text": [
      "role: \"model\"\n",
      "parts {\n",
      "  function_call {\n",
      "    name: \"get_exchange_rate\"\n",
      "    args {\n",
      "      fields {\n",
      "        key: \"currency_to\"\n",
      "        value {\n",
      "          string_value: \"IDR\"\n",
      "        }\n",
      "      }\n",
      "      fields {\n",
      "        key: \"currency_from\"\n",
      "        value {\n",
      "          string_value: \"KRW\"\n",
      "        }\n",
      "      }\n",
      "      fields {\n",
      "        key: \"currency_date\"\n",
      "        value {\n",
      "          string_value: \"latest\"\n",
      "        }\n",
      "      }\n",
      "    }\n",
      "  }\n",
      "}\n",
      "\n"
     ]
    }
   ],
   "source": [
    "prompt = \"\"\"What is the exchange rate from to Korean Won to Indonesian Rupiah?\n",
    "How much is 5000 Korean wons worth in Indonesian Rupiahs?\"\"\"\n",
    "\n",
    "response = model.generate_content(\n",
    "    prompt,\n",
    "    tools=[exchange_rate_tool],\n",
    ")\n",
    "\n",
    "print(response.candidates[0].content)"
   ]
  },
  {
   "cell_type": "markdown",
   "metadata": {},
   "source": [
    "It looks like the model selected the one available function and returned a function call for the `get_exchange_rate` function along with the parameters. And the parameters are in the correct format that we wanted. Hooray for getting structured responses from generative models!\n",
    "\n",
    "In the next part, we'll use the information in the response to make an API request."
   ]
  },
  {
   "cell_type": "markdown",
   "metadata": {},
   "source": [
    "### 7. Make an API request\n",
    "\n",
    "Recall that function calling in Gemini does not actually make the external API call for you. Rather, we are free to use any language, library, or framework that we'd like!\n",
    "\n",
    "Here we'll use the `requests` library in Python to call the exchange rate REST API.\n",
    "\n",
    "Let's unpack the response into a Python dictionary:"
   ]
  },
  {
   "cell_type": "code",
   "execution_count": 21,
   "metadata": {},
   "outputs": [
    {
     "data": {
      "text/plain": [
       "{'from': 'KRW', 'date': 'latest', 'to': 'IDR'}"
      ]
     },
     "execution_count": 21,
     "metadata": {},
     "output_type": "execute_result"
    }
   ],
   "source": [
    "params = {}\n",
    "for key, value in response.candidates[0].content.parts[0].function_call.args.items():\n",
    "    params[key[9:]] = value\n",
    "params"
   ]
  },
  {
   "cell_type": "markdown",
   "metadata": {},
   "source": [
    "Now we can call requests or any other method:"
   ]
  },
  {
   "cell_type": "code",
   "execution_count": 22,
   "metadata": {},
   "outputs": [
    {
     "data": {
      "text/plain": [
       "'{\"amount\":1.0,\"base\":\"KRW\",\"date\":\"2024-01-26\",\"rates\":{\"IDR\":11.8064}}'"
      ]
     },
     "execution_count": 22,
     "metadata": {},
     "output_type": "execute_result"
    }
   ],
   "source": [
    "url = f\"https://api.frankfurter.app/{params['date']}\"\n",
    "api_response = requests.get(url, params=params)\n",
    "api_response.text"
   ]
  },
  {
   "cell_type": "markdown",
   "metadata": {},
   "source": [
    "And we have our response from the REST API, with the latest exchange rate information from today. In the next section, we'll pass this information back to the model so that it can generate a relevant response for the user.\n",
    "\n",
    "\n",
    "### 8. Generate a response\n",
    "\n",
    "Finally, let's generate a response for the user by passing back the function response to the model in the next conversation turn:"
   ]
  },
  {
   "cell_type": "code",
   "execution_count": 24,
   "metadata": {},
   "outputs": [
    {
     "name": "stdout",
     "output_type": "stream",
     "text": [
      "What is the exchange rate from to Korean Won to Indonesian Rupiah?\n",
      "How much is 5000 Korean wons worth in Indonesian Rupiahs?\n"
     ]
    }
   ],
   "source": [
    "# user prompt\n",
    "print(prompt)"
   ]
  },
  {
   "cell_type": "code",
   "execution_count": 25,
   "metadata": {},
   "outputs": [
    {
     "data": {
      "text/plain": [
       "' 1 Korean Won is equal to 11.8064 Indonesian Rupiah in 2024-01-26. \\n5000 Korean Won is equal to 59032 Indonesian Rupiah in 2024-01-26.'"
      ]
     },
     "execution_count": 25,
     "metadata": {},
     "output_type": "execute_result"
    }
   ],
   "source": [
    "response = model.generate_content(\n",
    "    [\n",
    "    Content(role=\"user\", parts=[\n",
    "        Part.from_text(prompt + \"\"\"Give your answer in steps with lots of detail\n",
    "            and context, including the exchange rate and date.\"\"\"),\n",
    "    ]),\n",
    "    Content(role=\"function\", parts=[\n",
    "        Part.from_dict({\n",
    "            \"function_call\": {\n",
    "                \"name\": \"get_exchange_rate\",\n",
    "            }\n",
    "        })\n",
    "    ]),\n",
    "    Content(role=\"function\", parts=[\n",
    "        Part.from_function_response(\n",
    "            name=\"get_exchange_rate\",\n",
    "            response={\n",
    "                \"content\": api_response.text,\n",
    "            }\n",
    "        )\n",
    "    ]),\n",
    "    ],\n",
    "    tools=[exchange_rate_tool],\n",
    ")\n",
    "\n",
    "\n",
    "response.candidates[0].content.parts[0].text"
   ]
  },
  {
   "cell_type": "code",
   "execution_count": 26,
   "metadata": {},
   "outputs": [
    {
     "data": {
      "text/markdown": [
       " 1 Korean Won is equal to 11.8064 Indonesian Rupiah in 2024-01-26. \n",
       "5000 Korean Won is equal to 59032 Indonesian Rupiah in 2024-01-26."
      ],
      "text/plain": [
       "<IPython.core.display.Markdown object>"
      ]
     },
     "metadata": {},
     "output_type": "display_data"
    }
   ],
   "source": [
    "# beautify the response\n",
    "display(Markdown(response.candidates[0].content.parts[0].text))"
   ]
  }
 ],
 "metadata": {
  "kernelspec": {
   "display_name": "notebook",
   "language": "python",
   "name": "python3"
  },
  "language_info": {
   "codemirror_mode": {
    "name": "ipython",
    "version": 3
   },
   "file_extension": ".py",
   "mimetype": "text/x-python",
   "name": "python",
   "nbconvert_exporter": "python",
   "pygments_lexer": "ipython3",
   "version": "3.9.18"
  }
 },
 "nbformat": 4,
 "nbformat_minor": 2
}
