{
 "cells": [
  {
   "cell_type": "markdown",
   "metadata": {},
   "source": [
    "## Overview\n",
    "\n",
    "Ideation is the creative process of generating, developing, and communicating new ideas. It is a key part of the design thinking process, and can be used to solve problems, come up with new products or services, or other creative tasks.\n",
    "\n",
    "Generative models are a powerful tool that can be used to boost creativity and innovation. By learning how to use them effectively, you can improve your ability to come up with new ideas and solutions to problems. A key part in this is learning how to structure prompts to use generative models for ideation tasks.\n",
    "\n",
    "Learn more about prompt design in the [official documentation](https://cloud.google.com/vertex-ai/docs/generative-ai/text/text-overview#prompt_structure).\n",
    "\n",
    "## Objective\n",
    "\n",
    "In this tutorial, we will learn how to use generative models from the Vertex AI SDK to accelerate the ideation process by working through the following examples:\n",
    "\n",
    "* Marketing campaign generation\n",
    "* Creating reading comprehension questions\n",
    "* Meme generation\n",
    "* Interview question generation\n",
    "* Name generation\n",
    "* General tips and advice\n",
    "* Generating answers through \"impersonation\""
   ]
  },
  {
   "cell_type": "code",
   "execution_count": 1,
   "metadata": {},
   "outputs": [],
   "source": [
    "# import libraries\n",
    "import os\n",
    "import vertexai\n",
    "from IPython.display import Markdown, display\n",
    "from google.oauth2 import service_account\n",
    "from dotenv import load_dotenv\n",
    "from vertexai.language_models import TextGenerationModel"
   ]
  },
  {
   "cell_type": "code",
   "execution_count": 2,
   "metadata": {},
   "outputs": [],
   "source": [
    "# initiate service account (authentication)\n",
    "json_path = '../llm-ai.json' # replace with your own service account\n",
    "credentials = service_account.Credentials.from_service_account_file(json_path)"
   ]
  },
  {
   "cell_type": "code",
   "execution_count": 3,
   "metadata": {},
   "outputs": [],
   "source": [
    "# start Vertex AI\n",
    "load_dotenv()\n",
    "vertexai.init(project=os.environ[\"PROJECT_ID\"], # replace with your own project\n",
    "              credentials=credentials)"
   ]
  },
  {
   "cell_type": "code",
   "execution_count": 4,
   "metadata": {},
   "outputs": [],
   "source": [
    "# load the model\n",
    "generation_model = TextGenerationModel.from_pretrained(\"text-bison@001\")"
   ]
  },
  {
   "cell_type": "markdown",
   "metadata": {},
   "source": [
    "### Ideation Examples\n",
    "\n",
    "#### 1. Marketing campaign generation\n",
    "\n",
    "In this example, our generation example will involve the process of creating new cookie recipes. Let's see how this can be done using the PaLM API."
   ]
  },
  {
   "cell_type": "code",
   "execution_count": 5,
   "metadata": {},
   "outputs": [
    {
     "data": {
      "text/markdown": [
       "**Campaign Overview**\n",
       "\n",
       "This campaign will target small and medium-sized businesses (SMBs) that are looking for an ERP solution to help them improve their efficiency and productivity. The campaign will use a variety of marketing channels, including email, social media, and paid advertising, to reach potential customers and generate leads.\n",
       "\n",
       "**Target Audience**\n",
       "\n",
       "The target audience for this campaign is SMBs in a variety of industries, including manufacturing, retail, and healthcare. These businesses are typically looking for an ERP solution that can help them with tasks such as:\n",
       "\n",
       "* Managing inventory\n",
       "* Tracking orders\n",
       "* Generating invoices\n",
       "* Paying bills\n",
       "* Automating workflows\n",
       "\n",
       "**Marketing Objectives**\n",
       "\n",
       "The marketing objectives for this campaign are to:\n",
       "\n",
       "* Generate leads for the company's ERP solution\n",
       "* Increase brand awareness among SMBs\n",
       "* Position the company as a trusted provider of ERP solutions\n",
       "\n",
       "**Marketing Strategies**\n",
       "\n",
       "The marketing strategies that will be used to achieve these objectives include:\n",
       "\n",
       "* Email marketing: The company will send targeted emails to potential customers, highlighting the benefits of its ERP solution.\n",
       "* Social media marketing: The company will use social media platforms such as LinkedIn and Twitter to share content that is relevant to SMBs, such as tips on improving efficiency and productivity.\n",
       "* Paid advertising: The company will use paid advertising to target potential customers who are searching for ERP solutions online.\n",
       "\n",
       "**Budget**\n",
       "\n",
       "The budget for this campaign is \\$10,000.\n",
       "\n",
       "**Timeline**\n",
       "\n",
       "The campaign will run for six months.\n",
       "\n",
       "**Evaluation**\n",
       "\n",
       "The success of this campaign will be evaluated based on the following metrics:\n",
       "\n",
       "* Leads generated\n",
       "* Website traffic\n",
       "* Brand awareness\n",
       "\n",
       "**Conclusion**\n",
       "\n",
       "This marketing campaign has the potential to generate leads for the company's ERP solution and increase brand awareness among SMBs. By using a variety of marketing channels, the company can reach a wider audience and position itself as a trusted provider of ERP solutions."
      ],
      "text/plain": [
       "<IPython.core.display.Markdown object>"
      ]
     },
     "metadata": {},
     "output_type": "display_data"
    }
   ],
   "source": [
    "prompt = \"Generate a marketing campaign for B2B software company offering ERP to small and medium businesses.\"\n",
    "\n",
    "# you may use print instead of display\n",
    "display(Markdown(\n",
    "        generation_model.predict(\n",
    "            prompt, temperature=0.2, max_output_tokens=1024, top_k=40, top_p=0.8\n",
    "        ).text\n",
    "    )\n",
    ")"
   ]
  },
  {
   "cell_type": "markdown",
   "metadata": {},
   "source": [
    "#### 2. Creating reading comprehension questions\n",
    "\n",
    "Reading comprehension tests are often used in schools and universities to assess a student's reading skills. You can use the PaLM API to generate some example questions to test a person's understanding of a provided passage of text."
   ]
  },
  {
   "cell_type": "code",
   "execution_count": 7,
   "metadata": {},
   "outputs": [
    {
     "data": {
      "text/markdown": [
       "1. What is the name of the largest rainforest in the world?\n",
       "2. What is the name of the region that encompasses the Amazon rainforest?\n",
       "3. What is the name of the country that contains the majority of the Amazon rainforest?\n",
       "4. What is the name of the region that contains the majority of the Amazon rainforest's indigenous people?\n",
       "5. What is the name of the region that contains the majority of the Amazon rainforest's biodiversity?"
      ],
      "text/plain": [
       "<IPython.core.display.Markdown object>"
      ]
     },
     "metadata": {},
     "output_type": "display_data"
    }
   ],
   "source": [
    "prompt = \"\"\"\n",
    "Generate 5 questions that test a reader's comprehension of the following text.\n",
    "\n",
    "Text:\n",
    "The Amazon rainforest, also called Amazon jungle or Amazonia, is a moist broadleaf tropical rainforest in the Amazon biome that covers most of the Amazon basin of South America. This basin encompasses 7,000,000 km2 (2,700,000 sq mi), of which 5,500,000 km2 (2,100,000 sq mi) are covered by the rainforest. This region includes territory belonging to nine nations and 3,344 formally acknowledged indigenous territories.\n",
    "\n",
    "The majority of the forest, 60%, is in Brazil, followed by Peru with 13%, Colombia with 10%, and with minor amounts in Bolivia, Ecuador, French Guiana, Guyana, Suriname, and Venezuela. Four nations have \"Amazonas\" as the name of one of their first-level administrative regions, and France uses the name \"Guiana Amazonian Park\" for French Guiana's protected rainforest area. The Amazon represents over half of the planet's remaining rainforests, and comprises the largest and most biodiverse tract of tropical rainforest in the world, with an estimated 390 billion individual trees in about 16,000 species.\n",
    "\n",
    "More than 30 million people of 350 different ethnic groups live in the Amazon, which are subdivided into 9 different national political systems and 3,344 formally acknowledged indigenous territories. Indigenous peoples make up 9% of the total population, and 60 of the groups remain largely isolated.\n",
    "\n",
    "The rainforest likely formed during the Eocene era (from 56 million years to 33.9 million years ago). It appeared following a global reduction of tropical temperatures when the Atlantic Ocean had widened sufficiently to provide a warm, moist climate to the Amazon basin. The rainforest has been in existence for at least 55 million years, and most of the region remained free of savanna-type biomes at least until the current ice age when the climate was drier and savanna more widespread.\n",
    "\n",
    "Following the Cretaceous–Paleogene extinction event, the extinction of the dinosaurs and the wetter climate may have allowed the tropical rainforest to spread out across the continent. From 66 to 34 Mya, the rainforest extended as far south as 45°. Climate fluctuations during the last 34 million years have allowed savanna regions to expand into the tropics. During the Oligocene, for example, the rainforest spanned a relatively narrow band. It expanded again during the Middle Miocene, then retracted to a mostly inland formation at the last glacial maximum. However, the rainforest still managed to thrive during these glacial periods, allowing for the survival and evolution of a broad diversity of species.\n",
    "\n",
    "Aerial view of the Amazon rainforest\n",
    "During the mid-Eocene, it is believed that the drainage basin of the Amazon was split along the middle of the continent by the Púrus Arch. Water on the eastern side flowed toward the Atlantic, while to the west water flowed toward the Pacific across the Amazonas Basin. As the Andes Mountains rose, however, a large basin was created that enclosed a lake; now known as the Solimões Basin. Within the last 5–10 million years, this accumulating water broke through the Púrus Arch, joining the easterly flow toward the Atlantic.\n",
    "\n",
    "There is evidence that there have been significant changes in the Amazon rainforest vegetation over the last 21,000 years through the last glacial maximum (LGM) and subsequent deglaciation. Analyses of sediment deposits from Amazon basin paleolakes and the Amazon Fan indicate that rainfall in the basin during the LGM was lower than for the present, and this was almost certainly associated with reduced moist tropical vegetation cover in the basin. In present day, the Amazon receives approximately 9 feet of rainfall annually. There is a debate, however, over how extensive this reduction was. Some scientists argue that the rainforest was reduced to small, isolated refugia separated by open forest and grassland; other scientists argue that the rainforest remained largely intact but extended less far to the north, south, and east than is seen today. This debate has proved difficult to resolve because the practical limitations of working in the rainforest mean that data sampling is biased away from the center of the Amazon basin, and both explanations are reasonably well supported by the available data.\n",
    "\n",
    "Sahara Desert dust windblown to the Amazon\n",
    "More than 56% of the dust fertilizing the Amazon rainforest comes from the Bodélé depression in Northern Chad in the Sahara desert. The dust contains phosphorus, important for plant growth. The yearly Sahara dust replaces the equivalent amount of phosphorus washed away yearly in Amazon soil from rains and floods.\n",
    "\n",
    "NASA's CALIPSO satellite has measured the amount of dust transported by wind from the Sahara to the Amazon: an average of 182 million tons of dust are windblown out of the Sahara each year, at 15 degrees west longitude, across 2,600 km (1,600 mi) over the Atlantic Ocean (some dust falls into the Atlantic), then at 35 degrees West longitude at the eastern coast of South America, 27.7 million tons (15%) of dust fall over the Amazon basin (22 million tons of it consisting of phosphorus), 132 million tons of dust remain in the air, 43 million tons of dust are windblown and falls on the Caribbean Sea, past 75 degrees west longitude.\n",
    "\n",
    "CALIPSO uses a laser range finder to scan the Earth's atmosphere for the vertical distribution of dust and other aerosols. CALIPSO regularly tracks the Sahara-Amazon dust plume. CALIPSO has measured variations in the dust amounts transported – an 86 percent drop between the highest amount of dust transported in 2007 and the lowest in 2011.\n",
    "A possibility causing the variation is the Sahel, a strip of semi-arid land on the southern border of the Sahara. When rain amounts in the Sahel are higher, the volume of dust is lower. The higher rainfall could make more vegetation grow in the Sahel, leaving less sand exposed to winds to blow away.[25]\n",
    "\n",
    "Amazon phosphorus also comes as smoke due to biomass burning in Africa.\n",
    "\n",
    "Questions:\n",
    "\"\"\"\n",
    "# you may use print instead of display\n",
    "display(Markdown(\n",
    "        generation_model.predict(\n",
    "            prompt, temperature=0.2, max_output_tokens=1024, top_k=40, top_p=0.8\n",
    "        ).text\n",
    "    )\n",
    ")\n"
   ]
  },
  {
   "cell_type": "markdown",
   "metadata": {},
   "source": [
    "#### 3. Meme generation\n",
    "\n",
    "A more lighthearted text generation example is to generate memes based on a certain topic."
   ]
  },
  {
   "cell_type": "code",
   "execution_count": 8,
   "metadata": {},
   "outputs": [
    {
     "data": {
      "text/markdown": [
       "1. A dog sitting in a chair with a newspaper in its mouth, with the caption \"I'm just waiting for my human to get home so I can tell them all about my day.\"\n",
       "2. A dog looking at a computer screen with the caption \"When you see your human looking at memes on the internet.\"\n",
       "3. A dog wearing a hat and sunglasses with the caption \"I'm too cool for school.\"\n",
       "4. A dog playing fetch with a ball in the park with the caption \"I'm having the best day ever.\"\n",
       "5. A dog sleeping on the couch with the caption \"I'm so tired from playing all day.\""
      ],
      "text/plain": [
       "<IPython.core.display.Markdown object>"
      ]
     },
     "metadata": {},
     "output_type": "display_data"
    }
   ],
   "source": [
    "prompt = \"Give me 5 dog meme ideas:\"\n",
    "\n",
    "# you may use print instead of display\n",
    "display(Markdown(\n",
    "        generation_model.predict(\n",
    "            prompt, temperature=0.2, max_output_tokens=1024, top_k=1, top_p=0.8\n",
    "        ).text\n",
    "    )\n",
    ")"
   ]
  },
  {
   "cell_type": "markdown",
   "metadata": {},
   "source": [
    "#### 4. Interview question generation\n",
    "\n",
    "Whether we are the interviewer or interviewee, having some sample interview questions we can work with can be very helpful in job interviews. Below we use the PaLM API to help us generate some potential interview questions for a particular role."
   ]
  },
  {
   "cell_type": "code",
   "execution_count": 11,
   "metadata": {},
   "outputs": [
    {
     "data": {
      "text/markdown": [
       "1. What are the benefits of using Google Cloud Platform for data engineering?\n",
       "2. How would you optimize costs for a BigQuery data warehouse?\n",
       "3. Can you explain the difference between a data pipeline and a CI/CD pipeline?\n",
       "4. What are the advantages of using dbt cloud?\n",
       "5. How would you implement data governance and security controls in a data warehouse?\n",
       "6. What are the best practices for managing data quality in a data warehouse?\n",
       "7. How would you design a data lake architecture?\n",
       "8. How would you implement a data mesh architecture?\n",
       "9. What are the challenges of working with big data?\n",
       "10. What are the latest trends in data engineering?"
      ],
      "text/plain": [
       "<IPython.core.display.Markdown object>"
      ]
     },
     "metadata": {},
     "output_type": "display_data"
    }
   ],
   "source": [
    "prompt =\"\"\"\"\n",
    "Give me ten interview advanced questions for the role of senior data engineer.\n",
    "The questions should cover the following topics:\n",
    "1. Google Cloud Infrastructure\n",
    "2. Cost Optimization (BigQuery, Cloud Storage, Cloud Composer, etc.)\n",
    "3. Data Pipeline and CI/CD using Git/GitHub\n",
    "4. dbt cloud\n",
    "5. Data Governance and security\n",
    "\"\"\" \n",
    "\n",
    "# you may use print instead of display\n",
    "display(Markdown(\n",
    "        generation_model.predict(\n",
    "            prompt, temperature=0.7, max_output_tokens=512, top_k=1, top_p=0.8\n",
    "        ).text\n",
    "    )\n",
    ")"
   ]
  },
  {
   "cell_type": "markdown",
   "metadata": {},
   "source": [
    "#### 5. Name generation\n",
    "\n",
    "Name generation is useful in a variety of scenarios, such as creating new characters for a story or naming a new product or company. We can generate ideas for names of a specified entity using the PaLM API."
   ]
  },
  {
   "cell_type": "code",
   "execution_count": 13,
   "metadata": {},
   "outputs": [
    {
     "data": {
      "text/markdown": [
       "* **Dried & Lovely**\n",
       "* **Dried Blooms**\n",
       "* **Dried Florals**\n",
       "* **Dried Arrangements**\n",
       "* **Dried Bouquets**\n",
       "* **Dried Flowers**\n",
       "* **Preserved Flowers**\n",
       "* **Forever Flowers**\n",
       "* **Immortal Flowers**\n",
       "* **Timeless Flowers**\n",
       "* **Seasonal Flowers**\n",
       "* **Festive Flowers**\n",
       "* **Holiday Flowers**\n",
       "* **Special Occasion Flowers**\n",
       "* **Wedding Flowers**\n",
       "* **Anniversary Flowers**\n",
       "* **Birthday Flowers**\n",
       "* **Sympathy Flowers**\n",
       "* **Condolence Flowers**\n",
       "* **Get Well Flowers**\n",
       "* **Thank You Flowers**\n",
       "* **I'm Sorry Flowers**\n",
       "* **I Love You Flowers**"
      ],
      "text/plain": [
       "<IPython.core.display.Markdown object>"
      ]
     },
     "metadata": {},
     "output_type": "display_data"
    }
   ],
   "source": [
    "prompt = \"What's a good name for a flower shop that specializes in selling bouquets of dried flowers?\"\n",
    "\n",
    "display(Markdown(\n",
    "        generation_model.predict(\n",
    "            prompt, temperature=0.8, max_output_tokens=256, top_k=1, top_p=0.8 # increase temperature to get more creative\n",
    "        ).text\n",
    "    )\n",
    ")"
   ]
  },
  {
   "cell_type": "markdown",
   "metadata": {},
   "source": [
    "#### 6. General tips and advice\n",
    "\n",
    "Below is an example of using the PaLM API to get tips and advice on general topics."
   ]
  },
  {
   "cell_type": "code",
   "execution_count": 14,
   "metadata": {},
   "outputs": [
    {
     "data": {
      "text/markdown": [
       "* **Set a timer.** Sometimes, the best way to get started is to just start. Set a timer for 10 minutes and write whatever comes to mind. Don't worry about editing or making it perfect. Just write.\n",
       "* **Freewrite.** Another way to get started is to freewrite. This means writing without stopping for a set period of time, usually 10-15 minutes. Don't worry about spelling, grammar, or punctuation. Just write whatever comes to mind.\n",
       "* **Write about your feelings.** If you're feeling stuck, try writing about your feelings. This can help you to get in touch with your creativity and start to generate ideas.\n",
       "* **Take a break.** Sometimes, the best way to overcome writer's block is to take a break. Step away from your work for a little while and do something else. Go for a walk, listen to music, or spend time with friends or family. When you come back to your work, you'll often find that you're feeling refreshed and ready to write.\n",
       "* **Get feedback.** If you're still struggling, try getting feedback from someone else. This could be a friend, family member, teacher, or writing coach. Feedback can help you to identify areas where your writing can be improved, and it can also give you the motivation to keep writing.\n",
       "* **Don't give up.** Writer's block is a common problem, but it's not impossible to overcome. Just keep writing, and eventually you'll find your way through it."
      ],
      "text/plain": [
       "<IPython.core.display.Markdown object>"
      ]
     },
     "metadata": {},
     "output_type": "display_data"
    }
   ],
   "source": [
    "prompt = \"What are some strategies for overcoming writer's block?\"\n",
    "\n",
    "display(Markdown(\n",
    "        generation_model.predict(\n",
    "            prompt, temperature=0.2, max_output_tokens=1024, top_k=1, top_p=0.8\n",
    "        ).text\n",
    "    )\n",
    ")"
   ]
  },
  {
   "cell_type": "markdown",
   "metadata": {},
   "source": [
    "#### 7. Generating answers through \"impersonation\"\n",
    "\n",
    "Below is an example for using PaLM API to impersonating a pirate."
   ]
  },
  {
   "cell_type": "code",
   "execution_count": 16,
   "metadata": {},
   "outputs": [
    {
     "data": {
      "text/markdown": [
       "A pirate would say: \"Yer learnin' should be fer the long haul, but yer livin' should be fer the moment.\""
      ],
      "text/plain": [
       "<IPython.core.display.Markdown object>"
      ]
     },
     "metadata": {},
     "output_type": "display_data"
    }
   ],
   "source": [
    "prompt = \"\"\"You are a pirate. Take the following sentence and rephrase it as a pirate.\n",
    "'Learn as if you will live forever, live like you will die tomorrow.' \n",
    "\"\"\"\n",
    "\n",
    "display(Markdown(\n",
    "        generation_model.predict(\n",
    "            prompt, temperature=0.8, max_output_tokens=1024, top_k=40, top_p=0.8\n",
    "        ).text\n",
    "    )\n",
    ")"
   ]
  },
  {
   "cell_type": "markdown",
   "metadata": {},
   "source": [
    "We can try the other prompts based on our cases"
   ]
  }
 ],
 "metadata": {
  "kernelspec": {
   "display_name": "notebook",
   "language": "python",
   "name": "python3"
  },
  "language_info": {
   "codemirror_mode": {
    "name": "ipython",
    "version": 3
   },
   "file_extension": ".py",
   "mimetype": "text/x-python",
   "name": "python",
   "nbconvert_exporter": "python",
   "pygments_lexer": "ipython3",
   "version": "3.9.18"
  }
 },
 "nbformat": 4,
 "nbformat_minor": 2
}
