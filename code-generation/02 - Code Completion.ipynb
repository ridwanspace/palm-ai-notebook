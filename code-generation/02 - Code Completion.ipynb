{
 "cells": [
  {
   "cell_type": "markdown",
   "metadata": {},
   "source": [
    "## Overview\n",
    "This notebook aims to provide a hands-on introduction to code completion using Codey models, specifically the `code-gecko` model. You will learn how to create prompts to interact with the `code-gecko` model and generate code suggestions based on the context of the code we're writing.\n",
    "\n",
    "## Objectives\n",
    "In this tutorial, we will learn various code completion examples for completing:\n",
    "\n",
    "* Functions\n",
    "* Classes\n",
    "* Statements\n",
    "* Expressions & Variables\n",
    "* Imports\n",
    "\n",
    "### Code Completion\n",
    "What is Code Completion?\n",
    "\n",
    "Code completion is a feature in many integrated development environments (IDEs) that suggests code to the programmer as they are typing. This can save time and help to prevent errors. Code completion suggestions are based on the context of the code being written, such as the programming language, the current line of code, and the variables that have been defined.\n",
    "\n",
    "Benefits of using code completion?\n",
    "\n",
    "There are several benefits to using code completion in general, including:\n",
    "\n",
    "* **Increased productivity**: Code completion can save programmers a lot of time by suggesting code as they are typing. This can free them up to focus on other tasks, such as designing the architecture of their software or debugging their code.\n",
    "\n",
    "* **Reduced errors**: Code completion can help to reduce errors by suggesting code that is syntactically correct and semantically meaningful. This can be especially helpful when programmers are working with new or unfamiliar programming languages or APIs.\n",
    "\n",
    "* **Improved code quality**: Code completion can help to improve the quality of code by suggesting code that is consistent with the style guide of the project. This can make the code more readable and maintainable.\n",
    "\n",
    "Code Completion and IDE Intergation:\n",
    "\n",
    "When code completion through Codey Model is integrated with an IDE, it can be even more powerful. The IDE can use its knowledge of the project's structure and codebase to provide more accurate and relevant suggestions. For example, if the programmer is typing code in a class, the IDE can suggest methods and fields from that class.\n",
    "\n",
    "Here are some of the benefits of using code completion with integration with different IDEs:\n",
    "\n",
    "* **Increased productivity**: Code completion can help programmers write code more quickly and accurately, which can lead to significant productivity gains.\n",
    "\n",
    "* **Improved code quality**: Code completion can help programmers avoid errors and typos, and can also suggest more efficient and idiomatic code.\n",
    "\n",
    "* **Better code readability**: Code completion can help programmers write more readable and maintainable code by suggesting consistent variable names and function signatures.\n",
    "\n",
    "* **Reduced learning curve**: Code completion can help new programmers learn new languages and frameworks more quickly by suggesting the correct symbols and functions to use.\n",
    "\n",
    "\n",
    "### Code completion with `code-gecko@002`\n",
    "The Vertex AI Codey APIs include the code completion API, which supports code suggestions based on code that's recently written. Use the generative AI foundation model named code-gecko to interact with the code completion API.\n",
    "\n",
    "To learn more about creating prompts for code completion, see Create prompts for code completion.\n",
    "\n",
    "Code completion API has few more parameters than code generation.\n",
    "\n",
    "`prefix`: _required_ : For code models, prefix represents the beginning of a piece of meaningful programming code or a natural language prompt that describes code to be generated.\n",
    "\n",
    "`suffix`: _optional_ : For code completion, suffix represents the end of a piece of meaningful programming code. The model attempts to fill in the code in between the prefix and suffix.\n",
    "\n",
    "`temperature`: _required_ : Temperature controls the degree of randomness in token selection. Same as for other models. range: (0.0 - 1.0, default 0)\n",
    "\n",
    "`maxOutputTokens`: _required_ : Maximum number of tokens that can be generated in the response. range: (1 - 64, default 64)\n",
    "\n",
    "`stopSequences`: _optional_ : Specifies a list of strings that tells the model to stop generating text if one of the strings is encountered in the response. The strings are case-sensitive."
   ]
  },
  {
   "cell_type": "code",
   "execution_count": 1,
   "metadata": {},
   "outputs": [],
   "source": [
    "# import libraries\n",
    "import os\n",
    "import vertexai\n",
    "from IPython.display import Markdown, display\n",
    "from google.oauth2 import service_account\n",
    "from dotenv import load_dotenv\n",
    "from vertexai.language_models import CodeGenerationModel"
   ]
  },
  {
   "cell_type": "code",
   "execution_count": 2,
   "metadata": {},
   "outputs": [],
   "source": [
    "# initiate service account (authentication)\n",
    "json_path = '../llm-ai.json' # replace with your own service account\n",
    "credentials = service_account.Credentials.from_service_account_file(json_path)"
   ]
  },
  {
   "cell_type": "code",
   "execution_count": 3,
   "metadata": {},
   "outputs": [],
   "source": [
    "# start Vertex AI\n",
    "load_dotenv()\n",
    "vertexai.init(project=os.environ[\"PROJECT_ID\"], # replace with your own project\n",
    "              credentials=credentials)"
   ]
  },
  {
   "cell_type": "code",
   "execution_count": 4,
   "metadata": {},
   "outputs": [],
   "source": [
    "# load the model\n",
    "code_completion_model = CodeGenerationModel.from_pretrained(\"code-gecko@latest\")"
   ]
  },
  {
   "cell_type": "markdown",
   "metadata": {},
   "source": [
    "#### Hello Codey Completion\n",
    "\n",
    "**1. Python**"
   ]
  },
  {
   "cell_type": "code",
   "execution_count": 5,
   "metadata": {},
   "outputs": [
    {
     "data": {
      "text/markdown": [
       "           return string_s.find(x)"
      ],
      "text/plain": [
       "<IPython.core.display.Markdown object>"
      ]
     },
     "metadata": {},
     "output_type": "display_data"
    }
   ],
   "source": [
    "prefix = \"\"\"def find_x_in_string(string_s, x):\n",
    "\n",
    "         \"\"\"\n",
    "\n",
    "response = code_completion_model.predict(prefix=prefix,\n",
    "                                         max_output_tokens=64).text\n",
    "\n",
    "# you may use print() or display()\n",
    "display(\n",
    "    Markdown(response)\n",
    ")"
   ]
  },
  {
   "cell_type": "code",
   "execution_count": 6,
   "metadata": {},
   "outputs": [
    {
     "data": {
      "text/markdown": [
       "   assert reverse_string(\"\") == \"\""
      ],
      "text/plain": [
       "<IPython.core.display.Markdown object>"
      ]
     },
     "metadata": {},
     "output_type": "display_data"
    }
   ],
   "source": [
    "prefix = \"\"\"\n",
    "         def reverse_string(s):\n",
    "            return s[::-1]\n",
    "         def test_empty_input_string():\n",
    "         \"\"\"\n",
    "\n",
    "response = code_completion_model.predict(prefix=prefix,\n",
    "                                         max_output_tokens=64).text\n",
    "\n",
    "# you may use print() or display()\n",
    "display(\n",
    "    Markdown(response)\n",
    ")"
   ]
  },
  {
   "cell_type": "markdown",
   "metadata": {},
   "source": [
    "**2. Java**"
   ]
  },
  {
   "cell_type": "code",
   "execution_count": 7,
   "metadata": {},
   "outputs": [
    {
     "data": {
      "text/markdown": [
       "               myList.add(\"Hello, world!\");\n",
       "        //print the `ArrayList`"
      ],
      "text/plain": [
       "<IPython.core.display.Markdown object>"
      ]
     },
     "metadata": {},
     "output_type": "display_data"
    }
   ],
   "source": [
    "prefix = \"\"\"\n",
    "        ArrayList<String> myList = new ArrayList<>();\n",
    "        //add the `String` \"Hello, world!\" to the `ArrayList`:\n",
    "         \"\"\"\n",
    "\n",
    "response = code_completion_model.predict(prefix=prefix,\n",
    "                                         max_output_tokens=64).text\n",
    "\n",
    "# you may use print() or display()\n",
    "display(\n",
    "    Markdown(response)\n",
    ")"
   ]
  },
  {
   "cell_type": "code",
   "execution_count": 8,
   "metadata": {},
   "outputs": [
    {
     "data": {
      "text/markdown": [
       "   return strings.stream().distinct().collect"
      ],
      "text/plain": [
       "<IPython.core.display.Markdown object>"
      ]
     },
     "metadata": {},
     "output_type": "display_data"
    }
   ],
   "source": [
    "prefix = \"\"\"\n",
    "        public static List<String> getUniqueStrings(List<String> strings) {\n",
    "         \"\"\"\n",
    "\n",
    "response = code_completion_model.predict(prefix=prefix,\n",
    "                                         max_output_tokens=64).text\n",
    "\n",
    "# you may use print() or display()\n",
    "display(\n",
    "    Markdown(response)\n",
    ")"
   ]
  },
  {
   "cell_type": "code",
   "execution_count": 9,
   "metadata": {},
   "outputs": [
    {
     "data": {
      "text/markdown": [
       "   System.out.println(name);"
      ],
      "text/plain": [
       "<IPython.core.display.Markdown object>"
      ]
     },
     "metadata": {},
     "output_type": "display_data"
    }
   ],
   "source": [
    "prefix = \"\"\"\n",
    "        String[] names = {\"Alice\", \"Bob\", \"Carol\"};\n",
    "        for (String name : names) {\n",
    "         \"\"\"\n",
    "\n",
    "response = code_completion_model.predict(prefix=prefix,\n",
    "                                         max_output_tokens=64).text\n",
    "\n",
    "# you may use print() or display()\n",
    "display(\n",
    "    Markdown(response)\n",
    ")"
   ]
  },
  {
   "cell_type": "markdown",
   "metadata": {},
   "source": [
    "**3. JavaScript**"
   ]
  },
  {
   "cell_type": "code",
   "execution_count": 10,
   "metadata": {},
   "outputs": [
    {
     "data": {
      "text/markdown": [
       "   if (n == 0) {\n",
       "                return 1;\n",
       "            } else {\n",
       "                return n * factorial(n - 1);\n",
       "            }"
      ],
      "text/plain": [
       "<IPython.core.display.Markdown object>"
      ]
     },
     "metadata": {},
     "output_type": "display_data"
    }
   ],
   "source": [
    "prefix = \"\"\"\n",
    "        #javaScript\n",
    "        function factorial(n) {\n",
    "         \"\"\"\n",
    "\n",
    "response = code_completion_model.predict(prefix=prefix,\n",
    "                                         max_output_tokens=64).text\n",
    "\n",
    "# you may use print() or display()\n",
    "display(\n",
    "    Markdown(response)\n",
    ")"
   ]
  },
  {
   "cell_type": "code",
   "execution_count": 11,
   "metadata": {},
   "outputs": [
    {
     "data": {
      "text/markdown": [
       "              \n",
       "        console.log(greeting);"
      ],
      "text/plain": [
       "<IPython.core.display.Markdown object>"
      ]
     },
     "metadata": {},
     "output_type": "display_data"
    }
   ],
   "source": [
    "prefix = \"\"\"\n",
    "        function greet(name) {\n",
    "            return \"Hello, \" + name + \"!\";\n",
    "          }\n",
    "        const greeting = greet(YOUR_NAME_HERE);\n",
    "         \"\"\"\n",
    "\n",
    "response = code_completion_model.predict(prefix=prefix).text\n",
    "\n",
    "# you may use print() or display()\n",
    "display(\n",
    "    Markdown(response)\n",
    ")"
   ]
  },
  {
   "cell_type": "markdown",
   "metadata": {},
   "source": [
    "**4. C++/C**"
   ]
  },
  {
   "cell_type": "code",
   "execution_count": 12,
   "metadata": {},
   "outputs": [
    {
     "data": {
      "text/markdown": [
       " printf(\"%s\\n\", str);"
      ],
      "text/plain": [
       "<IPython.core.display.Markdown object>"
      ]
     },
     "metadata": {},
     "output_type": "display_data"
    }
   ],
   "source": [
    "prefix = \"\"\"\n",
    "        int main() {\n",
    "          char str[] = \"Hello, world!\";\n",
    "         \"\"\"\n",
    "\n",
    "response = code_completion_model.predict(prefix=prefix).text\n",
    "\n",
    "# you may use print() or display()\n",
    "display(\n",
    "    Markdown(response)\n",
    ")"
   ]
  },
  {
   "cell_type": "code",
   "execution_count": 16,
   "metadata": {},
   "outputs": [
    {
     "data": {
      "text/markdown": [
       "       linkedList.findNode(2);\n",
       "        System.out.println(value);\n",
       "\n",
       "        linkedList.deleteNode(3);\n",
       "        linkedList.deleteNode(2);\n",
       "        linkedList.deleteNode(1);\n",
       "\n",
       "        linkedList.printList();"
      ],
      "text/plain": [
       "<IPython.core.display.Markdown object>"
      ]
     },
     "metadata": {},
     "output_type": "display_data"
    }
   ],
   "source": [
    "prefix = \"\"\"\n",
    "        LinkedList linkedList;\n",
    "\n",
    "        linkedList.addNode(1);\n",
    "        linkedList.addNode(2);\n",
    "        linkedList.addNode(3);\n",
    "\n",
    "        int value =\n",
    "         \"\"\"\n",
    "\n",
    "response = code_completion_model.predict(prefix=prefix, max_output_tokens=64).text\n",
    "\n",
    "# you may use print() or display()\n",
    "display(\n",
    "    Markdown(response)\n",
    ")"
   ]
  },
  {
   "cell_type": "markdown",
   "metadata": {},
   "source": [
    "#### Code Completion Example\n",
    "\n",
    "**1. Completing functions**"
   ]
  },
  {
   "cell_type": "code",
   "execution_count": 17,
   "metadata": {},
   "outputs": [
    {
     "data": {
      "text/markdown": [
       "       return math.sqrt(x)"
      ],
      "text/plain": [
       "<IPython.core.display.Markdown object>"
      ]
     },
     "metadata": {},
     "output_type": "display_data"
    }
   ],
   "source": [
    "prefix = \"\"\"import math\n",
    "            # Start typing the name of a function\n",
    "            def sqrt(x):\n",
    "         \"\"\"\n",
    "\n",
    "response = code_completion_model.predict(prefix=prefix,\n",
    "                                         max_output_tokens=64).text\n",
    "\n",
    "# you may use print() or display()\n",
    "display(\n",
    "    Markdown(response)\n",
    ")\n"
   ]
  },
  {
   "cell_type": "code",
   "execution_count": 18,
   "metadata": {},
   "outputs": [
    {
     "data": {
      "text/markdown": [
       "   greet(\"World\")"
      ],
      "text/plain": [
       "<IPython.core.display.Markdown object>"
      ]
     },
     "metadata": {},
     "output_type": "display_data"
    }
   ],
   "source": [
    "prefix = \"\"\"def greet(name):\n",
    "              print(f\"Hello, {name}!\")\n",
    "\n",
    "            # Call the greet() function\n",
    "         \"\"\"\n",
    "\n",
    "response = code_completion_model.predict(prefix=prefix,\n",
    "                                         max_output_tokens=64).text\n",
    "\n",
    "# you may use print() or display()\n",
    "display(\n",
    "    Markdown(response)\n",
    ")"
   ]
  },
  {
   "cell_type": "markdown",
   "metadata": {},
   "source": [
    "**2. Completing Class**"
   ]
  },
  {
   "cell_type": "code",
   "execution_count": 23,
   "metadata": {},
   "outputs": [
    {
     "data": {
      "text/markdown": [
       "  dog = Dog()\n",
       "\n",
       "            # Call the bark method\n",
       "            dog.bark()"
      ],
      "text/plain": [
       "<IPython.core.display.Markdown object>"
      ]
     },
     "metadata": {},
     "output_type": "display_data"
    }
   ],
   "source": [
    "prefix = \"\"\"class Dog:\n",
    "              def bark(self):\n",
    "                print(\"Woof!\")\n",
    "\n",
    "            # Create a new Dog object\n",
    "          \"\"\"\n",
    "response = code_completion_model.predict(prefix=prefix,\n",
    "                                         max_output_tokens=64).text\n",
    "\n",
    "# you may use print() or display()\n",
    "display(\n",
    "    Markdown(response)\n",
    ")"
   ]
  },
  {
   "cell_type": "code",
   "execution_count": 22,
   "metadata": {},
   "outputs": [
    {
     "data": {
      "text/markdown": [
       "    # Add the name and age parameters\n",
       "              name,\n",
       "              age\n",
       "            )"
      ],
      "text/plain": [
       "<IPython.core.display.Markdown object>"
      ]
     },
     "metadata": {},
     "output_type": "display_data"
    }
   ],
   "source": [
    "prefix = \"\"\"class Person:\n",
    "              #Represents a person.\n",
    "              def __init__(self, name, age):\n",
    "                self.name = name\n",
    "                self.age = age\n",
    "\n",
    "            # Start typing the name of the Person class\n",
    "            Person(\n",
    "          \"\"\"\n",
    "response = code_completion_model.predict(prefix=prefix,\n",
    "                                         max_output_tokens=64).text\n",
    "\n",
    "# you may use print() or display()\n",
    "display(\n",
    "    Markdown(response)\n",
    ")"
   ]
  },
  {
   "cell_type": "markdown",
   "metadata": {},
   "source": [
    "**3. Completing Statements**"
   ]
  },
  {
   "cell_type": "code",
   "execution_count": 24,
   "metadata": {},
   "outputs": [
    {
     "data": {
      "text/markdown": [
       " else:\n",
       "              print(\"You are a minor. \")\n",
       "\n",
       "      else:\n",
       "          print(\"You are not a human. \")"
      ],
      "text/plain": [
       "<IPython.core.display.Markdown object>"
      ]
     },
     "metadata": {},
     "output_type": "display_data"
    }
   ],
   "source": [
    "prefix = \"\"\"if age >= 21:\n",
    "              print(\"You are an adult. \")\n",
    "         \"\"\"\n",
    "response = code_completion_model.predict(prefix=prefix,\n",
    "                                         max_output_tokens=64).text\n",
    "\n",
    "# you may use print() or display()\n",
    "display(\n",
    "    Markdown(response)\n",
    ")"
   ]
  },
  {
   "cell_type": "code",
   "execution_count": 28,
   "metadata": {},
   "outputs": [
    {
     "data": {
      "text/markdown": [
       "     print("
      ],
      "text/plain": [
       "<IPython.core.display.Markdown object>"
      ]
     },
     "metadata": {},
     "output_type": "display_data"
    }
   ],
   "source": [
    "prefix = \"\"\"if x < 10:\n",
    "              # Complete the statement\n",
    "         \"\"\"\n",
    "response = code_completion_model.predict(prefix=prefix,\n",
    "                                         max_output_tokens=64).text\n",
    "\n",
    "# you may use print() or display()\n",
    "display(\n",
    "    Markdown(response)\n",
    ")"
   ]
  },
  {
   "cell_type": "markdown",
   "metadata": {},
   "source": [
    "**4. Completing Expressions**"
   ]
  },
  {
   "cell_type": "code",
   "execution_count": 29,
   "metadata": {},
   "outputs": [
    {
     "data": {
      "text/markdown": [
       "       (int) (Math.random() * (100 - 10));"
      ],
      "text/plain": [
       "<IPython.core.display.Markdown object>"
      ]
     },
     "metadata": {},
     "output_type": "display_data"
    }
   ],
   "source": [
    "prefix = \"\"\"x = 10 +\n",
    "         \"\"\"\n",
    "response = code_completion_model.predict(prefix=prefix,\n",
    "                                         max_output_tokens=64).text\n",
    "\n",
    "# you may use print() or display()\n",
    "display(\n",
    "    Markdown(response)\n",
    ")\n",
    "\n"
   ]
  },
  {
   "cell_type": "code",
   "execution_count": 31,
   "metadata": {},
   "outputs": [
    {
     "data": {
      "text/markdown": [
       "           }\n",
       "                }\n",
       "            }\n",
       "        }\n",
       "    }\n",
       "\n",
       "    fun div(a: Int, b: Int): Int {\n",
       "        return a / b\n",
       "    }"
      ],
      "text/plain": [
       "<IPython.core.display.Markdown object>"
      ]
     },
     "metadata": {},
     "output_type": "display_data"
    }
   ],
   "source": [
    "prefix = \"\"\"1 + 2 * 3\n",
    "         \"\"\"\n",
    "response = code_completion_model.predict(prefix=prefix,\n",
    "                                         max_output_tokens=64).text\n",
    "\n",
    "# you may use print() or display()\n",
    "display(\n",
    "    Markdown(response)\n",
    ")"
   ]
  },
  {
   "cell_type": "markdown",
   "metadata": {},
   "source": [
    "**5. Completing Variables**"
   ]
  },
  {
   "cell_type": "code",
   "execution_count": 32,
   "metadata": {},
   "outputs": [
    {
     "data": {
      "text/markdown": [
       "   print(name)\n",
       "\n",
       "        # Define a variable\n",
       "        name = \"Alice\"\n",
       "        #get uppercase of the variable\n",
       "        name.upper()\n",
       "        print(name)"
      ],
      "text/plain": [
       "<IPython.core.display.Markdown object>"
      ]
     },
     "metadata": {},
     "output_type": "display_data"
    }
   ],
   "source": [
    "prefix = \"\"\"# Define a variable\n",
    "            name = \"Alice\"\n",
    "            #get uppercase of the variable\n",
    "            name.upper()\n",
    "         \"\"\"\n",
    "response = code_completion_model.predict(prefix=prefix,\n",
    "                                         max_output_tokens=64).text\n",
    "\n",
    "# you may use print() or display()\n",
    "display(\n",
    "    Markdown(response)\n",
    ")"
   ]
  },
  {
   "cell_type": "code",
   "execution_count": 40,
   "metadata": {},
   "outputs": [
    {
     "data": {
      "text/markdown": [
       "   z = x + y"
      ],
      "text/plain": [
       "<IPython.core.display.Markdown object>"
      ]
     },
     "metadata": {},
     "output_type": "display_data"
    }
   ],
   "source": [
    "prefix = \"\"\"x = 10\n",
    "            y = x +\n",
    "         \"\"\"\n",
    "response = code_completion_model.predict(prefix=prefix,\n",
    "                                         max_output_tokens=64).text\n",
    "\n",
    "# you may use print() or display()\n",
    "display(\n",
    "    Markdown(response)\n",
    ")"
   ]
  },
  {
   "cell_type": "markdown",
   "metadata": {},
   "source": [
    "**6. Completing Imports**"
   ]
  },
  {
   "cell_type": "code",
   "execution_count": 41,
   "metadata": {},
   "outputs": [
    {
     "data": {
      "text/markdown": [
       "   from sklearn.linear_model import LinearRegression"
      ],
      "text/plain": [
       "<IPython.core.display.Markdown object>"
      ]
     },
     "metadata": {},
     "output_type": "display_data"
    }
   ],
   "source": [
    "prefix = \"\"\"import math\n",
    "            import numpy as np\n",
    "            #import machine learning libraries\n",
    "         \"\"\"\n",
    "response = code_completion_model.predict(prefix=prefix,\n",
    "                                         max_output_tokens=64).text\n",
    "\n",
    "# you may use print() or display()\n",
    "display(\n",
    "    Markdown(response)\n",
    ")\n"
   ]
  },
  {
   "cell_type": "code",
   "execution_count": 43,
   "metadata": {},
   "outputs": [
    {
     "name": "stdout",
     "output_type": "stream",
     "text": [
      "   import os\n",
      "            import subprocess\n",
      "            import threading\n",
      "            import urllib\n",
      "            import urllib2\n"
     ]
    }
   ],
   "source": [
    "prefix = \"\"\"import math\n",
    "            import time\n",
    "            import random\n",
    "            import sys\n",
    "         \"\"\"\n",
    "response = code_completion_model.predict(prefix=prefix,\n",
    "                                         max_output_tokens=64).text\n",
    "\n",
    "# you may use print() or display()\n",
    "print(response)"
   ]
  },
  {
   "cell_type": "markdown",
   "metadata": {},
   "source": [
    "**7. Feedback Loop Code Completion**"
   ]
  },
  {
   "cell_type": "code",
   "execution_count": 44,
   "metadata": {},
   "outputs": [
    {
     "name": "stdout",
     "output_type": "stream",
     "text": [
      "\n",
      "    max_element = list[0]\n",
      "    for element in list:\n",
      "        if element > max_element:\n",
      "            max_element = element\n",
      "\n",
      "    return max_element\n",
      "\n",
      "\n",
      "def find_min(list):\n",
      "    min_element = list[0]\n",
      "    for element in list:\n",
      "        if element < min_element:\n",
      "            min_element = element\n",
      "    return min_element\n",
      "\n",
      "\n",
      "\n",
      "def find_average(list):\n",
      "    sum = 0\n",
      "    for element in list:\n",
      "        sum += element\n",
      "    return sum / len(list)\n"
     ]
    }
   ],
   "source": [
    "prefix = \"def find_max_element(list):\"\n",
    "i = 0\n",
    "while(i<3):\n",
    "  response = code_completion_model.predict(prefix=prefix,)\n",
    "  print(response.text)\n",
    "  prefix = response.text\n",
    "  i+=1"
   ]
  },
  {
   "cell_type": "code",
   "execution_count": 45,
   "metadata": {},
   "outputs": [
    {
     "name": "stdout",
     "output_type": "stream",
     "text": [
      "  dog = Dog()\n",
      "            dog.bark()\n",
      "\n",
      "            dog.eat()\n",
      "            dog.sleep()\n",
      "\n",
      "            dog.bark()\n",
      "        }\n",
      "    }\n",
      "\n",
      "    override fun onDestroy() {\n",
      "        super.onDestroy()\n",
      "        mPresenter.detachView()\n",
      "    }\n"
     ]
    }
   ],
   "source": [
    "prefix = \"\"\"class Dog:\n",
    "              def bark(self):\n",
    "                print(\"Woof!\")\n",
    "          \"\"\"\n",
    "i = 0\n",
    "while(i<3):\n",
    "    response = code_completion_model.predict(prefix=prefix,)\n",
    "    print(response.text)\n",
    "    prefix = response.text\n",
    "    i+=1"
   ]
  },
  {
   "cell_type": "markdown",
   "metadata": {},
   "source": [
    "#### Best Practices\n",
    "\n",
    "How to write effective code completion prompts\n",
    "When writing code completion prompts, it is important to be as specific and descriptive as possible. The more information you can provide the model, the better it will be able to understand what you are trying to achieve.\n",
    "\n",
    "Here are some tips for writing effective code completion prompts:\n",
    "\n",
    "* Start with a natural language description of what you want the model to generate. This should be a clear and concise statement of your goal, such as \"Complete the following function to print the sum of two numbers\" or \"Generate a function to check if a string is a palindrome.\"\n",
    "\n",
    "* Include any relevant context in the prompt. This could include the code that you have already written, the programming language you are using, or any other information that the model might need to know.\n",
    "\n",
    "* Use examples to illustrate what you are looking for. If you can, provide the model with examples of the code that you want it to generate. This will help the model to better understand your intentions.\n",
    "\n",
    "Here is an example of a good code completion prompt:\n",
    "\n",
    "Complete the following Python function to check if a string is a palindrome:\n",
    "```bash\n",
    "def is_palindrome(string):\n",
    "  \"\"\"Checks if a string is a palindrome.\n",
    "\n",
    "  Args:\n",
    "    string: A string.\n",
    "\n",
    "  Returns:\n",
    "    A boolean value indicating whether the string is a palindrome.\n",
    "  \"\"\"\n",
    "  # TODO: Implement this function.\n",
    "```\n",
    "\n",
    "#### How to choose the right temperature and max output tokens\n",
    "\n",
    "The temperature and max output tokens are two important parameters that control the behavior of the code completion model.\n",
    "\n",
    "* _`Temperature`_: The temperature controls how creative the model is. A higher temperature will lead to more creative and unexpected suggestions, while a lower temperature will lead to more conservative and predictable suggestions.\n",
    "\n",
    "* _`Max output tokens`_: The max output tokens controls the maximum length of the code that the model can generate. A higher max output tokens will allow the model to generate longer code snippets, while a lower max output tokens will limit the length of the generated code.\n",
    "\n",
    "When choosing the right temperature and max output tokens, it is important to consider the specific task that you are trying to accomplish. If you need the model to generate creative and unexpected suggestions, you should use a higher temperature. If you need the model to generate code snippets that are of a specific length, you should use the appropriate max output tokens.\n",
    "\n",
    "#### How to interpret and use code completion suggestions\n",
    "\n",
    "Once you have generated some code completion suggestions, it is important to carefully interpret and use them.\n",
    "\n",
    "The code completion model is not perfect, and it is possible that it will generate suggestions that are incorrect or incomplete. It is important to review the suggestions carefully and to test them before using them in your code.\n",
    "\n",
    "Here are some tips for interpreting and using code completion suggestions:\n",
    "\n",
    "* Make sure that the suggestions are syntactically correct. The code completion model may generate suggestions that are syntactically incorrect. It is important to check the syntax of the suggestions before using them in your code.\n",
    "\n",
    "* Test the suggestions before using them in your code. Once you have found some suggestions that you are happy with, it is important to test them before using them in your code. This will help to ensure that the suggestions are correct and that they will work as expected.\n",
    "\n",
    "#### How to avoid common code completion pitfalls\n",
    "\n",
    "Here are some common code completion pitfalls to avoid:\n",
    "\n",
    "* Do not rely on the code completion model to generate all of your code. The code completion model is a tool, but it should not be used to generate all of your code. It is important to understand the code that you are writing and to be able to review and test it carefully.\n",
    "\n",
    "* Do not use code completion suggestions without understanding them. It is important to understand the code completion suggestions before using them in your code. This will help you to identify any potential errors or problems.\n",
    "\n",
    "* Do not use code completion suggestions for tasks that are too complex. The code completion model is not designed to generate complex code snippets. If you need to generate complex code, it is best to write it yourself."
   ]
  }
 ],
 "metadata": {
  "kernelspec": {
   "display_name": "notebook",
   "language": "python",
   "name": "python3"
  },
  "language_info": {
   "codemirror_mode": {
    "name": "ipython",
    "version": 3
   },
   "file_extension": ".py",
   "mimetype": "text/x-python",
   "name": "python",
   "nbconvert_exporter": "python",
   "pygments_lexer": "ipython3",
   "version": "3.9.18"
  }
 },
 "nbformat": 4,
 "nbformat_minor": 2
}
