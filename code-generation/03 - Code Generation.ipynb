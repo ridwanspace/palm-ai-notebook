{
 "cells": [
  {
   "cell_type": "markdown",
   "metadata": {},
   "source": [
    "## Overview\n",
    "\n",
    "This notebook will provide an introduction to code generation using Codey models. Codey for Code Generation (code-bison) is a foundation model that can generate code based on a natural language description. It can be used to create functions, web pages, unit tests, and other types of code. Codey for Code Generation is supported by the code generation Codey APIs, which are part of the PaLM API family.\n",
    "\n",
    "## Objectives\n",
    "In this tutorial, we will learn.\n",
    "\n",
    "* Setting up the environment for code generation models\n",
    "* Writing basic prompts for codey\n",
    "* Various prompt design patterns:\n",
    "    * Problem Statement Template\n",
    "    * SQL Metadata & Performace\n",
    "    * Code Optimization\n",
    "    * Chain of Thought\n",
    "    * Few Shot Prompts\n",
    "    * DevOps Templates\n",
    "    * Web Templates\n",
    "* Best Practices with Code Generation\n",
    "\n"
   ]
  },
  {
   "cell_type": "code",
   "execution_count": null,
   "metadata": {},
   "outputs": [],
   "source": []
  }
 ],
 "metadata": {
  "kernelspec": {
   "display_name": "notebook",
   "language": "python",
   "name": "python3"
  },
  "language_info": {
   "name": "python",
   "version": "3.9.18"
  }
 },
 "nbformat": 4,
 "nbformat_minor": 2
}
