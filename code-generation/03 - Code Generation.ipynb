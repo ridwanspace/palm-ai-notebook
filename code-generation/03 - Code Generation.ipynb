{
 "cells": [
  {
   "cell_type": "markdown",
   "metadata": {},
   "source": [
    "## Overview\n",
    "\n",
    "This notebook will provide an introduction to code generation using Codey models. Codey for Code Generation (code-bison) is a foundation model that can generate code based on a natural language description. It can be used to create functions, web pages, unit tests, and other types of code. Codey for Code Generation is supported by the code generation Codey APIs, which are part of the PaLM API family.\n",
    "\n",
    "## Objectives\n",
    "In this tutorial, we will learn.\n",
    "\n",
    "* Setting up the environment for code generation models\n",
    "* Writing basic prompts for codey\n",
    "* Various prompt design patterns:\n",
    "    * Problem Statement Template\n",
    "    * SQL Metadata & Performace\n",
    "    * Code Optimization\n",
    "    * Chain of Thought\n",
    "    * Few Shot Prompts\n",
    "    * DevOps Templates\n",
    "    * Web Templates\n",
    "* Best Practices with Code Generation\n",
    "\n",
    "\n",
    "## Available models\n",
    "\n",
    "The Vertex AI Codey API currently supports three models:\n",
    "\n",
    "* `code-bison@002`: A model fine-tuned to generate code based on a natural language description of the desired code. For example, it can generate a unit test for a function.\n",
    "\n",
    "* `code-gecko@002`: A model fine-tuned to suggest code completion based on the context in code that's written.\n",
    "\n",
    "* `codechat-bison@002`: A model fine-tuned for chatbot conversations that help with code-related questions.\n",
    "\n",
    "We can find more information about the properties of these foundational models in the [Generative AI Studio documentation](https://cloud.google.com/vertex-ai/docs/generative-ai/learn/models#foundation_models).\n"
   ]
  },
  {
   "cell_type": "markdown",
   "metadata": {},
   "source": [
    "#### Code generation with code-bison@002\n",
    "\n",
    "The code generation model (Codey) from PaLM API that we will use in this notebook is `code-bison@002`. It is fine-tuned to follow natural language instructions to generate required code and is suitable for a variety of coding tasks, such as:\n",
    "\n",
    "* writing functions\n",
    "* writing classes\n",
    "* web-apges\n",
    "* unit tests\n",
    "* docstrings\n",
    "* code translations, and many more use-cases.\n",
    "\n",
    "Currently it supports the following languages:\n",
    "\n",
    "* C++\n",
    "* C#\n",
    "* Go\n",
    "* GoogleSQL\n",
    "* Java\n",
    "* JavaScript\n",
    "* Kotlin\n",
    "* PHP\n",
    "* Python\n",
    "* Ruby\n",
    "* Rust\n",
    "* Scala\n",
    "* Swift\n",
    "* TypeScript\n",
    "\n",
    "You can find our more details [here](https://cloud.google.com/vertex-ai/docs/generative-ai/code/code-models-overview)."
   ]
  },
  {
   "cell_type": "code",
   "execution_count": 1,
   "metadata": {},
   "outputs": [],
   "source": [
    "# import libraries\n",
    "import os\n",
    "import vertexai\n",
    "from IPython.display import Markdown, display\n",
    "from google.oauth2 import service_account\n",
    "from dotenv import load_dotenv\n",
    "from vertexai.language_models import CodeGenerationModel"
   ]
  },
  {
   "cell_type": "code",
   "execution_count": 2,
   "metadata": {},
   "outputs": [],
   "source": [
    "# initiate service account (authentication)\n",
    "json_path = '../llm-ai.json' # replace with your own service account\n",
    "credentials = service_account.Credentials.from_service_account_file(json_path)"
   ]
  },
  {
   "cell_type": "code",
   "execution_count": 3,
   "metadata": {},
   "outputs": [],
   "source": [
    "# start Vertex AI\n",
    "load_dotenv()\n",
    "vertexai.init(project=os.environ[\"PROJECT_ID\"], # replace with your own project\n",
    "              credentials=credentials)"
   ]
  },
  {
   "cell_type": "code",
   "execution_count": 4,
   "metadata": {},
   "outputs": [],
   "source": [
    "# load the model\n",
    "code_generation_model = CodeGenerationModel.from_pretrained(\"code-bison@002\")"
   ]
  },
  {
   "cell_type": "markdown",
   "metadata": {},
   "source": [
    "**Model parameters for `code-bison`**\n",
    "\n",
    "We can customize how the PaLM API code generation behaves in response to our prompt by using the following parameters for code-bison@002:\n",
    "\n",
    "* `prefix`: it represents the beginning of a piece of meaningful programming code or a natural language prompt that describes code to be generated.\n",
    "* `temperature`: higher means more \"creative\" code responses. range: (0.0 - 1.0, default 0).\n",
    "* `max_output_tokens`: sets the max number of tokens in the output. range: (1 - 2048, default 2048)"
   ]
  },
  {
   "cell_type": "markdown",
   "metadata": {},
   "source": [
    "### 1. Hello Codey"
   ]
  },
  {
   "cell_type": "code",
   "execution_count": 6,
   "metadata": {},
   "outputs": [
    {
     "data": {
      "text/markdown": [
       "```python\n",
       "def similarity_check(str1, str2):\n",
       "  \"\"\"\n",
       "  This function checks the similarity between two strings.\n",
       "\n",
       "  Args:\n",
       "    str1 (str): The first string.\n",
       "    str2 (str): The second string.\n",
       "\n",
       "  Returns:\n",
       "    float: A value between 0 and 1, where 0 indicates no similarity and 1 indicates perfect similarity.\n",
       "  \"\"\"\n",
       "\n",
       "  # Convert the strings to lowercase.\n",
       "  str1 = str1.lower()\n",
       "  str2 = str2.lower()\n",
       "\n",
       "  # Find the length of the longest string.\n",
       "  max_len = max(len(str1), len(str2))\n",
       "\n",
       "  # Find the number of common characters.\n",
       "  common_chars = 0\n",
       "  for i in range(max_len):\n",
       "    if str1[i] == str2[i]:\n",
       "      common_chars += 1\n",
       "\n",
       "  # Calculate the similarity score.\n",
       "  similarity_score = common_chars / max_len\n",
       "\n",
       "  return similarity_score\n",
       "```"
      ],
      "text/plain": [
       "<IPython.core.display.Markdown object>"
      ]
     },
     "metadata": {},
     "output_type": "display_data"
    }
   ],
   "source": [
    "prefix = \"write a python function to do similarity check between two strings\"\n",
    "\n",
    "response = code_generation_model.predict(prefix=prefix).text\n",
    "\n",
    "# you may use print instead of display\n",
    "display(\n",
    "    Markdown(response)\n",
    ")"
   ]
  },
  {
   "cell_type": "markdown",
   "metadata": {},
   "source": [
    "### 2. Try out your own prompt\n",
    "\n",
    "Some examples:\n",
    "\n",
    "* write Go program to extract ip addresses from the text file\n",
    "* write Java program that can extract pincodes from addresses\n",
    "* write a standard SQL function that strips all non-alphabet characters from the string and encodes it to utf-8"
   ]
  },
  {
   "cell_type": "code",
   "execution_count": 7,
   "metadata": {},
   "outputs": [
    {
     "data": {
      "text/markdown": [
       "```python\n",
       "import numpy as np\n",
       "import pandas as pd\n",
       "from sklearn.linear_model import LinearRegression\n",
       "\n",
       "# Load the sales data\n",
       "data = pd.read_csv('sales_data.csv')\n",
       "\n",
       "# Create the features and target variables\n",
       "features = data[['TV', 'Radio', 'Newspaper']]\n",
       "target = data['Sales']\n",
       "\n",
       "# Split the data into training and testing sets\n",
       "X_train, X_test, y_train, y_test = train_test_split(features, target, test_size=0.2)\n",
       "\n",
       "# Create the linear regression model\n",
       "model = LinearRegression()\n",
       "\n",
       "# Fit the model to the training data\n",
       "model.fit(X_train, y_train)\n",
       "\n",
       "# Make predictions on the test data\n",
       "predictions = model.predict(X_test)\n",
       "\n",
       "# Evaluate the model's performance\n",
       "print('MAE:', mean_absolute_error(y_test, predictions))\n",
       "print('MSE:', mean_squared_error(y_test, predictions))\n",
       "print('RMSE:', np.sqrt(mean_squared_error(y_test, predictions)))\n",
       "```"
      ],
      "text/plain": [
       "<IPython.core.display.Markdown object>"
      ]
     },
     "metadata": {},
     "output_type": "display_data"
    }
   ],
   "source": [
    "prefix = \"\"\"write a python code that can do predict sales from sales data. The code should have,\n",
    "            linear regression model. \\\n",
    "          \"\"\"\n",
    "\n",
    "response = code_generation_model.predict(prefix=prefix, max_output_tokens=1024).text\n",
    "\n",
    "# you may use print instead of display\n",
    "display(\n",
    "    Markdown(response)\n",
    ")"
   ]
  },
  {
   "cell_type": "markdown",
   "metadata": {},
   "source": [
    "### 3. Prompt templates\n",
    "\n",
    "Prompt templates are useful if we have found a good way to structure our prompt that we can re-use. This can be also be helpful in limiting the open-endedness of freeform prompts. There are many ways to implement prompt templates, and below is just one example using `f-strings`. This way we can structure the prompts as per the expected funcationality of the code."
   ]
  },
  {
   "cell_type": "code",
   "execution_count": 8,
   "metadata": {},
   "outputs": [
    {
     "data": {
      "text/markdown": [
       "```python\n",
       "def bubble_sort(array):\n",
       "  \"\"\"\n",
       "  Sorts an array using the bubble sort algorithm.\n",
       "\n",
       "  Args:\n",
       "    array: The array to be sorted.\n",
       "\n",
       "  Returns:\n",
       "    The sorted array.\n",
       "  \"\"\"\n",
       "\n",
       "  # Iterate over the array, comparing each element to the next.\n",
       "  for i in range(len(array) - 1):\n",
       "    # If the current element is greater than the next element, swap them.\n",
       "    if array[i] > array[i + 1]:\n",
       "      array[i], array[i + 1] = array[i + 1], array[i]\n",
       "\n",
       "  # Repeat the process until the array is sorted.\n",
       "  if not is_sorted(array):\n",
       "    return bubble_sort(array)\n",
       "\n",
       "  return array\n",
       "\n",
       "\n",
       "def is_sorted(array):\n",
       "  \"\"\"\n",
       "  Checks if an array is sorted.\n",
       "\n",
       "  Args:\n",
       "    array: The array to be checked.\n",
       "\n",
       "  Returns:\n",
       "    True if the array is sorted, False otherwise.\n",
       "  \"\"\"\n",
       "\n",
       "  for i in range(len(array) - 1):\n",
       "    if array[i] > array[i + 1]:\n",
       "      return False\n",
       "\n",
       "  return True\n",
       "```"
      ],
      "text/plain": [
       "<IPython.core.display.Markdown object>"
      ]
     },
     "metadata": {},
     "output_type": "display_data"
    }
   ],
   "source": [
    "language = \"python\"\n",
    "prefix = f\"\"\"Write a {language} function that can input unsorted array or list and return the sorted array or list.\n",
    "             it should not use any pre-built function or library.\n",
    "              \"\"\"\n",
    "\n",
    "response = code_generation_model.predict(prefix=prefix, max_output_tokens=1024).text\n",
    "\n",
    "# you may use print instead of display\n",
    "display(\n",
    "    Markdown(response)\n",
    ")"
   ]
  },
  {
   "cell_type": "code",
   "execution_count": 9,
   "metadata": {},
   "outputs": [
    {
     "data": {
      "text/markdown": [
       "```python\n",
       "import json\n",
       "\n",
       "# Load the JSON data from a file\n",
       "with open('data.json') as f:\n",
       "    data = json.load(f)\n",
       "\n",
       "# Create a set to store the unique names\n",
       "names = set()\n",
       "\n",
       "# Iterate over the data and extract the names\n",
       "for person in data:\n",
       "    name = person['name']\n",
       "\n",
       "    # Check if the name starts with a capital letter\n",
       "    if name[0].isupper():\n",
       "        # Add the name to the set\n",
       "        names.add(name)\n",
       "\n",
       "# Print the unique names\n",
       "print(names)\n",
       "```"
      ],
      "text/plain": [
       "<IPython.core.display.Markdown object>"
      ]
     },
     "metadata": {},
     "output_type": "display_data"
    }
   ],
   "source": [
    "language = \"python\"\n",
    "file_format = \"json\"\n",
    "extract_info = \"names\"\n",
    "requirements = \"\"\"\n",
    "              - the name should be start with capital letters.\n",
    "              - There should be no duplicate names in the final list.\n",
    "              \"\"\"\n",
    "\n",
    "prefix = f\"\"\"\n",
    "        Create a {language} to parse {file_format} and extract {extract_info} \n",
    "        with the following requirements: {requirements}. \n",
    "        \"\"\"\n",
    "\n",
    "response = code_generation_model.predict(prefix=prefix, max_output_tokens=1024).text\n",
    "\n",
    "# you may use print instead of display\n",
    "display(\n",
    "    Markdown(response)\n",
    ")"
   ]
  },
  {
   "cell_type": "markdown",
   "metadata": {},
   "source": [
    "### 4. Prompt Design Patterns\n",
    "\n",
    "**Problem-statement Template**\n",
    "\n",
    "In the problem-statement template, we can leverage prompt template ideas and pass our specific problem-statement without focusing on the language. The language can be a separate parameter. We can also pass the input-output example to ensure that generation follows the test case. Here are examples of different languages; we can see the model's capability to generate many supported languages."
   ]
  },
  {
   "cell_type": "markdown",
   "metadata": {},
   "source": [
    "* **C**"
   ]
  },
  {
   "cell_type": "code",
   "execution_count": 10,
   "metadata": {},
   "outputs": [
    {
     "data": {
      "text/markdown": [
       "```c\n",
       "#include <stdio.h>\n",
       "\n",
       "int find_smallest(int arr[], int n) {\n",
       "    int smallest = arr[0];\n",
       "    for (int i = 1; i < n; i++) {\n",
       "        if (arr[i] < smallest) {\n",
       "            smallest = arr[i];\n",
       "        }\n",
       "    }\n",
       "    return smallest;\n",
       "}\n",
       "\n",
       "int main() {\n",
       "    int arr[] = {10, 20, 5, 30, 15};\n",
       "    int n = sizeof(arr) / sizeof(arr[0]);\n",
       "    int smallest = find_smallest(arr, n);\n",
       "    printf(\"The smallest element in the list is: %d\\n\", smallest);\n",
       "    return 0;\n",
       "}\n",
       "```"
      ],
      "text/plain": [
       "<IPython.core.display.Markdown object>"
      ]
     },
     "metadata": {},
     "output_type": "display_data"
    }
   ],
   "source": [
    "language = \"c\"\n",
    "problem_statement = \"find the smallest element in an unordered list\"\n",
    "\n",
    "prefix = \"write a \" + language + \" function to \" + problem_statement\n",
    "\n",
    "response = code_generation_model.predict(prefix=prefix).text\n",
    "\n",
    "# you may use print instead of display\n",
    "display(\n",
    "    Markdown(response)\n",
    ")"
   ]
  },
  {
   "cell_type": "markdown",
   "metadata": {},
   "source": [
    "* **C++**"
   ]
  },
  {
   "cell_type": "code",
   "execution_count": 11,
   "metadata": {},
   "outputs": [
    {
     "data": {
      "text/markdown": [
       "```c++\n",
       "#include <iostream>\n",
       "#include <vector>\n",
       "\n",
       "using namespace std;\n",
       "\n",
       "void oneSwapSort(vector<int>& arr) {\n",
       "  int n = arr.size();\n",
       "\n",
       "  // Find the first element that is not in sorted order\n",
       "  int i = 0;\n",
       "  while (i < n - 1 && arr[i] <= arr[i + 1]) {\n",
       "    i++;\n",
       "  }\n",
       "\n",
       "  // If the array is already sorted, return\n",
       "  if (i == n - 1) {\n",
       "    return;\n",
       "  }\n",
       "\n",
       "  // Find the second element that is not in sorted order\n",
       "  int j = n - 1;\n",
       "  while (j > 0 && arr[j] >= arr[j - 1]) {\n",
       "    j--;\n",
       "  }\n",
       "\n",
       "  // Swap the two elements\n",
       "  swap(arr[i], arr[j]);\n",
       "}\n",
       "\n",
       "int main() {\n",
       "  vector<int> arr = {1, 5, 3, 7, 9};\n",
       "\n",
       "  oneSwapSort(arr);\n",
       "\n",
       "  for (int i = 0; i < arr.size(); i++) {\n",
       "    cout << arr[i] << \" \";\n",
       "  }\n",
       "\n",
       "  cout << endl;\n",
       "\n",
       "  return 0;\n",
       "}\n",
       "```"
      ],
      "text/plain": [
       "<IPython.core.display.Markdown object>"
      ]
     },
     "metadata": {},
     "output_type": "display_data"
    }
   ],
   "source": [
    "language = \"cpp\"\n",
    "problem_statement = \"\"\"Sort an array in one swap whose two elements are swapped and rest are in sorted order \\\n",
    "                      for example: \\\n",
    "                      input: {1, 5, 3, 7, 9}\n",
    "                      output: {1,3,5,7,9}\n",
    "                    \"\"\"\n",
    "\n",
    "prefix = \"write a \" + language + \" function to \" + problem_statement\n",
    "\n",
    "response = code_generation_model.predict(prefix=prefix).text\n",
    "\n",
    "# you may use print instead of display\n",
    "display(\n",
    "    Markdown(response)\n",
    ")"
   ]
  },
  {
   "cell_type": "markdown",
   "metadata": {},
   "source": [
    "* **TypeScript**"
   ]
  },
  {
   "cell_type": "code",
   "execution_count": 12,
   "metadata": {},
   "outputs": [
    {
     "data": {
      "text/markdown": [
       "```typescript\n",
       "// Function to convert a timestamp to a yyyy-mm-dd string in local time\n",
       "const formatDate = (timestamp: number) => {\n",
       "  const date = new Date(timestamp);\n",
       "  const year = date.getFullYear();\n",
       "  const month = date.getMonth() + 1; // Months are zero-indexed\n",
       "  const day = date.getDate();\n",
       "  return `${year}-${month}-${day}`;\n",
       "};\n",
       "\n",
       "// React component to display the formatted date\n",
       "const DateComponent = () => {\n",
       "  const timestamp = 1654636800000; // Example timestamp\n",
       "  const formattedDate = formatDate(timestamp);\n",
       "\n",
       "  return (\n",
       "    <div>\n",
       "      <h1>Formatted Date: {formattedDate}</h1>\n",
       "    </div>\n",
       "  );\n",
       "};\n",
       "\n",
       "export default DateComponent;\n",
       "```"
      ],
      "text/plain": [
       "<IPython.core.display.Markdown object>"
      ]
     },
     "metadata": {},
     "output_type": "display_data"
    }
   ],
   "source": [
    "language = \"typescript\"\n",
    "problem_statement = \"\"\"that takes a timestamp and return as yyyy-mm-dd in local time.\n",
    "                      print the outputs with react component\n",
    "                    \"\"\"\n",
    "\n",
    "prefix = \"write a \" + language + \" function \" + problem_statement\n",
    "\n",
    "response = code_generation_model.predict(prefix=prefix).text\n",
    "\n",
    "# you may use print instead of display\n",
    "display(\n",
    "    Markdown(response)\n",
    ")"
   ]
  },
  {
   "cell_type": "markdown",
   "metadata": {},
   "source": [
    "* **Elixir**"
   ]
  },
  {
   "cell_type": "code",
   "execution_count": 13,
   "metadata": {},
   "outputs": [
    {
     "data": {
      "text/markdown": [
       "```elixir\n",
       "defmodule NonRepeatedCharacter do\n",
       "  def find_first_non_repeated_character(string) do\n",
       "    string\n",
       "    |> String.codepoints()\n",
       "    |> Enum.reduce(%{}, fn char, acc ->\n",
       "      case Map.get(acc, char) do\n",
       "        nil -> Map.put(acc, char, 1)\n",
       "        _ -> Map.put(acc, char, Map.get(acc, char) + 1)\n",
       "      end\n",
       "    end)\n",
       "    |> Enum.find(fn {_, count} -> count == 1 end)\n",
       "    |> elem(0)\n",
       "  end\n",
       "end\n",
       "\n",
       "IO.puts NonRepeatedCharacter.find_first_non_repeated_character(\"Mississippi\")\n",
       "IO.puts NonRepeatedCharacter.find_first_non_repeated_character(\"hello\")\n",
       "```"
      ],
      "text/plain": [
       "<IPython.core.display.Markdown object>"
      ]
     },
     "metadata": {},
     "output_type": "display_data"
    }
   ],
   "source": [
    "language = \"elixir\"\n",
    "problem_statement = \"\"\"print the first non-repeated character from a string.\n",
    "                      take example of 'Mississippi' and 'hello' as example.\n",
    "                    \"\"\"\n",
    "\n",
    "prefix = \"write a \" + language + \" function \" + problem_statement\n",
    "\n",
    "response = code_generation_model.predict(prefix=prefix).text\n",
    "\n",
    "# you may use print instead of display\n",
    "display(\n",
    "    Markdown(response)\n",
    ")"
   ]
  },
  {
   "cell_type": "markdown",
   "metadata": {},
   "source": [
    "* **R**"
   ]
  },
  {
   "cell_type": "code",
   "execution_count": 14,
   "metadata": {},
   "outputs": [
    {
     "data": {
      "text/markdown": [
       "```r\n",
       "# Function to reverse an array in place\n",
       "reverse_array <- function(arr) {\n",
       "  # Get the length of the array\n",
       "  n <- length(arr)\n",
       "  \n",
       "  # Iterate over the array from the beginning to the middle\n",
       "  for (i in 1:(n/2)) {\n",
       "    # Swap the elements at indices i and n-i+1\n",
       "    temp <- arr[i]\n",
       "    arr[i] <- arr[n-i+1]\n",
       "    arr[n-i+1] <- temp\n",
       "  }\n",
       "  \n",
       "  # Return the reversed array\n",
       "  return(arr)\n",
       "}\n",
       "\n",
       "# Take input of the array\n",
       "arr <- as.numeric(unlist(strsplit(readline(), \" \")))\n",
       "\n",
       "# Reverse the array\n",
       "reversed_arr <- reverse_array(arr)\n",
       "\n",
       "# Print the reversed array\n",
       "print(reversed_arr)\n",
       "```"
      ],
      "text/plain": [
       "<IPython.core.display.Markdown object>"
      ]
     },
     "metadata": {},
     "output_type": "display_data"
    }
   ],
   "source": [
    "language = \"r\"\n",
    "problem_statement = \"\"\"reverse an array in place. Take input of array.Take input of array and output the reversed array.\n",
    "                       For example: [1,2,3,4,5] -> [5,4,3,2,1]\n",
    "                    \"\"\"\n",
    "\n",
    "prefix = \"write a \" + language + \" program \" + problem_statement\n",
    "\n",
    "response = code_generation_model.predict(prefix=prefix).text\n",
    "\n",
    "# you may use print instead of display\n",
    "display(\n",
    "    Markdown(response)\n",
    ")"
   ]
  },
  {
   "cell_type": "markdown",
   "metadata": {},
   "source": [
    "* **Ruby**"
   ]
  },
  {
   "cell_type": "code",
   "execution_count": 15,
   "metadata": {},
   "outputs": [
    {
     "data": {
      "text/markdown": [
       "```ruby\n",
       "# This Ruby program removes duplicate elements from a given array.\n",
       "\n",
       "# Define a method to remove duplicate elements from an array.\n",
       "def remove_duplicates(array)\n",
       "  # Create a new array to store the unique elements.\n",
       "  unique_array = []\n",
       "\n",
       "  # Iterate over the original array.\n",
       "  array.each do |element|\n",
       "    # Check if the element is already in the unique array.\n",
       "    if !unique_array.include?(element)\n",
       "      # If the element is not in the unique array, add it.\n",
       "      unique_array << element\n",
       "    end\n",
       "  end\n",
       "\n",
       "  # Return the unique array.\n",
       "  unique_array\n",
       "end\n",
       "\n",
       "# Get the input array from the user.\n",
       "puts \"Enter the elements of the array, separated by spaces:\"\n",
       "input_array = gets.chomp.split(\" \")\n",
       "\n",
       "# Convert the input array to an integer array.\n",
       "int_array = input_array.map(&:to_i)\n",
       "\n",
       "# Remove duplicate elements from the array.\n",
       "unique_array = remove_duplicates(int_array)\n",
       "\n",
       "# Print the unique array.\n",
       "puts \"The unique elements of the array are:\"\n",
       "puts unique_array\n",
       "```"
      ],
      "text/plain": [
       "<IPython.core.display.Markdown object>"
      ]
     },
     "metadata": {},
     "output_type": "display_data"
    }
   ],
   "source": [
    "language = \"Ruby\"\n",
    "problem_statement = \"\"\" to remove duplicate elements from given array.\n",
    "                    \"\"\"\n",
    "\n",
    "prefix = \"write a \" + language + \" program \" + problem_statement\n",
    "\n",
    "response = code_generation_model.predict(prefix=prefix).text\n",
    "\n",
    "# you may use print instead of display\n",
    "display(\n",
    "    Markdown(response)\n",
    ")"
   ]
  },
  {
   "cell_type": "markdown",
   "metadata": {},
   "source": [
    "* **Go (Golang)**"
   ]
  },
  {
   "cell_type": "code",
   "execution_count": 16,
   "metadata": {},
   "outputs": [
    {
     "data": {
      "text/markdown": [
       "```go\n",
       "package main\n",
       "\n",
       "import (\n",
       "    \"fmt\"\n",
       "    \"regexp\"\n",
       ")\n",
       "\n",
       "func main() {\n",
       "    // Sample log line\n",
       "    logLine := \"03/22 08:51:06 INFO   :...read_physical_netif: index #0, interface VLINK1 has address 129.1.1.1, ifidx 0\"\n",
       "\n",
       "    // Compile the regular expression to match IPv4 addresses\n",
       "    ipv4Regex := regexp.MustCompile(`\\b(?:(?:25[0-5]|2[0-4][0-9]|[01]?[0-9][0-9]?)\\.){3}(?:25[0-5]|2[0-4][0-9]|[01]?[0-9][0-9]?)\\b`)\n",
       "\n",
       "    // Find all matches of the regular expression in the log line\n",
       "    matches := ipv4Regex.FindAllString(logLine, -1)\n",
       "\n",
       "    // Print the extracted IPv4 addresses\n",
       "    for _, match := range matches {\n",
       "        fmt.Println(match)\n",
       "    }\n",
       "}\n",
       "```"
      ],
      "text/plain": [
       "<IPython.core.display.Markdown object>"
      ]
     },
     "metadata": {},
     "output_type": "display_data"
    }
   ],
   "source": [
    "language = \"Go\"\n",
    "problem_statement = \"\"\"that can extract ipv4 addresses from the each line in the log file. use fmt and regexp package.\n",
    "                        input:\n",
    "                        03/22 08:51:06 INFO   :...read_physical_netif: index #0, interface VLINK1 has address 129.1.1.1, ifidx 0\n",
    "                        output:\n",
    "                        129.1.1.1\n",
    "                        \\n\\n\n",
    "                    \"\"\"\n",
    "\n",
    "prefix = \"write a \" + language + \" function \" + problem_statement\n",
    "\n",
    "response = code_generation_model.predict(prefix=prefix).text\n",
    "\n",
    "# you may use print instead of display\n",
    "display(\n",
    "    Markdown(response)\n",
    ")"
   ]
  },
  {
   "cell_type": "markdown",
   "metadata": {},
   "source": [
    "### 5. SQL Metadata & Performance\n",
    "\n",
    "In the SQL prompt template, we can define multiple criteria like problem statement, table metadata, styling of the code, and performance expectations. Passing the table metadata is crucial since it allows the model to generate consistent code that follows the structure of the metadata. Ensure that your problem statement is very clear, concise, and contains all relevant context.\n",
    "\n",
    "* **SQL**"
   ]
  },
  {
   "cell_type": "code",
   "execution_count": 17,
   "metadata": {},
   "outputs": [
    {
     "data": {
      "text/markdown": [
       "```sql\n",
       "-- Calculate the total number of orders and average order value for each product category in the past month\n",
       "\n",
       "SELECT\n",
       "    p.Category,\n",
       "    COUNT(o.OrderID) AS TotalOrders,\n",
       "    AVG(o.OrderAmount) AS AverageOrderValue\n",
       "FROM\n",
       "    Orders o\n",
       "JOIN\n",
       "    Products p ON o.ProductID = p.ProductID\n",
       "WHERE\n",
       "    o.OrderDate BETWEEN DATE('now', '-1 month') AND DATE('now') -- Filter orders within the past month\n",
       "GROUP BY\n",
       "    p.Category;\n",
       "\n",
       "\n",
       "-- Calculate the total number of orders and average order value for each product category for a given date range\n",
       "\n",
       "SELECT\n",
       "    p.Category,\n",
       "    COUNT(o.OrderID) AS TotalOrders,\n",
       "    AVG(o.OrderAmount) AS AverageOrderValue\n",
       "FROM\n",
       "    Orders o\n",
       "JOIN\n",
       "    Products p ON o.ProductID = p.ProductID\n",
       "WHERE\n",
       "    o.OrderDate BETWEEN '2023-01-01' AND '2023-01-31' -- Replace with your desired date range\n",
       "GROUP BY\n",
       "    p.Category;\n",
       "\n",
       "\n",
       "-- Calculate the total number of orders and average order value for each product category at the end of each month for a given year\n",
       "\n",
       "SELECT\n",
       "    strftime('%Y-%m', o.OrderDate) AS OrderMonth, -- Extract the year and month from the OrderDate\n",
       "    p.Category,\n",
       "    COUNT(o.OrderID) AS TotalOrders,\n",
       "    AVG(o.OrderAmount) AS AverageOrderValue\n",
       "FROM\n",
       "    Orders o\n",
       "JOIN\n",
       "    Products p ON o.ProductID = p.ProductID\n",
       "WHERE\n",
       "    o.OrderDate BETWEEN '2023-01-01' AND '2023-12-31' -- Replace with your desired year\n",
       "GROUP BY\n",
       "    OrderMonth,\n",
       "    p.Category;\n",
       "\n",
       "\n",
       "-- Calculate the total number of orders and average order value for each product category during Christmas and New Year's Eve\n",
       "\n",
       "SELECT\n",
       "    p.Category,\n",
       "    COUNT(o.OrderID) AS TotalOrders,\n",
       "    AVG(o.OrderAmount) AS AverageOrderValue\n",
       "FROM\n",
       "    Orders o\n",
       "JOIN\n",
       "    Products p ON o.ProductID = p.ProductID\n",
       "WHERE\n",
       "    o.OrderDate BETWEEN '2022-12-24' AND '2023-01-01' -- Filter orders between Christmas and New Year's Eve\n",
       "GROUP BY\n",
       "    p.Category;\n",
       "```"
      ],
      "text/plain": [
       "<IPython.core.display.Markdown object>"
      ]
     },
     "metadata": {},
     "output_type": "display_data"
    }
   ],
   "source": [
    "problem_statement = \"\"\"\n",
    "                    You are a developer working on an e-commerce platform.\n",
    "                    The marketing team has requested a report on the total number of orders and the average order \\\n",
    "                    value for each product category for the past month.\n",
    "                    Your task is to generate a SQL queries to retrieve the total number of orders and the average order \\\n",
    "                    value for each product category for the orders placed in the:\n",
    "                    1) past month,\n",
    "                    2) given data range,\n",
    "                    3) end of each month for given year,\n",
    "                    4) christmas and new year's eve.\n",
    "                    \"\"\"\n",
    "table_metadata = \"\"\"\n",
    "                 - **Orders:**\n",
    "                    - `OrderID` (integer)\n",
    "                    - `ProductID` (integer)\n",
    "                    - `ProductName` (string)\n",
    "                    - `Category` (string)\n",
    "                    - `OrderDate` (date)\n",
    "                    - `OrderAmount` (decimal)\n",
    "                \"\"\"\n",
    "code_style = \"\"\"\n",
    "            Write a SQL query that follows best practices, is readable, and well-commented.\n",
    "             \"\"\"\n",
    "\n",
    "performance_requirement = \"\"\"\n",
    "                          Optimize the query for performance considering the potential size of the \"Orders\" table.\n",
    "                          Consider using appropriate indexing if necessary.\n",
    "                          \"\"\"\n",
    "\n",
    "prefix = f\"\"\" Solve the following: {problem_statement}. The given table metadata is : {table_metadata} .\n",
    "          Follow the following code style:{code_style} . The following performance requirement is: {performance_requirement} .\n",
    "          \"\"\"\n",
    "response = code_generation_model.predict(prefix=prefix).text\n",
    "\n",
    "# you may use print instead of display\n",
    "display(\n",
    "    Markdown(response)\n",
    ")"
   ]
  },
  {
   "cell_type": "markdown",
   "metadata": {},
   "source": [
    "* **BigQuery**"
   ]
  },
  {
   "cell_type": "code",
   "execution_count": 20,
   "metadata": {},
   "outputs": [
    {
     "data": {
      "text/markdown": [
       "```sql\n",
       "-- Total number of orders placed\n",
       "SELECT COUNT(DISTINCT order_id) AS total_orders\n",
       "FROM customer_data, UNNEST(order_history) AS order_info;\n",
       "```"
      ],
      "text/plain": [
       "<IPython.core.display.Markdown object>"
      ]
     },
     "metadata": {},
     "output_type": "display_data"
    }
   ],
   "source": [
    "metadata = \"\"\"\n",
    "          A table of customer data, with the following columns:\n",
    "\n",
    "          customer_id: The unique identifier for the customer.\n",
    "          first_name: The customer's first name.\n",
    "          last_name: The customer's last name.\n",
    "          email: The customer's email address.\n",
    "          phone_number: The customer's phone number.\n",
    "          country: The customer's country of residence.\n",
    "          order_history: A JSON object containing the customer's order history, including the following information for each order:\n",
    "          order_id: The unique identifier for the order.\n",
    "          order_date: The date the order was placed.\n",
    "          order_total: The total amount of the order.\n",
    "          order_items: A list of the items ordered, including the following information for each item:\n",
    "          item_id: The unique identifier for the item.\n",
    "          item_name: The name of the item.\n",
    "          item_quantity: The quantity of the item ordered.\n",
    "          item_price: The price of the item.\n",
    "\n",
    "            \"\"\"\n",
    "language = \"BigQuery\"\n",
    "problem = \"\"\"solve following queries: \\n\n",
    "            - Total number of orders placed. \\n\n",
    "            - Total amount of money spent on orders. \\n\n",
    "            - Average order value. \\n\n",
    "            - Most popular item ordered (by quantity). \\n\n",
    "            - Most recent order placed. \\n\n",
    "          \"\"\"\n",
    "additional_requirment = \"\"\"\n",
    "            - The query should be efficient and scalable, as the customer table may contain millions of rows. \\n\n",
    "            - The query should be easy to read and maintain.\n",
    "            \"\"\"\n",
    "prefix = f\"\"\"Write a {language} query to {problem}.\n",
    "          use this as the table metadata: {metadata}.\n",
    "          Here are some additional requirement for the query: {additional_requirment}.\n",
    "          Generate each query as a separate query seperated with a comment.\n",
    "              \"\"\"\n",
    "response = code_generation_model.predict(prefix=prefix, max_output_tokens=2000).text\n",
    "\n",
    "# you may use print instead of display\n",
    "display(\n",
    "    Markdown(response)\n",
    ")"
   ]
  },
  {
   "cell_type": "markdown",
   "metadata": {},
   "source": [
    "### 6. Code Optimization\n",
    "\n",
    "We can define our problem statement's specific optimization requirements in the code optimization prompt. The codey models are great at following particular instructions and generating code that can meet user-specific conditions. We can experiment below with three languages and see how to give specific instructions on data structures, algorithmic complexity, and maintainability."
   ]
  },
  {
   "cell_type": "markdown",
   "metadata": {},
   "source": [
    "* **Heskell**"
   ]
  },
  {
   "cell_type": "code",
   "execution_count": 21,
   "metadata": {},
   "outputs": [
    {
     "data": {
      "text/markdown": [
       "```haskell\n",
       "-- Recursive function to calculate the sum of a list of numbers\n",
       "sumList :: Num a => [a] -> a\n",
       "sumList [] = 0\n",
       "sumList (x:xs) = x + sumList xs\n",
       "\n",
       "-- Example use case\n",
       "main :: IO ()\n",
       "main = do\n",
       "  let list = [1, 2, 3, 4, 5]\n",
       "  print $ sumList list -- Output: 15\n",
       "```"
      ],
      "text/plain": [
       "<IPython.core.display.Markdown object>"
      ]
     },
     "metadata": {},
     "output_type": "display_data"
    }
   ],
   "source": [
    "sample_input = \"A list of integers, e.g. [1, 2, 3, 4, 5]\"\n",
    "language = \"Haskell\"\n",
    "problem_statement = f\"a {language} program that calculates the sum of all the integers in the list.\"\n",
    "additional_requirement = \"\"\"\n",
    "                      - The function should be efficient and recursive.\n",
    "                      - The function should be polymorphic, so that it can be used to sum lists of any type of number.\n",
    "                      \"\"\"\n",
    "prefix = f\"\"\"\n",
    "        Write {problem_statement}. \\n\n",
    "        Also add example use case that take {sample_input} calling the function generated.\n",
    "        Here are some additional requirement for the function: {additional_requirement}.\n",
    "        \"\"\"\n",
    "response = code_generation_model.predict(prefix=prefix, max_output_tokens=1000).text\n",
    "\n",
    "# you may use print instead of display\n",
    "display(\n",
    "    Markdown(response)\n",
    ")"
   ]
  },
  {
   "cell_type": "markdown",
   "metadata": {},
   "source": [
    "* **Java**"
   ]
  },
  {
   "cell_type": "code",
   "execution_count": 22,
   "metadata": {},
   "outputs": [
    {
     "data": {
      "text/markdown": [
       "```java\n",
       "import java.util.Scanner;\n",
       "\n",
       "public class ExpressionEvaluator {\n",
       "\n",
       "    public static void main(String[] args) {\n",
       "        Scanner scanner = new Scanner(System.in);\n",
       "\n",
       "        // Get the mathematical expression from the user.\n",
       "        System.out.println(\"Enter a mathematical expression: \");\n",
       "        String expression = scanner.nextLine();\n",
       "\n",
       "        // Evaluate the expression and print the result.\n",
       "        double result = evaluateExpression(expression);\n",
       "        System.out.println(\"The result of the expression is: \" + result);\n",
       "    }\n",
       "\n",
       "    public static double evaluateExpression(String expression) {\n",
       "        // Create a stack to store the operands and operators.\n",
       "        Stack<Double> operands = new Stack<>();\n",
       "        Stack<Character> operators = new Stack<>();\n",
       "\n",
       "        // Tokenize the expression.\n",
       "        String[] tokens = expression.split(\" \");\n",
       "\n",
       "        // Iterate over the tokens.\n",
       "        for (String token : tokens) {\n",
       "            // If the token is an operand, push it onto the operands stack.\n",
       "            if (isOperand(token)) {\n",
       "                operands.push(Double.parseDouble(token));\n",
       "            }\n",
       "            // If the token is an operator, push it onto the operators stack.\n",
       "            else if (isOperator(token)) {\n",
       "                operators.push(token.charAt(0));\n",
       "            }\n",
       "            // If the token is a left parenthesis, push it onto the operators stack.\n",
       "            else if (token.equals(\"(\")) {\n",
       "                operators.push('(');\n",
       "            }\n",
       "            // If the token is a right parenthesis, pop operators from the operators stack and apply them to the operands stack until a left parenthesis is encountered.\n",
       "            else if (token.equals(\")\")) {\n",
       "                while (!operators.isEmpty() && operators.peek() != '(') {\n",
       "                    double operand2 = operands.pop();\n",
       "                    double operand1 = operands.pop();\n",
       "                    char operator = operators.pop();\n",
       "                    double result = applyOperator(operator, operand1, operand2);\n",
       "                    operands.push(result);\n",
       "                }\n",
       "\n",
       "                // Pop the left parenthesis from the operators stack.\n",
       "                operators.pop();\n",
       "            }\n",
       "        }\n",
       "\n",
       "        // While there are still operators on the operators stack, pop them and apply them to the operands stack.\n",
       "        while (!operators.isEmpty()) {\n",
       "            double operand2 = operands.pop();\n",
       "            double operand1 = operands.pop();\n",
       "            char operator = operators.pop();\n",
       "            double result = applyOperator(operator, operand1, operand2);\n",
       "            operands.push(result);\n",
       "        }\n",
       "\n",
       "        // The last element on the operands stack is the result of the expression.\n",
       "        return operands.pop();\n",
       "    }\n",
       "\n",
       "    public static boolean isOperand(String token) {\n",
       "        try {\n",
       "            Double.parseDouble(token);\n",
       "            return true;\n",
       "        } catch (NumberFormatException e) {\n",
       "            return false;\n",
       "        }\n",
       "    }\n",
       "\n",
       "    public static boolean isOperator(String token) {\n",
       "        return token.equals(\"+\") || token.equals(\"-\") || token.equals(\"*\") || token.equals(\"/\");\n",
       "    }\n",
       "\n",
       "    public static double applyOperator(char operator, double operand1, double operand2) {\n",
       "        switch (operator) {\n",
       "            case '+':\n",
       "                return operand1 + operand2;\n",
       "            case '-':\n",
       "                return operand1 - operand2;\n",
       "            case '*':\n",
       "                return operand1 * operand2;\n",
       "            case '/':\n",
       "                return operand1 / operand2;\n",
       "            default:\n",
       "                throw new IllegalArgumentException(\"Invalid operator: \" + operator);\n",
       "        }\n",
       "    }\n",
       "}\n",
       "```"
      ],
      "text/plain": [
       "<IPython.core.display.Markdown object>"
      ]
     },
     "metadata": {},
     "output_type": "display_data"
    }
   ],
   "source": [
    "sample_input = \"\"\" \"(1 + 2) * 3\"\n",
    "              \"\"\"\n",
    "language = \"Java\"\n",
    "problem_statement = f\"a {language} program that evaluates the mathematical expression and prints the result to the console.\"\n",
    "additional_requirement = \"\"\"\n",
    "                      - The program should handle all valid mathematical expressions, including those with parentheses, operators, and variables.\n",
    "                      \"\"\"\n",
    "prefix = f\"\"\"\n",
    "        Write {problem_statement}. \\n\n",
    "        Use {sample_input} to test the generated code.\n",
    "        Here are some additional requirement for the function: {additional_requirement}.\n",
    "        \"\"\"\n",
    "response = code_generation_model.predict(prefix=prefix).text\n",
    "\n",
    "# you may use print instead of display\n",
    "display(\n",
    "    Markdown(response)\n",
    ")"
   ]
  },
  {
   "cell_type": "markdown",
   "metadata": {},
   "source": [
    "* **JavaScript**"
   ]
  },
  {
   "cell_type": "code",
   "execution_count": 25,
   "metadata": {},
   "outputs": [
    {
     "data": {
      "text/markdown": [
       "```javascript\n",
       "// Function to calculate product statistics\n",
       "function calculateProductStatistics(products) {\n",
       "  // Initialize variables\n",
       "  let total_price = 0;\n",
       "  let average_price = 0;\n",
       "  let most_expensive_product = null;\n",
       "  let least_expensive_product = null;\n",
       "  let out_of_stock_products = [];\n",
       "\n",
       "  // Iterate over the products\n",
       "  for (let i = 0; i < products.length; i++) {\n",
       "    const product = products[i];\n",
       "\n",
       "    // Calculate total price\n",
       "    total_price += product.price * product.quantity;\n",
       "\n",
       "    // Calculate average price\n",
       "    average_price = total_price / products.length;\n",
       "\n",
       "    // Find most expensive product\n",
       "    if (most_expensive_product === null || product.price > most_expensive_product.price) {\n",
       "      most_expensive_product = product;\n",
       "    }\n",
       "\n",
       "    // Find least expensive product\n",
       "    if (least_expensive_product === null || product.price < least_expensive_product.price) {\n",
       "      least_expensive_product = product;\n",
       "    }\n",
       "\n",
       "    // Add out of stock products to the list\n",
       "    if (product.quantity === 0) {\n",
       "      out_of_stock_products.push(product);\n",
       "    }\n",
       "  }\n",
       "\n",
       "  // Return the product statistics\n",
       "  return {\n",
       "    total_price: total_price,\n",
       "    average_price: average_price,\n",
       "    most_expensive_product: most_expensive_product,\n",
       "    least_expensive_product: least_expensive_product,\n",
       "    out_of_stock_products: out_of_stock_products,\n",
       "  };\n",
       "}\n",
       "\n",
       "// Example use case\n",
       "const products = [\n",
       "  {\n",
       "    id: 1,\n",
       "    name: \"Product 1\",\n",
       "    price: 10,\n",
       "    quantity: 5,\n",
       "  },\n",
       "  {\n",
       "    id: 2,\n",
       "    name: \"Product 2\",\n",
       "    price: 20,\n",
       "    quantity: 3,\n",
       "  },\n",
       "  {\n",
       "    id: 3,\n",
       "    name: \"Product 3\",\n",
       "    price: 30,\n",
       "    quantity: 0,\n",
       "  },\n",
       "];\n",
       "\n",
       "const productStatistics = calculateProductStatistics(products);\n",
       "\n",
       "console.log(\"Total Price:\", productStatistics.total_price);\n",
       "console.log(\"Average Price:\", productStatistics.average_price);\n",
       "console.log(\"Most Expensive Product:\", productStatistics.most_expensive_product);\n",
       "console.log(\"Least Expensive Product:\", productStatistics.least_expensive_product);\n",
       "console.log(\"Out of Stock Products:\", productStatistics.out_of_stock_products);\n",
       "```"
      ],
      "text/plain": [
       "<IPython.core.display.Markdown object>"
      ]
     },
     "metadata": {},
     "output_type": "display_data"
    }
   ],
   "source": [
    "sample_input = \"\"\"\n",
    "              A JSON object containing a list of products, each product with the following properties:\n",
    "              id: The unique identifier for the product.\n",
    "              name: The name of the product.\n",
    "              price: The price of the product.\n",
    "              quantity: The quantity of the product in stock.\n",
    "              \"\"\"\n",
    "language = \"JavaScript\"\n",
    "problem_statement = f\"\"\"a {language} function that takes the JSON object as input and returns a new JSON object containing the following properties:\n",
    "                      total_price: The total price of all the products in the list.\n",
    "                      average_price: The average price of all the products in the list.\n",
    "                      most_expensive_product: The most expensive product in the list.\n",
    "                      least_expensive_product: The least expensive product in the list.\n",
    "                      out_of_stock_products: A list of all the products that are out of stock.\n",
    "                    \"\"\"\n",
    "additional_requirement = \"\"\"\n",
    "                      - The function should be efficient and scalable, as the JSON object may contain millions of products.\n",
    "                      - The function should be easy to read and maintain.\n",
    "                      \"\"\"\n",
    "prefix = f\"\"\"\n",
    "        Write {problem_statement}. \\n\n",
    "        Also add example use case that take {sample_input} calling the function generated.\n",
    "        Here are some additional requirement for the function: {additional_requirement}.\n",
    "        \"\"\"\n",
    "response = code_generation_model.predict(prefix=prefix).text\n",
    "\n",
    "# you may use print instead of display\n",
    "display(\n",
    "    Markdown(response)\n",
    ")"
   ]
  },
  {
   "cell_type": "markdown",
   "metadata": {},
   "source": [
    "### 7. Chain of Though\n",
    "\n",
    "`Chain-of-thought` _(CoT)_ prompting is a technique for guiding large language models (LLMs) to generate code by breaking down the task into a series of intermediate natural language reasoning steps. This approach has been shown to improve the quality of generated code compared to traditional prompting methods.\n",
    "\n",
    "To use `CoT` prompting for code generation, we first need to provide the LLM with a natural language description of the task we want to accomplish. The LLM will then generate a chain of thought, a sequence of natural language steps describing how to solve the task. Finally, the LLM will use the chain of thought to generate the code.\n",
    "\n",
    "Here is an example of using CoT prompting to generate a `C++` and `Java` function for specific use cases.\n",
    "\n",
    "* **C++**"
   ]
  },
  {
   "cell_type": "code",
   "execution_count": 26,
   "metadata": {},
   "outputs": [
    {
     "data": {
      "text/markdown": [
       "```c++\n",
       "#include <iostream>\n",
       "#include <fstream>\n",
       "#include <string>\n",
       "#include <vector>\n",
       "\n",
       "using namespace std;\n",
       "\n",
       "// Function to identify the status of the sparkExecutorActorSystem service in network log\n",
       "bool identifySparkExecutorActorSystemStatus(string networkLog) {\n",
       "  // Split the network log into lines\n",
       "  vector<string> lines;\n",
       "  string line;\n",
       "  while (getline(networkLog, line)) {\n",
       "    lines.push_back(line);\n",
       "  }\n",
       "\n",
       "  // Iterate over the lines and search for the line that contains the following string: Successfully started service 'sparkExecutorActorSystem' on port.\n",
       "  int port = -1;\n",
       "  for (string line : lines) {\n",
       "    if (line.find(\"Successfully started service 'sparkExecutorActorSystem' on port\") != string::npos) {\n",
       "      // Extract the port number and save it in the variable\n",
       "      port = stoi(line.substr(line.find(\"port\") + 5));\n",
       "      break;\n",
       "    }\n",
       "  }\n",
       "\n",
       "  // If the line is found, return True along with the port number\n",
       "  if (port != -1) {\n",
       "    return true;\n",
       "  }\n",
       "\n",
       "  // Otherwise, return False\n",
       "  return false;\n",
       "}\n",
       "\n",
       "int main() {\n",
       "  // Sample input network log\n",
       "  string networkLog =\n",
       "      \"17/06/09 20:10:41 INFO slf4j.Slf4jLogger: Slf4jLogger started\\n\"\n",
       "      \"17/06/09 20:10:41 INFO Remoting: Starting remoting\\n\"\n",
       "      \"17/06/09 20:10:41 INFO Remoting: Remoting started; listening on addresses :[akka.tcp://sparkExecutorActorSystem@mesos-slave-07:55904]\\n\"\n",
       "      \"17/06/09 20:10:41 INFO util.Utils: Successfully started service 'sparkExecutorActorSystem' on port 55904.\\n\";\n",
       "\n",
       "  // Call the function passing the sample input\n",
       "  bool status = identifySparkExecutorActorSystemStatus(networkLog);\n",
       "\n",
       "  // Print the output\n",
       "  if (status) {\n",
       "    cout << \"True \" << port << endl;\n",
       "  } else {\n",
       "    cout << \"False\" << endl;\n",
       "  }\n",
       "\n",
       "  return 0;\n",
       "}\n",
       "```"
      ],
      "text/plain": [
       "<IPython.core.display.Markdown object>"
      ]
     },
     "metadata": {},
     "output_type": "display_data"
    }
   ],
   "source": [
    "language = \"C++\"\n",
    "sample_input = \"\"\"\n",
    "                17/06/09 20:10:41 INFO slf4j.Slf4jLogger: Slf4jLogger started\n",
    "                17/06/09 20:10:41 INFO Remoting: Starting remoting\n",
    "                17/06/09 20:10:41 INFO Remoting: Remoting started; listening on addresses :[akka.tcp://sparkExecutorActorSystem@mesos-slave-07:55904]\n",
    "                17/06/09 20:10:41 INFO util.Utils: Successfully started service 'sparkExecutorActorSystem' on port 55904.\n",
    "              \"\"\"\n",
    "additional_requirement = \"\"\"\n",
    "                      - It should not use regex to find the given line\n",
    "                      - the solution should be scalable and should scale linearly with additional data\n",
    "                      - the output should print a flag and port number both.\n",
    "                      - All the variable should be properly in scope and should be decalred only once.\n",
    "                      - The varibles should have scope to be called in the main() function.\n",
    "                      - The code should be easy to read and maintain\n",
    "                      - The code should have proper typehints and comments\n",
    "                      \"\"\"\n",
    "\n",
    "prefix = f\"\"\"\n",
    "        Prompt 1: What is the problem we are trying to solve?\n",
    "\n",
    "        Identify the status of the sparkExecutorActorSystem service in network log and output True or False along with the port, if True.\n",
    "\n",
    "        Prompt 2: What is the language you want to use to solve this problem?\n",
    "        {language}\n",
    "\n",
    "        Prompt 3: What are the inputs and outputs of the function?\n",
    "\n",
    "        Input: Network log\n",
    "        Output: Boolean value indicating the status of the sparkExecutorActorSystem service and the port, if True\n",
    "\n",
    "        Prompt 4: What are the steps involved in identifying the status of the sparkExecutorActorSystem service in network log?\n",
    "\n",
    "        Split the network log into lines.\n",
    "        Iterate over the lines and search for the line that contains the following string: Successfully started service 'sparkExecutorActorSystem' on port.\n",
    "        If the line is found, extract the port number and save it in the variable\n",
    "        Make sure the varibles are scoped to be called in the main() function.\n",
    "        If the line is not found,\n",
    "        Return True along with the port number variable.\n",
    "        Otherwise, return False.\n",
    "        call the function passing the sample input\n",
    "        Prompt 5: What is the sample input that can be tested as a test use case?\n",
    "        {sample_input}\n",
    "\n",
    "        prompt 6: Any additional expectation from the code logic?\n",
    "        {additional_requirement}\n",
    "\n",
    "        Prompt 7: Write the code for the scenario keeping additional expectation and expected language while generation along with the test case.\n",
    "\n",
    "        \"\"\"\n",
    "response = code_generation_model.predict(prefix=prefix).text\n",
    "\n",
    "# you may use print instead of display\n",
    "display(\n",
    "    Markdown(response)\n",
    ")"
   ]
  },
  {
   "cell_type": "markdown",
   "metadata": {},
   "source": [
    "* **Java**"
   ]
  },
  {
   "cell_type": "code",
   "execution_count": 27,
   "metadata": {},
   "outputs": [
    {
     "data": {
      "text/markdown": [
       "```java\n",
       "import java.util.Scanner;\n",
       "\n",
       "public class ReverseString {\n",
       "\n",
       "    public static void main(String[] args) {\n",
       "        Scanner scanner = new Scanner(System.in);\n",
       "\n",
       "        // Get the input string from the user.\n",
       "        System.out.println(\"Enter a string: \");\n",
       "        String inputString = scanner.nextLine();\n",
       "\n",
       "        // Reverse the input string.\n",
       "        String reversedString = reverseString(inputString);\n",
       "\n",
       "        // Print the reversed string.\n",
       "        System.out.println(\"The reversed string is: \" + reversedString);\n",
       "    }\n",
       "\n",
       "    public static String reverseString(String string) {\n",
       "        // Create a new string to store the reversed string.\n",
       "        StringBuilder reversedString = new StringBuilder();\n",
       "\n",
       "        // Iterate over the input string from the back.\n",
       "        for (int i = string.length() - 1; i >= 0; i--) {\n",
       "            // Add each character to the new string in reverse order.\n",
       "            reversedString.append(string.charAt(i));\n",
       "        }\n",
       "\n",
       "        // Return the new string.\n",
       "        return reversedString.toString();\n",
       "    }\n",
       "}\n",
       "```"
      ],
      "text/plain": [
       "<IPython.core.display.Markdown object>"
      ]
     },
     "metadata": {},
     "output_type": "display_data"
    }
   ],
   "source": [
    "prefix = \"\"\"\n",
    "        q: What is the input to the function?\n",
    "        a: The input to the function is a string.\n",
    "\n",
    "        q: What is the output of the function?\n",
    "        a: The output of the function is a reversed string.\n",
    "\n",
    "        q: What are the steps involved in reversing a string?\n",
    "        a: 1) Iterate over the string from the back.\n",
    "            2) Add each character to a new string in reverse order.\n",
    "            3) Return the new string.\n",
    "\n",
    "        q: Write pseudocode for the function.\n",
    "        a: function reverse_string(string):\n",
    "              new_string = \"\"\n",
    "              for i in range(len(string) - 1, -1, -1):\n",
    "                  new_string += string[i]\n",
    "              return new_string\n",
    "\n",
    "        q: how would you test the function?\n",
    "        a: the input \"hello\" should return \"olleh\"\n",
    "\n",
    "        q: write java code for the function follwing all the question-answer pairs.\n",
    "        \"\"\"\n",
    "response = code_generation_model.predict(prefix=prefix,max_output_tokens=2048).text\n",
    "\n",
    "# you may use print instead of display\n",
    "display(\n",
    "    Markdown(response)\n",
    ")"
   ]
  },
  {
   "cell_type": "markdown",
   "metadata": {},
   "source": [
    "### 8. Few-shot with User-journey and Pseudo/Starter Code\n",
    "\n",
    "In the few-shot prompt, we can also pass user-journey or pseudo/starter code examples for the code generation to adhere to specific instructions. The user journey can include sample input and output data structures as well. We can also complement that by passing some starter code so the model can follow the code generation per the structure we want. Here are some examples of different languages.\n",
    "\n",
    "* **Kotlin**"
   ]
  },
  {
   "cell_type": "code",
   "execution_count": 28,
   "metadata": {},
   "outputs": [
    {
     "data": {
      "text/markdown": [
       "```kotlin\n",
       "// Restaurant data class\n",
       "data class Restaurant(val name: String, val address: String, val cuisine: String)\n",
       "\n",
       "// Function to search for restaurants\n",
       "fun searchRestaurants(restaurants: List<Restaurant>, searchQuery: String): List<Restaurant> {\n",
       "    // Convert the search query to lowercase for case-insensitive search\n",
       "    val lowercaseQuery = searchQuery.toLowerCase()\n",
       "\n",
       "    // Filter the restaurants based on the search query\n",
       "    return restaurants.filter { restaurant ->\n",
       "        // Check if the restaurant name, address, or cuisine type contains the search query\n",
       "        restaurant.name.toLowerCase().contains(lowercaseQuery) ||\n",
       "                restaurant.address.toLowerCase().contains(lowercaseQuery) ||\n",
       "                restaurant.cuisine.toLowerCase().contains(lowercaseQuery)\n",
       "    }\n",
       "}\n",
       "\n",
       "// Example usage\n",
       "val restaurants = listOf(\n",
       "    Restaurant(\"The Grill\", \"123 Main Street\", cuisine = \"American\"),\n",
       "    Restaurant(\"Thai Paradise\", \"456 Elm Street\", cuisine = \"Thai\"),\n",
       "    Restaurant(\"Little Italy\", \"789 Pine Street\", cuisine = \"Italian\"),\n",
       ")\n",
       "\n",
       "val searchQuery = \"Italian\"\n",
       "\n",
       "val matchingRestaurants = searchRestaurants(restaurants, searchQuery)\n",
       "\n",
       "// Print the matching restaurants\n",
       "println(\"Matching restaurants:\")\n",
       "matchingRestaurants.forEach { restaurant ->\n",
       "    println(\"${restaurant.name} - ${restaurant.address} - ${restaurant.cuisine}\")\n",
       "}\n",
       "```"
      ],
      "text/plain": [
       "<IPython.core.display.Markdown object>"
      ]
     },
     "metadata": {},
     "output_type": "display_data"
    }
   ],
   "source": [
    "user_journey = \"\"\"\n",
    "              A Kotlin developer is working on a new Android app.\n",
    "              They need to implement a feature that allows users to search for nearby restaurants.\n",
    "              \"\"\"\n",
    "sample_input = \"\"\"\n",
    "              A list of restaurants and a search query:\n",
    "              val restaurants = listOf(\n",
    "                                Restaurant(\"The Grill\", \"123 Main Street\", cuisine = \"American\"),\n",
    "                                Restaurant(\"Thai Paradise\", \"456 Elm Street\", cuisine = \"Thai\"),\n",
    "                                Restaurant(\"Little Italy\", \"789 Pine Street\", cuisine = \"Italian\"),\n",
    "                              )\n",
    "\n",
    "              val searchQuery = \"Italian\"\n",
    "\n",
    "              \"\"\"\n",
    "sample_output = \"\"\"\n",
    "          A list of restaurants that match the search query:\n",
    "          val matchingRestaurants = listOf(\n",
    "              Restaurant(\"Little Italy\", \"789 Pine Street\", cuisine = \"Italian\"),\n",
    "            )\n",
    "          \"\"\"\n",
    "language = \"Kotlin\"\n",
    "problem_statement = f\"\"\"a {language} function that takes a list of restaurants and a search query as input and returns  \\\n",
    "                        list of restaurants that match the search query. The search query can be a substring of the restaurant name, \\\n",
    "                        address, or cuisine type.\n",
    "                    \"\"\"\n",
    "additional_requirement = \"\"\"\n",
    "                     - The function should be efficient and scalable.\n",
    "                     - The function should be easy to read and maintain.\n",
    "                      \"\"\"\n",
    "prefix = f\"\"\"\n",
    "        Write {problem_statement}. \\n\n",
    "        Also add example use case that take {sample_input} and {sample_output} calling the function generated.\n",
    "        Here are some additional requirement for the function: {additional_requirement}.\n",
    "        \"\"\"\n",
    "response = code_generation_model.predict(prefix=prefix).text\n",
    "\n",
    "# you may use print instead of display\n",
    "display(\n",
    "    Markdown(response)\n",
    ")"
   ]
  },
  {
   "cell_type": "markdown",
   "metadata": {},
   "source": [
    "* **Rust**"
   ]
  },
  {
   "cell_type": "code",
   "execution_count": 29,
   "metadata": {},
   "outputs": [
    {
     "data": {
      "text/markdown": [
       "```rust\n",
       "// Calculate the moving average of a stock price over a given period of time.\n",
       "\n",
       "// The function takes two inputs:\n",
       "// - A vector of stock prices.\n",
       "// - The period over which to calculate the moving average.\n",
       "\n",
       "// The function returns the moving average of the stock price over the given period.\n",
       "\n",
       "fn calculate_moving_average(stock_prices: &[f64], period: usize) -> f64 {\n",
       "    // Initialize a variable to store the moving average.\n",
       "    let mut moving_average = 0.0;\n",
       "\n",
       "    // Iterate over the vector of stock prices, adding each price to the moving average.\n",
       "    for i in 0..stock_prices.len() {\n",
       "        moving_average += stock_prices[i];\n",
       "    }\n",
       "\n",
       "    // Divide the moving average by the period to get the average price over the given period.\n",
       "    moving_average /= period as f64;\n",
       "\n",
       "    // Return the moving average price.\n",
       "    moving_average\n",
       "}\n",
       "\n",
       "fn main() {\n",
       "    // Example usage of the calculate_moving_average function.\n",
       "    let stock_prices = vec![500.0, 100.0, 300.0, 450.0, 120.0];\n",
       "    let period = 3;\n",
       "\n",
       "    let moving_average = calculate_moving_average(&stock_prices, period);\n",
       "\n",
       "    println!(\"The moving average of the stock price over the given period is: {}\", moving_average);\n",
       "}\n",
       "```"
      ],
      "text/plain": [
       "<IPython.core.display.Markdown object>"
      ]
     },
     "metadata": {},
     "output_type": "display_data"
    }
   ],
   "source": [
    "real_world_case = \"\"\"You are a software engineer at a company that develops trading software.\n",
    "                     You need to write a Rust program to calculate the moving average of a stock price over a given period of time.\"\"\"\n",
    "problem_statement = f\"\"\"The program should take two inputs:\n",
    "                        A vector of stock prices.\n",
    "                        The period over which to calculate the moving average.\n",
    "                        The program should output the moving average of the stock price over the given period.\n",
    "                    \"\"\"\n",
    "code_style = \"Idiomatic Rust\"\n",
    "algorithmic_complexity = \"O(n)\"\n",
    "pseudocode = \"\"\"\n",
    "              1) Initialize a variable to store the moving average.\n",
    "              2) Iterate over the vector of stock prices, adding each price to the moving average.\n",
    "              3) Divide the moving average by the period to get the average price over the given period.\n",
    "              4) Return the moving average price.\n",
    "             \"\"\"\n",
    "test_cases = \"\"\"\n",
    "            // Test case 1\n",
    "            let stock_prices = vec![100, 110, 120, 130, 140];\n",
    "            let period = 3;\n",
    "\n",
    "            let moving_average = calculate_moving_average(&stock_prices, period);\n",
    "\n",
    "            assert_eq!(moving_average, 200.0);\n",
    "\n",
    "            \"\"\"\n",
    "sample_input = \"[500, 100, 300, 450, 120]\"\n",
    "prefix = f\"\"\"Write a Rust program based on a {real_world_case} .\n",
    "             The problem statement that needs to be addressed is {problem_statement} .\n",
    "             You can use this pseudocode as an example to generate the code step by step:  {pseudocode} .\n",
    "             Add an example to call the generated function in main() {sample_input}\n",
    "             It should follow the code style pattern as {code_style} and should have {algorithmic_complexity} as algorithmic complexity.\n",
    "             Make sure that the code generated passes the following test cases: {test_cases}\n",
    "             \"\"\"\n",
    "response = code_generation_model.predict(prefix=prefix,\n",
    "                                         max_output_tokens=2000,\n",
    "                                         temperature=0.2).text\n",
    "\n",
    "# you may use print instead of display\n",
    "display(\n",
    "    Markdown(response)\n",
    ")"
   ]
  },
  {
   "cell_type": "markdown",
   "metadata": {},
   "source": [
    "* **Scala**"
   ]
  },
  {
   "cell_type": "code",
   "execution_count": 30,
   "metadata": {},
   "outputs": [
    {
     "data": {
      "text/markdown": [
       "```scala\n",
       "// Starter code\n",
       "case class Product(id: String, name: String, price: Double, available: Boolean)\n",
       "\n",
       "object Product {\n",
       "  // Companion object methods\n",
       "  def create(id: String, name: String, price: Double, available: Boolean = true): Product = {\n",
       "    Product(id, name, price, available)\n",
       "  }\n",
       "\n",
       "  def format(product: Product): String = {\n",
       "    s\"Product ID: ${product.id}, Name: ${product.name}, Price: ${product.price}, Available: ${product.available}\"\n",
       "  }\n",
       "}\n",
       "\n",
       "object Main extends App {\n",
       "  // Test cases\n",
       "  val product1 = Product.create(\"P1\", \"iPhone 13 Pro\", 999.99, true)\n",
       "  val product2 = Product.create(\"P2\", \"Samsung Galaxy S22 Ultra\", 1099.99)\n",
       "\n",
       "  println(Product.format(product1))\n",
       "  println(Product.format(product2))\n",
       "}\n",
       "```"
      ],
      "text/plain": [
       "<IPython.core.display.Markdown object>"
      ]
     },
     "metadata": {},
     "output_type": "display_data"
    }
   ],
   "source": [
    "persona = \"\"\"You are a Scala developer working on a backend service for an e-commerce platform. \"\"\"\n",
    "goal = \"\"\"Your task is to generate Scala code for a data model representing products in the platform's catalog.\n",
    "          The product data model should include information such as product ID, name, price, and availability.\n",
    "       \"\"\"\n",
    "user_journey = \"\"\"\n",
    "              As a developer, your day-to-day tasks often involve designing data models to represent various entities in your application.\n",
    "              In this scenario, you are tasked with creating a Scala case class for the product data model and a companion object with utility methods.\n",
    "              \"\"\"\n",
    "requirements = \"\"\"\n",
    "            1. Create a Scala case class named `Product` with the following fields:\n",
    "                - `id` (String)\n",
    "                - `name` (String)\n",
    "                - `price` (Double)\n",
    "                - `available` (Boolean)\n",
    "\n",
    "            2. Implement a companion object for the `Product` case class with the following methods:\n",
    "                - `create` method that takes parameters for ID, name, price, and availability and returns an instance of the `Product` case class.\n",
    "                - `format` method that takes a `Product` instance and returns a formatted string representation of the product.\n",
    "\n",
    "            3. Ensure that the `create` method sets the availability to `true` by default if not provided.\n",
    "              \"\"\"\n",
    "code_structure = \"\"\"\n",
    "                You have been provided with a starter code structure. Your task is to complete the code to meet the above requirements. The input code structure is as follows:\n",
    "\n",
    "                ```scala\n",
    "                // Starter code\n",
    "                case class Product(id: String, name: String, price: Double, available: Boolean)\n",
    "\n",
    "                object Product {\n",
    "                  // Your generated Scala code for the companion object goes here\n",
    "                }\n",
    "\n",
    "                object Main extends App {\n",
    "                  // Your test cases go here\n",
    "                }\n",
    "                \"\"\"\n",
    "\n",
    "prefix = f\"\"\"{persona} {goal} {user_journey} {requirements} {code_structure} \"\"\"\n",
    "response = code_generation_model.predict(prefix=prefix,\n",
    "                                         max_output_tokens=2000,\n",
    "                                         temperature=0.2).text\n",
    "\n",
    "# you may use print instead of display\n",
    "display(\n",
    "    Markdown(response)\n",
    ")"
   ]
  },
  {
   "cell_type": "markdown",
   "metadata": {},
   "source": [
    "* **Shell Script**"
   ]
  },
  {
   "cell_type": "code",
   "execution_count": 31,
   "metadata": {},
   "outputs": [
    {
     "data": {
      "text/markdown": [
       "```bash\n",
       "#!/bin/bash\n",
       "\n",
       "# This script automates the process of backing up a specified directory to a target backup location using the rsync command.\n",
       "\n",
       "# Check if the required number of arguments are provided\n",
       "if [ $# -ne 2 ]; then\n",
       "  echo \"Usage: $0 <source_directory> <target_directory>\"\n",
       "  exit 1\n",
       "fi\n",
       "\n",
       "# Assign the command-line arguments to variables\n",
       "source_dir=$1\n",
       "target_dir=$2\n",
       "\n",
       "# Check if the source directory exists\n",
       "if [ ! -d \"$source_dir\" ]; then\n",
       "  echo \"Error: Source directory $source_dir does not exist.\"\n",
       "  exit 1\n",
       "fi\n",
       "\n",
       "# Check if the target directory exists\n",
       "if [ ! -d \"$target_dir\" ]; then\n",
       "  echo \"Error: Target directory $target_dir does not exist.\"\n",
       "  exit 1\n",
       "fi\n",
       "\n",
       "# Perform the backup using rsync\n",
       "rsync -avz --progress \"$source_dir/\" \"$target_dir/\"\n",
       "\n",
       "# Check if the backup completed successfully\n",
       "if [ $? -eq 0 ]; then\n",
       "  echo \"Backup completed successfully.\"\n",
       "else\n",
       "  echo \"Error: Backup failed.\"\n",
       "  exit 1\n",
       "fi\n",
       "```"
      ],
      "text/plain": [
       "<IPython.core.display.Markdown object>"
      ]
     },
     "metadata": {},
     "output_type": "display_data"
    }
   ],
   "source": [
    "persona = \"\"\"\n",
    "          Imagine you are a system administrator responsible for managing a Linux server environment.\n",
    "          Your daily tasks often involve creating shell scripts to automate various system maintenance and monitoring tasks.\n",
    "          In this scenario, you are tasked with generating a shell script to automate a common backup task.\n",
    "          \"\"\"\n",
    "user_journey = \"\"\"\n",
    "          As a system administrator, you frequently need to create backup scripts to ensure data integrity and disaster recovery.\n",
    "          Your goal is to generate a simple shell script that backs up a specified directory to a target backup location using the `rsync` command.\n",
    "              \"\"\"\n",
    "requriements = \"\"\"\n",
    "          1. Create a shell script named `backup.sh` that takes two command-line arguments:\n",
    "            - Source directory: The directory to be backed up.\n",
    "            - Target directory: The directory where the backup should be stored.\n",
    "\n",
    "          2. The script should use the `rsync` command to perform the backup. The `rsync` command should:\n",
    "            - Synchronize the contents of the source directory to the target directory.\n",
    "            - Preserve file permissions and timestamps.\n",
    "            - Display progress information during the backup.\n",
    "\n",
    "          3. Add comments to the script to explain its purpose and usage.\n",
    "              \"\"\"\n",
    "starter_code = \"\"\"\n",
    "          You have been provided with a starter code structure.\n",
    "          Your task is to complete the code to meet the above requirements.\n",
    "          The input code structure is as follows:\n",
    "\n",
    "          ```bash\n",
    "          #!/bin/bash\n",
    "\n",
    "          # Your generated Shell script code goes here\n",
    "          \"\"\"\n",
    "\n",
    "prefix = f\"\"\"{persona} {user_journey} {requriements} {starter_code} \"\"\"\n",
    "response = code_generation_model.predict(prefix=prefix,\n",
    "                                         max_output_tokens=2000,\n",
    "                                        ).text\n",
    "\n",
    "# you may use print instead of display\n",
    "display(\n",
    "    Markdown(response)\n",
    ")"
   ]
  },
  {
   "cell_type": "markdown",
   "metadata": {},
   "source": [
    "* **Solidity [BlockChain]**"
   ]
  },
  {
   "cell_type": "code",
   "execution_count": 32,
   "metadata": {},
   "outputs": [
    {
     "data": {
      "text/markdown": [
       "```solidity\n",
       "pragma solidity ^0.8.0;\n",
       "\n",
       "contract DEX {\n",
       "    mapping(address => uint256) public balances;\n",
       "\n",
       "    function withdraw(address user, uint256 amount) public returns (bool) {\n",
       "        // Check if the user has enough tokens to withdraw\n",
       "        require(balances[user] >= amount, \"Insufficient balance\");\n",
       "\n",
       "        // Update the user's balance\n",
       "        balances[user] -= amount;\n",
       "\n",
       "        // Transfer the tokens to the user\n",
       "        (bool success, ) = user.call{value: amount}(\"\");\n",
       "        require(success, \"Transfer failed\");\n",
       "\n",
       "        return true;\n",
       "    }\n",
       "}\n",
       "```"
      ],
      "text/plain": [
       "<IPython.core.display.Markdown object>"
      ]
     },
     "metadata": {},
     "output_type": "display_data"
    }
   ],
   "source": [
    "user_input = \"\"\"\n",
    "         - The address of the user withdrawing the tokens\n",
    "         - The amount of tokens being withdrawn\n",
    "         \"\"\"\n",
    "return_output = \"\"\"\n",
    "         - A boolean value indicating whether the withdrawal was successful\n",
    "         \"\"\"\n",
    "requirements = \"\"\"\n",
    "          - The code should be written in Solidity using the latest best practices.\n",
    "          - algorithm should be O(1) time complexity.\n",
    "          \"\"\"\n",
    "\n",
    "\n",
    "prefix = f\"\"\"\n",
    "         Generate a Solidity function called withdraw() that allows users to withdraw tokens from a decentralized exchange (DEX).\n",
    "         The function should take the following inputs: {user_input} and should return: {return_output}.\n",
    "         The function should also meet the following requirements: {requirements}\n",
    "         \"\"\"\n",
    "response = code_generation_model.predict(prefix=prefix,\n",
    "                                         max_output_tokens=2000,\n",
    "                                         temperature=0.2).text\n",
    "\n",
    "# you may use print instead of display\n",
    "display(\n",
    "    Markdown(response)\n",
    ")"
   ]
  },
  {
   "cell_type": "markdown",
   "metadata": {},
   "source": [
    "* **Verilog**"
   ]
  },
  {
   "cell_type": "code",
   "execution_count": 33,
   "metadata": {},
   "outputs": [
    {
     "data": {
      "text/markdown": [
       "```verilog\n",
       "module ThreeBitAdder(\n",
       "    input [2:0] a,\n",
       "    input [2:0] b,\n",
       "    output [2:0] sum,\n",
       "    output carry\n",
       ");\n",
       "\n",
       "// Instantiate D flip-flops\n",
       "reg [2:0] sum_reg;\n",
       "reg carry_reg;\n",
       "\n",
       "// Combinational logic to calculate sum and carry\n",
       "always @(*) begin\n",
       "    {carry_reg, sum_reg} = a + b;\n",
       "end\n",
       "\n",
       "// Register the sum and carry values\n",
       "always @(posedge clk) begin\n",
       "    sum <= sum_reg;\n",
       "    carry <= carry_reg;\n",
       "end\n",
       "\n",
       "endmodule\n",
       "```"
      ],
      "text/plain": [
       "<IPython.core.display.Markdown object>"
      ]
     },
     "metadata": {},
     "output_type": "display_data"
    }
   ],
   "source": [
    "prefix = \"\"\"\n",
    "        Generate Verilog code for a 3-bit adder circuit that performs addition of two 3-bit numbers using only D flip-flops.\n",
    "        The circuit should have the following inputs:\n",
    "        a[2:0]\n",
    "        b[2:0]\n",
    "        The circuit should have the following outputs:\n",
    "        sum[2:0]\n",
    "        carry\n",
    "        The circuit should implement the following logic:\n",
    "        The circuit should add the two 3-bit numbers and store the result in the sum output. The carry output should be set to 1 if the addition results in a carry-out, and 0 otherwise.\n",
    "        Constraints:\n",
    "        The circuit must use only D flip-flops.\n",
    "        \"\"\"\n",
    "response = code_generation_model.predict(prefix=prefix).text\n",
    "\n",
    "# you may use print instead of display\n",
    "display(\n",
    "    Markdown(response)\n",
    ")"
   ]
  },
  {
   "cell_type": "markdown",
   "metadata": {},
   "source": [
    "### 9. DevOps Templates\n",
    "\n",
    "Codey is also capable of helping we generate DevOps-related code samples. We can generate `Docker`, `Jenkins`, `GitLab CI`, `Prometheus Configurations`, and many more such code blocks with the following templates."
   ]
  },
  {
   "cell_type": "markdown",
   "metadata": {},
   "source": [
    "* **Docker**"
   ]
  },
  {
   "cell_type": "code",
   "execution_count": 34,
   "metadata": {},
   "outputs": [
    {
     "data": {
      "text/markdown": [
       "```\n",
       "# Dockerfile for Python application\n",
       "\n",
       "# Base image\n",
       "FROM python:latest\n",
       "\n",
       "# Expose ports\n",
       "EXPOSE 8000\n",
       "\n",
       "# Install dependencies\n",
       "RUN pip install flask\n",
       "\n",
       "# Set working directory\n",
       "WORKDIR /app\n",
       "\n",
       "# Copy files to image\n",
       "COPY app.py requirements.txt ./ .\n",
       "\n",
       "# Run command on startup\n",
       "CMD flask run --host=0.0.0.0\n",
       "```"
      ],
      "text/plain": [
       "<IPython.core.display.Markdown object>"
      ]
     },
     "metadata": {},
     "output_type": "display_data"
    }
   ],
   "source": [
    "prefix = \"\"\"\n",
    "        Generate a Dockerfile for a Python application that:\n",
    "          * Builds the image from a python:latest base image\n",
    "          * Exposes the following ports: 8000\n",
    "          * Installs the following dependencies: pip install flask\n",
    "          * Sets the working directory to /app\n",
    "          * Copies the following files to the image: app.py requirements.txt ./\n",
    "          * Runs the following command on startup: flask run --host=0.0.0.0\n",
    "        \"\"\"\n",
    "response = code_generation_model.predict(prefix=prefix).text\n",
    "\n",
    "# you may use print instead of display\n",
    "display(\n",
    "    Markdown(response)\n",
    ")"
   ]
  },
  {
   "cell_type": "markdown",
   "metadata": {},
   "source": [
    "* **Docker Compose**"
   ]
  },
  {
   "cell_type": "code",
   "execution_count": 35,
   "metadata": {},
   "outputs": [
    {
     "data": {
      "text/markdown": [
       "```yaml\n",
       "version: '3'\n",
       "\n",
       "services:\n",
       "  web:\n",
       "    build: .\n",
       "    volumes:\n",
       "      - ./app:/app\n",
       "    environment:\n",
       "      - FLASK_APP=app.py\n",
       "    networks:\n",
       "      - default\n",
       "\n",
       "networks:\n",
       "  default:\n",
       "```"
      ],
      "text/plain": [
       "<IPython.core.display.Markdown object>"
      ]
     },
     "metadata": {},
     "output_type": "display_data"
    }
   ],
   "source": [
    "prefix = \"\"\"\n",
    "        Generate a Compose file for the following services: web\n",
    "          * Define the following networks: default\n",
    "          * Define the following volumes: ./app:/app\n",
    "          * Define the following environments: FLASK_APP=app.py\n",
    "          * Define the following links: none\n",
    "          * Define the following depends_on relationships: none\n",
    "        \"\"\"\n",
    "response = code_generation_model.predict(prefix=prefix).text\n",
    "\n",
    "# you may use print instead of display\n",
    "display(\n",
    "    Markdown(response)\n",
    ")"
   ]
  },
  {
   "cell_type": "markdown",
   "metadata": {},
   "source": [
    "* **Jenkins**"
   ]
  },
  {
   "cell_type": "code",
   "execution_count": 36,
   "metadata": {},
   "outputs": [
    {
     "data": {
      "text/markdown": [
       "```groovy\n",
       "pipeline {\n",
       "    parameters {\n",
       "        choice(name: 'ENVIRONMENT', choices: ['dev', 'test', 'prod'], description: 'Select the environment to deploy to')\n",
       "        booleanParam(name: 'FEATURE_TOGGLE', defaultValue: false, description: 'Enable or disable the feature toggle')\n",
       "    }\n",
       "\n",
       "    stages {\n",
       "        stage('Build') {\n",
       "            steps {\n",
       "                echo \"Building the application...\"\n",
       "                sh 'mvn clean package'\n",
       "            }\n",
       "        }\n",
       "\n",
       "        stage('Test') {\n",
       "            steps {\n",
       "                echo \"Running tests...\"\n",
       "                sh 'mvn test'\n",
       "            }\n",
       "        }\n",
       "\n",
       "        stage('Deploy') {\n",
       "            steps {\n",
       "                echo \"Deploying the application to ${params.ENVIRONMENT}...\"\n",
       "                sh \"deploy.sh ${params.ENVIRONMENT}\"\n",
       "            }\n",
       "        }\n",
       "    }\n",
       "}\n",
       "```"
      ],
      "text/plain": [
       "<IPython.core.display.Markdown object>"
      ]
     },
     "metadata": {},
     "output_type": "display_data"
    }
   ],
   "source": [
    "prefix = \"\"\"\n",
    "        Objective: Generate a Jenkinsfile for a parametrized pipeline for a Java project.\n",
    "        Instructions:\n",
    "        Allow the user to input parameters like \"Environment\" and \"Feature Toggle.\"\n",
    "        Use these parameters in the build and test stages.\n",
    "        Provide default values for parameters.\n",
    "        \"\"\"\n",
    "response = code_generation_model.predict(prefix=prefix).text\n",
    "\n",
    "# you may use print instead of display\n",
    "display(\n",
    "    Markdown(response)\n",
    ")"
   ]
  },
  {
   "cell_type": "markdown",
   "metadata": {},
   "source": [
    "* **GitLab CLI**"
   ]
  },
  {
   "cell_type": "code",
   "execution_count": 37,
   "metadata": {},
   "outputs": [
    {
     "data": {
      "text/markdown": [
       "```yaml\n",
       "# GitLab CI/CD configuration for Node.js project\n",
       "\n",
       "stages:\n",
       "  - build\n",
       "  - test\n",
       "  - deploy\n",
       "\n",
       "# Build stage\n",
       "build:\n",
       "  image: node:16\n",
       "  script:\n",
       "    - npm install\n",
       "    - npm run build\n",
       "\n",
       "# Test stage\n",
       "test:\n",
       "  image: node:16\n",
       "  script:\n",
       "    - npm test\n",
       "\n",
       "# Deploy stage\n",
       "deploy:\n",
       "  image: nginx:1.21\n",
       "  script:\n",
       "    - cp -r build/* /usr/share/nginx/html\n",
       "    - nginx -g \"daemon off;\"\n",
       "```"
      ],
      "text/plain": [
       "<IPython.core.display.Markdown object>"
      ]
     },
     "metadata": {},
     "output_type": "display_data"
    }
   ],
   "source": [
    "prefix = \"\"\"\n",
    "        Generate GitLab CI YAML configuration for a Node.js project.\n",
    "        Instructions:\n",
    "          - Assume the project uses Node.js and has unit tests.\n",
    "          - Include stages for \"Build,\" \"Test,\" and \"Deploy.\"\n",
    "          - Specify Node.js version and test script.\n",
    "          - Use GitLab CI variables for sensitive information.\n",
    "        \"\"\"\n",
    "response = code_generation_model.predict(prefix=prefix).text\n",
    "\n",
    "# you may use print instead of display\n",
    "display(\n",
    "    Markdown(response)\n",
    ")"
   ]
  },
  {
   "cell_type": "markdown",
   "metadata": {},
   "source": [
    "* **Prometheus Configurations**"
   ]
  },
  {
   "cell_type": "code",
   "execution_count": 38,
   "metadata": {},
   "outputs": [
    {
     "data": {
      "text/markdown": [
       "```yaml\n",
       "# Prometheus configuration file for monitoring a containerized application\n",
       "\n",
       "global:\n",
       "  scrape_interval: 15s\n",
       "\n",
       "scrape_configs:\n",
       "  - job_name: 'my-app'\n",
       "    static_configs:\n",
       "      - targets: ['localhost:9090']\n",
       "        labels:\n",
       "          app: my-app\n",
       "          env: production\n",
       "    relabel_configs:\n",
       "      - source_labels: [__meta_kubernetes_pod_container_name]\n",
       "        action: keep\n",
       "        regex: my-app\n",
       "      - source_labels: [__meta_kubernetes_pod_name]\n",
       "        action: keep\n",
       "        regex: (.*)\n",
       "        target_label: pod\n",
       "\n",
       "alerting:\n",
       "  alertmanagers:\n",
       "    - static_configs:\n",
       "        - targets:\n",
       "            - localhost:9093\n",
       "\n",
       "  rules:\n",
       "    - alert: HighRequestLatency\n",
       "      expr: sum(rate(http_request_duration_seconds_bucket{job=\"my-app\"}[5m])) > 0.5\n",
       "      for: 5m\n",
       "      labels:\n",
       "        severity: high\n",
       "      annotations:\n",
       "        summary: High request latency\n",
       "        description: The average request latency is high.\n",
       "    - alert: LowRequestVolume\n",
       "      expr: sum(rate(http_requests_total{job=\"my-app\"}[5m])) < 100\n",
       "      for: 5m\n",
       "      labels:\n",
       "        severity: low\n",
       "      annotations:\n",
       "        summary: Low request volume\n",
       "        description: The average request volume is low.\n",
       "```"
      ],
      "text/plain": [
       "<IPython.core.display.Markdown object>"
      ]
     },
     "metadata": {},
     "output_type": "display_data"
    }
   ],
   "source": [
    "prefix = \"\"\"\n",
    "         Generate YAML configurations for Prometheus to monitor a containerized application.\n",
    "          Instructions:\n",
    "            - Specify the job for scraping metrics.\n",
    "            - Include targets, labels, and metric relabeling as needed.\n",
    "            - Set up alerting rules for key metrics.\n",
    "        \"\"\"\n",
    "response = code_generation_model.predict(prefix=prefix).text\n",
    "\n",
    "# you may use print instead of display\n",
    "display(\n",
    "    Markdown(response)\n",
    ")"
   ]
  },
  {
   "cell_type": "markdown",
   "metadata": {},
   "source": [
    "### 10. Web Templates\n",
    "\n",
    "We can also generate HTML and CSS codes based on prompts. In the below example, we can see how we can mention various details of a simple HTML page and its characteristics."
   ]
  },
  {
   "cell_type": "markdown",
   "metadata": {},
   "source": [
    "* **HTML**"
   ]
  },
  {
   "cell_type": "code",
   "execution_count": 39,
   "metadata": {},
   "outputs": [
    {
     "data": {
      "text/markdown": [
       "```html\n",
       "<!DOCTYPE html>\n",
       "<html>\n",
       "<head>\n",
       "  <title>My Page Counter Demo</title>\n",
       "  <style>\n",
       "    body {\n",
       "      text-align: center;\n",
       "    }\n",
       "\n",
       "    h1 {\n",
       "      color: brown;\n",
       "    }\n",
       "\n",
       "    #counter-button {\n",
       "      background-color: blue;\n",
       "      color: white;\n",
       "      padding: 10px 20px;\n",
       "      border: none;\n",
       "      border-radius: 5px;\n",
       "    }\n",
       "\n",
       "    #counter-button:hover {\n",
       "      background-color: red;\n",
       "    }\n",
       "\n",
       "    #counter-value {\n",
       "      color: green;\n",
       "      font-size: 24px;\n",
       "    }\n",
       "\n",
       "    footer {\n",
       "      font-weight: bold;\n",
       "      font-size: 24px;\n",
       "    }\n",
       "  </style>\n",
       "</head>\n",
       "<body>\n",
       "  <h1>My Page Counter Demo</h1>\n",
       "\n",
       "  <button id=\"counter-button\" onclick=\"incrementCounter()\">Click Me</button>\n",
       "\n",
       "  <p id=\"counter-value\">0</p>\n",
       "\n",
       "  <footer>Codey Generated this page</footer>\n",
       "\n",
       "  <script>\n",
       "    let counter = 0;\n",
       "\n",
       "    function incrementCounter() {\n",
       "      counter++;\n",
       "\n",
       "      document.getElementById(\"counter-value\").innerHTML = counter;\n",
       "    }\n",
       "  </script>\n",
       "</body>\n",
       "</html>\n",
       "```"
      ],
      "text/plain": [
       "<IPython.core.display.Markdown object>"
      ]
     },
     "metadata": {},
     "output_type": "display_data"
    }
   ],
   "source": [
    "prefix = \"\"\"write a html code for a simple page:\n",
    "            - Has a button \"click me\" and it shows how many time user has hit that button as its counter.\n",
    "            - Add style element that has page header as \"My Page Counter Demo\" in brown color\n",
    "            - Everything should be displayed as 'center'.\n",
    "            - The counter button should be blue by default and when clicked it should be red.\n",
    "            - The counter value should be in green color.\n",
    "            - The bottom of the page should display this message \"Codey Generated this page\" in bold and big font.\n",
    "\"\"\"\n",
    "response = code_generation_model.predict(prefix=prefix).text\n",
    "\n",
    "# you may use print instead of display\n",
    "display(\n",
    "    Markdown(response)\n",
    ")"
   ]
  },
  {
   "cell_type": "code",
   "execution_count": 40,
   "metadata": {},
   "outputs": [
    {
     "data": {
      "text/markdown": [
       "```html\n",
       "<!DOCTYPE html>\n",
       "<html lang=\"en\">\n",
       "<head>\n",
       "  <meta charset=\"UTF-8\">\n",
       "  <meta name=\"viewport\" content=\"width=device-width, initial-scale=1.0\">\n",
       "  <title>E-commerce Landing Page</title>\n",
       "  <link href=\"https://unpkg.com/tailwindcss@^2/dist/tailwind.min.css\" rel=\"stylesheet\">\n",
       "</head>\n",
       "<body>\n",
       "  <header class=\"bg-white shadow-md\">\n",
       "    <div class=\"container mx-auto flex justify-between items-center py-4\">\n",
       "      <div class=\"flex items-center\">\n",
       "        <a href=\"/\" class=\"text-xl font-bold\">Logo</a>\n",
       "      </div>\n",
       "      <nav class=\"hidden md:block\">\n",
       "        <ul class=\"flex items-center\">\n",
       "          <li><a href=\"#\" class=\"px-4 py-2 text-gray-700 hover:text-gray-900\">Home</a></li>\n",
       "          <li><a href=\"#\" class=\"px-4 py-2 text-gray-700 hover:text-gray-900\">Shop</a></li>\n",
       "          <li><a href=\"#\" class=\"px-4 py-2 text-gray-700 hover:text-gray-900\">About</a></li>\n",
       "          <li><a href=\"#\" class=\"px-4 py-2 text-gray-700 hover:text-gray-900\">Contact</a></li>\n",
       "        </ul>\n",
       "      </nav>\n",
       "      <div class=\"hidden md:block\">\n",
       "        <input type=\"text\" placeholder=\"Search\" class=\"border border-gray-300 rounded-md px-4 py-2\">\n",
       "      </div>\n",
       "    </div>\n",
       "  </header>\n",
       "\n",
       "  <section class=\"hero bg-gray-100 py-16\">\n",
       "    <div class=\"container mx-auto flex items-center justify-center\">\n",
       "      <div class=\"text-center\">\n",
       "        <h1 class=\"text-4xl font-bold\">Discover the latest fashion trends</h1>\n",
       "        <p class=\"text-gray-700 mt-4\">Shop our collection of clothes, shoes, and accessories.</p>\n",
       "        <a href=\"#\" class=\"btn btn-primary mt-8\">Shop now</a>\n",
       "      </div>\n",
       "    </div>\n",
       "  </section>\n",
       "\n",
       "  <section class=\"featured-products bg-white py-16\">\n",
       "    <div class=\"container mx-auto\">\n",
       "      <h2 class=\"text-2xl font-bold text-center\">Featured products</h2>\n",
       "      <div class=\"grid grid-cols-1 md:grid-cols-3 gap-4 mt-8\">\n",
       "        <div class=\"product\">\n",
       "          <img src=\"images/product-1.jpg\" alt=\"Product 1\" class=\"w-full h-64 object-cover\">\n",
       "          <div class=\"p-4\">\n",
       "            <h3 class=\"text-lg font-bold\">Product 1</h3>\n",
       "            <p class=\"text-gray-700 mt-2\">$100.00</p>\n",
       "            <a href=\"#\" class=\"btn btn-primary mt-4\">Add to cart</a>\n",
       "          </div>\n",
       "        </div>\n",
       "        <div class=\"product\">\n",
       "          <img src=\"images/product-2.jpg\" alt=\"Product 2\" class=\"w-full h-64 object-cover\">\n",
       "          <div class=\"p-4\">\n",
       "            <h3 class=\"text-lg font-bold\">Product 2</h3>\n",
       "            <p class=\"text-gray-700 mt-2\">$200.00</p>\n",
       "            <a href=\"#\" class=\"btn btn-primary mt-4\">Add to cart</a>\n",
       "          </div>\n",
       "        </div>\n",
       "        <div class=\"product\">\n",
       "          <img src=\"images/product-3.jpg\" alt=\"Product 3\" class=\"w-full h-64 object-cover\">\n",
       "          <div class=\"p-4\">\n",
       "            <h3 class=\"text-lg font-bold\">Product 3</h3>\n",
       "            <p class=\"text-gray-700 mt-2\">$300.00</p>\n",
       "            <a href=\"#\" class=\"btn btn-primary mt-4\">Add to cart</a>\n",
       "          </div>\n",
       "        </div>\n",
       "      </div>\n",
       "    </div>\n",
       "  </section"
      ],
      "text/plain": [
       "<IPython.core.display.Markdown object>"
      ]
     },
     "metadata": {},
     "output_type": "display_data"
    }
   ],
   "source": [
    "prefix = \"\"\"\n",
    "        Generate a responsive HTML code using Tailwind CSS for a landing page of a new e-commerce website that sells clothes. The landing page should have the following sections:\n",
    "         - A header with a logo, a navigation bar, and a search bar.\n",
    "         - A hero section with a large image of a model wearing clothes from the website and a call to action button.\n",
    "         - A featured products section with a grid of images of the best-selling products on the website.\n",
    "         - A testimonial section with quotes from satisfied customers.\n",
    "         - A footer with contact information and social media links.\n",
    "       \"\"\"\n",
    "response = code_generation_model.predict(prefix=prefix).text\n",
    "\n",
    "# you may use print instead of display\n",
    "display(\n",
    "    Markdown(response)\n",
    ")"
   ]
  },
  {
   "cell_type": "markdown",
   "metadata": {},
   "source": [
    "### Best Practices\n",
    "\n",
    "**How to write effective code generation prompts**\n",
    "\n",
    "When writing code generation prompts, it is important to be as clear and specific as possible. The more information we can provide to the model, the better it will be able to understand we intent and generate the desired code.\n",
    "\n",
    "Here are some tips for writing effective code generation prompts:\n",
    "\n",
    "* Start with a clear and concise description of the task we want the model to perform. For example, instead of saying _\"Generate a function to sort a list of numbers,\"_ we could say _\"Generate a Python function to sort a list of integers in ascending order.\"_\n",
    "\n",
    "* Provide examples of the desired input and output. This will help the model to understand the format of the data and the expected output. For example, _you could provide a list of unsorted numbers and the corresponding sorted list._\n",
    "\n",
    "* Use natural language to describe the task. The model is trained on a massive dataset of text and code, so it is able to understand natural language prompts. For example, we could say _\"Generate a function to reverse a string in Python.\"_\n",
    "\n",
    "**How to choose the right temperature and max output tokens**\n",
    "\n",
    "The temperature parameter controls the randomness of the model's output. _A higher temperature will result in more creative and varied output_, but it may also be less accurate. _A lower temperature will result in more accurate output_, but it may also be less creative.\n",
    "\n",
    "The max output tokens parameter controls the maximum number of tokens that the model will generate. This is useful for limiting the length of the output code or preventing the model from generating infinite loops.\n",
    "\n",
    "Here are some tips for choosing the right temperature and max output tokens:\n",
    "\n",
    "* Use a lower temperature for tasks that require high accuracy, such as generating code for machine learning models.\n",
    "\n",
    "* Use a higher temperature for tasks that require creativity, such as generating code for web applications or games.\n",
    "\n",
    "* Use a max output tokens parameter to limit the length of the output code or prevent the model from generating infinite loops.\n",
    "\n",
    "How to interpret and use code generation suggestions\n",
    "\n",
    "**_The code generation suggestions generated by the model are not always perfect_**. It is important to review the generated code carefully and make any necessary changes.\n",
    "\n",
    "Here are some tips for interpreting and using code generation suggestions:\n",
    "\n",
    "* Check the output code for any syntax errors.\n",
    "* Make sure that the output code is consistent with our coding standards.\n",
    "* Test the output code to make sure that it works as expected.\n",
    "\n",
    "**How to avoid common code generation pitfalls**\n",
    "\n",
    "Here are some common code generation pitfalls to avoid:\n",
    "\n",
    "* Using ambiguous or unclear prompts. The more specific you can be in your prompts, the better the model will be able to understand your intent and generate the desired code.\n",
    "* Using too high of a temperature. A higher temperature can lead to less accurate and more creative output. It is important to choose the right temperature for the task you are trying to perform.\n",
    "* Not reviewing the generated code carefully. The generated code is not always perfect. It is important to review the generated code carefully and make any necessary changes."
   ]
  }
 ],
 "metadata": {
  "kernelspec": {
   "display_name": "notebook",
   "language": "python",
   "name": "python3"
  },
  "language_info": {
   "codemirror_mode": {
    "name": "ipython",
    "version": 3
   },
   "file_extension": ".py",
   "mimetype": "text/x-python",
   "name": "python",
   "nbconvert_exporter": "python",
   "pygments_lexer": "ipython3",
   "version": "3.9.18"
  }
 },
 "nbformat": 4,
 "nbformat_minor": 2
}
