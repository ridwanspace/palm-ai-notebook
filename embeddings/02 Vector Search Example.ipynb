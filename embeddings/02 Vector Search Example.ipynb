{
 "cells": [
  {
   "cell_type": "markdown",
   "metadata": {},
   "source": [
    "## Vertex AI Vector Search Quickstart\n",
    "\n",
    "### Prerequisites\n",
    "This tutorial requires a Google Cloud project that is linked with a billing account. To follow this tutorial, make sure to read and run [this notebook](01%20Text%20Embeddings%20and%20Vertex%20AI%20Vector%20Search.ipynb) before.\n",
    "\n",
    "### 1. Setup the Environment\n",
    "\n",
    "Before get started with the Vertex AI services, we need to setup the following.\n",
    "\n",
    "* Install Python SDK\n",
    "* Environment variables\n",
    "* Authentication using Service Account\n",
    "* Enable APIs\n",
    "* Set IAM permissions (Vertex AI User, BigQuery User and Storage Admin)\n",
    "* Install Python SDK\n",
    "\n",
    "```bash\n",
    "!pip install --upgrade --user google-cloud-aiplatform google-cloud-storage google-cloud-bigquery[pandas]\n",
    "```\n",
    "\n",
    "Vertex AI, Cloud Storage and BigQuery APIs can be accessed with multiple ways including REST API and Python SDK. In this tutorial we will use the SDK."
   ]
  },
  {
   "cell_type": "code",
   "execution_count": 1,
   "metadata": {},
   "outputs": [],
   "source": [
    "# import libraries\n",
    "import os\n",
    "import vertexai\n",
    "from IPython.display import Markdown, display\n",
    "from google.oauth2 import service_account\n",
    "from dotenv import load_dotenv"
   ]
  },
  {
   "cell_type": "code",
   "execution_count": 2,
   "metadata": {},
   "outputs": [],
   "source": [
    "# initiate service account (authentication)\n",
    "json_path = '../llm-ai.json' # replace with your own service account\n",
    "credentials = service_account.Credentials.from_service_account_file(json_path)"
   ]
  },
  {
   "cell_type": "code",
   "execution_count": 3,
   "metadata": {},
   "outputs": [],
   "source": [
    "# start Vertex AI\n",
    "load_dotenv()\n",
    "vertexai.init(project=os.environ[\"PROJECT_ID\"], # replace with your own project\n",
    "              credentials=credentials)"
   ]
  },
  {
   "cell_type": "code",
   "execution_count": 4,
   "metadata": {},
   "outputs": [
    {
     "name": "stdout",
     "output_type": "stream",
     "text": [
      "02012009\n"
     ]
    }
   ],
   "source": [
    "# generate an unique id for this session\n",
    "from datetime import datetime\n",
    "\n",
    "UID = datetime.now().strftime(\"%m%d%H%M\")\n",
    "\n",
    "print(UID)"
   ]
  },
  {
   "cell_type": "markdown",
   "metadata": {},
   "source": [
    "### 2. Prepare Dataset\n",
    "\n",
    "In this tutorial, we will use [TheLook](https://console.cloud.google.com/marketplace/product/bigquery-public-data/thelook-ecommerce) dataset that has a products table with about 30,000 rows of synthetic product data for a fictious e-commerce clothing site."
   ]
  },
  {
   "cell_type": "code",
   "execution_count": 5,
   "metadata": {},
   "outputs": [
    {
     "data": {
      "text/html": [
       "<div>\n",
       "<style scoped>\n",
       "    .dataframe tbody tr th:only-of-type {\n",
       "        vertical-align: middle;\n",
       "    }\n",
       "\n",
       "    .dataframe tbody tr th {\n",
       "        vertical-align: top;\n",
       "    }\n",
       "\n",
       "    .dataframe thead th {\n",
       "        text-align: right;\n",
       "    }\n",
       "</style>\n",
       "<table border=\"1\" class=\"dataframe\">\n",
       "  <thead>\n",
       "    <tr style=\"text-align: right;\">\n",
       "      <th></th>\n",
       "      <th>id</th>\n",
       "      <th>cost</th>\n",
       "      <th>category</th>\n",
       "      <th>name</th>\n",
       "      <th>brand</th>\n",
       "      <th>retail_price</th>\n",
       "      <th>department</th>\n",
       "      <th>sku</th>\n",
       "      <th>distribution_center_id</th>\n",
       "    </tr>\n",
       "  </thead>\n",
       "  <tbody>\n",
       "    <tr>\n",
       "      <th>0</th>\n",
       "      <td>13842</td>\n",
       "      <td>2.51875</td>\n",
       "      <td>Accessories</td>\n",
       "      <td>Low Profile Dyed Cotton Twill Cap - Navy W39S55D</td>\n",
       "      <td>MG</td>\n",
       "      <td>6.25</td>\n",
       "      <td>Women</td>\n",
       "      <td>EBD58B8A3F1D72F4206201DA62FB1204</td>\n",
       "      <td>1</td>\n",
       "    </tr>\n",
       "    <tr>\n",
       "      <th>1</th>\n",
       "      <td>13928</td>\n",
       "      <td>2.33835</td>\n",
       "      <td>Accessories</td>\n",
       "      <td>Low Profile Dyed Cotton Twill Cap - Putty W39S55D</td>\n",
       "      <td>MG</td>\n",
       "      <td>5.95</td>\n",
       "      <td>Women</td>\n",
       "      <td>2EAC42424D12436BDD6A5B8A88480CC3</td>\n",
       "      <td>1</td>\n",
       "    </tr>\n",
       "    <tr>\n",
       "      <th>2</th>\n",
       "      <td>14115</td>\n",
       "      <td>4.87956</td>\n",
       "      <td>Accessories</td>\n",
       "      <td>Enzyme Regular Solid Army Caps-Black W35S45D</td>\n",
       "      <td>MG</td>\n",
       "      <td>10.99</td>\n",
       "      <td>Women</td>\n",
       "      <td>EE364229B2791D1EF9355708EFF0BA34</td>\n",
       "      <td>1</td>\n",
       "    </tr>\n",
       "    <tr>\n",
       "      <th>3</th>\n",
       "      <td>14157</td>\n",
       "      <td>4.64877</td>\n",
       "      <td>Accessories</td>\n",
       "      <td>Enzyme Regular Solid Army Caps-Olive W35S45D (...</td>\n",
       "      <td>MG</td>\n",
       "      <td>10.99</td>\n",
       "      <td>Women</td>\n",
       "      <td>00BD13095D06C20B11A2993CA419D16B</td>\n",
       "      <td>1</td>\n",
       "    </tr>\n",
       "    <tr>\n",
       "      <th>4</th>\n",
       "      <td>14273</td>\n",
       "      <td>6.50793</td>\n",
       "      <td>Accessories</td>\n",
       "      <td>Washed Canvas Ivy Cap - Black W11S64C</td>\n",
       "      <td>MG</td>\n",
       "      <td>15.99</td>\n",
       "      <td>Women</td>\n",
       "      <td>F531DC20FDE20B7ADF3A73F52B71D0AF</td>\n",
       "      <td>1</td>\n",
       "    </tr>\n",
       "  </tbody>\n",
       "</table>\n",
       "</div>"
      ],
      "text/plain": [
       "      id     cost     category  \\\n",
       "0  13842  2.51875  Accessories   \n",
       "1  13928  2.33835  Accessories   \n",
       "2  14115  4.87956  Accessories   \n",
       "3  14157  4.64877  Accessories   \n",
       "4  14273  6.50793  Accessories   \n",
       "\n",
       "                                                name brand  retail_price  \\\n",
       "0   Low Profile Dyed Cotton Twill Cap - Navy W39S55D    MG          6.25   \n",
       "1  Low Profile Dyed Cotton Twill Cap - Putty W39S55D    MG          5.95   \n",
       "2       Enzyme Regular Solid Army Caps-Black W35S45D    MG         10.99   \n",
       "3  Enzyme Regular Solid Army Caps-Olive W35S45D (...    MG         10.99   \n",
       "4              Washed Canvas Ivy Cap - Black W11S64C    MG         15.99   \n",
       "\n",
       "  department                               sku  distribution_center_id  \n",
       "0      Women  EBD58B8A3F1D72F4206201DA62FB1204                       1  \n",
       "1      Women  2EAC42424D12436BDD6A5B8A88480CC3                       1  \n",
       "2      Women  EE364229B2791D1EF9355708EFF0BA34                       1  \n",
       "3      Women  00BD13095D06C20B11A2993CA419D16B                       1  \n",
       "4      Women  F531DC20FDE20B7ADF3A73F52B71D0AF                       1  "
      ]
     },
     "execution_count": 5,
     "metadata": {},
     "output_type": "execute_result"
    }
   ],
   "source": [
    "# load the BQ Table into a Pandas Dataframe\n",
    "import pandas as pd\n",
    "from google.cloud import bigquery\n",
    "\n",
    "ROWS_SIZE = 30000\n",
    "\n",
    "bq_client = bigquery.Client(project=os.environ[\"PROJECT_ID\"], credentials=credentials)\n",
    "QUERY_TEMPLATE = \"\"\"\n",
    "        SELECT * FROM `bigquery-public-data.thelook_ecommerce.products`\n",
    "        LIMIT {limit}\n",
    "        \"\"\"\n",
    "query = QUERY_TEMPLATE.format(limit=ROWS_SIZE)\n",
    "query_job = bq_client.query(query)\n",
    "rows = query_job.result()\n",
    "df = rows.to_dataframe()\n",
    "\n",
    "# examine the data\n",
    "df.head()"
   ]
  },
  {
   "cell_type": "markdown",
   "metadata": {},
   "source": [
    "### 3. Generate Text Embeddings and Store it as JSONL File"
   ]
  },
  {
   "cell_type": "code",
   "execution_count": 6,
   "metadata": {},
   "outputs": [],
   "source": [
    "# Load the text embeddings model\n",
    "from vertexai.preview.language_models import TextEmbeddingModel\n",
    "\n",
    "model = TextEmbeddingModel.from_pretrained(\"textembedding-gecko@001\")"
   ]
  },
  {
   "cell_type": "code",
   "execution_count": 7,
   "metadata": {},
   "outputs": [],
   "source": [
    "import time\n",
    "import tqdm  # to show a progress bar\n",
    "\n",
    "# get embeddings for a list of texts\n",
    "BATCH_SIZE = 5\n",
    "\n",
    "\n",
    "def get_embeddings_wrapper(texts):\n",
    "    embs = []\n",
    "    for i in tqdm.tqdm(range(0, len(texts), BATCH_SIZE)):\n",
    "        time.sleep(1)  # to avoid the quota error\n",
    "        result = model.get_embeddings(texts[i : i + BATCH_SIZE])\n",
    "        embs = embs + [e.values for e in result]\n",
    "    return embs"
   ]
  },
  {
   "cell_type": "markdown",
   "metadata": {},
   "source": [
    "**Run this code to get JSONL File locally**"
   ]
  },
  {
   "cell_type": "code",
   "execution_count": 8,
   "metadata": {},
   "outputs": [],
   "source": [
    "# get embeddings for the name column and add them as \"embedding\" column\n",
    "# df = df.assign(embedding=get_embeddings_wrapper(list(df.name)))\n",
    "# df.head()"
   ]
  },
  {
   "cell_type": "code",
   "execution_count": 9,
   "metadata": {},
   "outputs": [],
   "source": [
    "# save id and embedding as a json file\n",
    "# jsonl_string = df[[\"id\", \"embedding\"]].to_json(orient=\"records\", lines=True)\n",
    "# with open(\"product-embs.json\", \"w\") as f:\n",
    "    # f.write(jsonl_string)\n"
   ]
  },
  {
   "cell_type": "markdown",
   "metadata": {},
   "source": [
    "For purpose of this tutorial, we will download JSONL file from public bucket provided by Google Cloud `gs://github-repo/data/vs-quickstart/product-embs.json`\n",
    "\n",
    "**Run this code to get JSONL File from Google Cloud Storage URI**"
   ]
  },
  {
   "cell_type": "code",
   "execution_count": 10,
   "metadata": {},
   "outputs": [],
   "source": [
    "from google.cloud import storage\n",
    "\n",
    "# define a function to download a file from a GCS bucket\n",
    "def download_file_from_gcs(bucket_name, blob_name, local_file_path):\n",
    "    \"\"\"Downloads a file from a GCS bucket to a local file.\"\"\"\n",
    "    # Initialize a client\n",
    "    storage_client = storage.Client(credentials=credentials)\n",
    "\n",
    "    # Get the bucket and blob (file) object\n",
    "    bucket = storage_client.bucket(bucket_name)\n",
    "    blob = bucket.blob(blob_name)\n",
    "\n",
    "    # Download the file\n",
    "    blob.download_to_filename(local_file_path)\n",
    "    print(f\"File {blob_name} downloaded from {bucket_name} to local path {local_file_path}.\")\n",
    "\n",
    "\n"
   ]
  },
  {
   "cell_type": "code",
   "execution_count": 11,
   "metadata": {},
   "outputs": [],
   "source": [
    "local_file_name = 'product-embs.json'\n",
    "local_file_path = f\"./{local_file_name}\""
   ]
  },
  {
   "cell_type": "code",
   "execution_count": 14,
   "metadata": {},
   "outputs": [
    {
     "name": "stdout",
     "output_type": "stream",
     "text": [
      "File data/vs-quickstart/product-embs.json downloaded from github-repo to local path ./product-embs.json.\n"
     ]
    }
   ],
   "source": [
    "# get the file\n",
    "download_file_from_gcs('github-repo', 'data/vs-quickstart/product-embs.json', local_file_path)"
   ]
  },
  {
   "cell_type": "markdown",
   "metadata": {},
   "source": [
    "### 4. Upload the data (JSONL) into Cloud Storage"
   ]
  },
  {
   "cell_type": "code",
   "execution_count": 15,
   "metadata": {},
   "outputs": [],
   "source": [
    "# upload the file to GCS\n",
    "def upload_file_to_gcs(bucket_name, source_file_name, destination_blob_name):\n",
    "    \"\"\"Uploads a file to Google Cloud Storage, creating the bucket if it doesn't exist.\"\"\"\n",
    "    # Initialize a client\n",
    "    storage_client = storage.Client(credentials=credentials)\n",
    "\n",
    "    # Check if the bucket exists\n",
    "    bucket = storage_client.bucket(bucket_name)\n",
    "    if not bucket.exists():\n",
    "        # Create a new bucket if it does not exist\n",
    "        bucket.location = \"us-central1\"  # You can change the location if needed\n",
    "        bucket = storage_client.create_bucket(bucket, location=bucket.location)\n",
    "        print(f\"Bucket {bucket_name} created.\")\n",
    "    else:\n",
    "        print(f\"Bucket {bucket_name} already exists.\")\n",
    "\n",
    "    # Upload a file\n",
    "    blob = bucket.blob(destination_blob_name)\n",
    "    blob.upload_from_filename(source_file_name)\n",
    "\n",
    "    print(f\"File {source_file_name} uploaded to {destination_blob_name} in bucket {bucket_name}. URI: gs://{bucket_name}/{destination_blob_name}\")"
   ]
  },
  {
   "cell_type": "code",
   "execution_count": 16,
   "metadata": {},
   "outputs": [
    {
     "name": "stderr",
     "output_type": "stream",
     "text": [
      "C:\\Users\\ridwa\\AppData\\Local\\Temp\\ipykernel_5664\\1855946575.py:11: DeprecationWarning: Assignment to 'Bucket.location' is deprecated, as it is only valid before the bucket is created. Instead, pass the location to `Bucket.create`.\n",
      "  bucket.location = \"us-central1\"  # You can change the location if needed\n"
     ]
    },
    {
     "name": "stdout",
     "output_type": "stream",
     "text": [
      "Bucket example_bukcet created.\n",
      "File product-embs.json uploaded to product-embs.json in bucket example_bukcet. URI: gs://example_bukcet/product-embs.json\n"
     ]
    }
   ],
   "source": [
    "# Example usage\n",
    "bucket_name = \"example_bukcet\"  # Replace with your bucket name\n",
    "source_file_name = \"product-embs.json\"  # Replace with the name of your file\n",
    "destination_blob_name = \"product-embs.json\"  # The name you want for the file in the current folder\n",
    "\n",
    "upload_file_to_gcs(bucket_name, source_file_name, destination_blob_name)\n"
   ]
  },
  {
   "cell_type": "markdown",
   "metadata": {},
   "source": [
    "### 5. Create Vector Search Index"
   ]
  },
  {
   "cell_type": "code",
   "execution_count": 17,
   "metadata": {},
   "outputs": [],
   "source": [
    "# init the aiplatform package\n",
    "from google.cloud import aiplatform\n",
    "\n",
    "aiplatform.init(project=os.environ[\"PROJECT_ID\"], # replace with your own project\n",
    "              credentials=credentials)"
   ]
  },
  {
   "cell_type": "code",
   "execution_count": 18,
   "metadata": {},
   "outputs": [
    {
     "name": "stdout",
     "output_type": "stream",
     "text": [
      "Creating MatchingEngineIndex\n",
      "Create MatchingEngineIndex backing LRO: projects/840606066459/locations/us-central1/indexes/8273574310363267072/operations/1568673170628542464\n",
      "MatchingEngineIndex created. Resource name: projects/840606066459/locations/us-central1/indexes/8273574310363267072\n",
      "To use this MatchingEngineIndex in another session:\n",
      "index = aiplatform.MatchingEngineIndex('projects/840606066459/locations/us-central1/indexes/8273574310363267072')\n"
     ]
    }
   ],
   "source": [
    "# create Index\n",
    "my_index = aiplatform.MatchingEngineIndex.create_tree_ah_index(\n",
    "    display_name=f\"vs-quickstart-index-{UID}\",\n",
    "    contents_delta_uri=f\"gs://{bucket_name}\",\n",
    "    dimensions=768,\n",
    "    approximate_neighbors_count=10,\n",
    ")"
   ]
  },
  {
   "cell_type": "markdown",
   "metadata": {},
   "source": [
    "### 6. Create Index Endpoint and deploy the Index"
   ]
  },
  {
   "cell_type": "code",
   "execution_count": 19,
   "metadata": {},
   "outputs": [
    {
     "name": "stdout",
     "output_type": "stream",
     "text": [
      "Creating MatchingEngineIndexEndpoint\n",
      "Create MatchingEngineIndexEndpoint backing LRO: projects/840606066459/locations/us-central1/indexEndpoints/4827476170494705664/operations/2324152008119943168\n",
      "MatchingEngineIndexEndpoint created. Resource name: projects/840606066459/locations/us-central1/indexEndpoints/4827476170494705664\n",
      "To use this MatchingEngineIndexEndpoint in another session:\n",
      "index_endpoint = aiplatform.MatchingEngineIndexEndpoint('projects/840606066459/locations/us-central1/indexEndpoints/4827476170494705664')\n"
     ]
    }
   ],
   "source": [
    "# create IndexEndpoint\n",
    "my_index_endpoint = aiplatform.MatchingEngineIndexEndpoint.create(\n",
    "    display_name=f\"vs-quickstart-index-endpoint-{UID}\", \n",
    "    public_endpoint_enabled=True\n",
    ")"
   ]
  },
  {
   "cell_type": "code",
   "execution_count": 20,
   "metadata": {},
   "outputs": [],
   "source": [
    "DEPLOYED_INDEX_ID = f\"vs_quickstart_deployed_{UID}\""
   ]
  },
  {
   "cell_type": "code",
   "execution_count": 21,
   "metadata": {},
   "outputs": [
    {
     "name": "stdout",
     "output_type": "stream",
     "text": [
      "Deploying index MatchingEngineIndexEndpoint index_endpoint: projects/840606066459/locations/us-central1/indexEndpoints/4827476170494705664\n",
      "Deploy index MatchingEngineIndexEndpoint index_endpoint backing LRO: projects/840606066459/locations/us-central1/indexEndpoints/4827476170494705664/operations/5782916521940484096\n",
      "MatchingEngineIndexEndpoint index_endpoint Deployed index. Resource name: projects/840606066459/locations/us-central1/indexEndpoints/4827476170494705664\n"
     ]
    },
    {
     "data": {
      "text/plain": [
       "<google.cloud.aiplatform.matching_engine.matching_engine_index_endpoint.MatchingEngineIndexEndpoint object at 0x000001D07910D640> \n",
       "resource name: projects/840606066459/locations/us-central1/indexEndpoints/4827476170494705664"
      ]
     },
     "execution_count": 21,
     "metadata": {},
     "output_type": "execute_result"
    }
   ],
   "source": [
    "# deploy the Index to the Index Endpoint (it takes up to 20-30 minutes if this is the first time you deploy)\n",
    "my_index_endpoint.deploy_index(index=my_index, deployed_index_id=DEPLOYED_INDEX_ID)"
   ]
  },
  {
   "cell_type": "markdown",
   "metadata": {},
   "source": [
    "### 7. Get Index Info\n",
    "\n",
    "\n",
    "**Get an existing Index**\n",
    "\n",
    "To get an Index object that already exists, replace the following [our-index-id] with the index ID and run the cell. We can check the ID on the [Vector Search Console > INDEXES tab](https://console.cloud.google.com/vertex-ai/matching-engine/indexes).\n"
   ]
  },
  {
   "cell_type": "code",
   "execution_count": 22,
   "metadata": {},
   "outputs": [
    {
     "name": "stdout",
     "output_type": "stream",
     "text": [
      "<google.cloud.aiplatform.matching_engine.matching_engine_index.MatchingEngineIndex object at 0x000001D079102370> \n",
      "resource name: projects/840606066459/locations/us-central1/indexes/8273574310363267072\n"
     ]
    }
   ],
   "source": [
    "my_index_id = \"8273574310363267072\"  # @param {type:\"string\"}\n",
    "my_index = aiplatform.MatchingEngineIndex(my_index_id)\n",
    "print(my_index)"
   ]
  },
  {
   "cell_type": "markdown",
   "metadata": {},
   "source": [
    "**Get an existing Index Endpoint**\n",
    "\n",
    "To get an Index Endpoint object that already exists, replace the following [our-index-endpoint-id] with the Index Endpoint ID and run the cell. We can check the ID on the [Vector Search Console > INDEX ENDPOINTS tab](https://console.cloud.google.com/vertex-ai/matching-engine/index-endpoints)."
   ]
  },
  {
   "cell_type": "code",
   "execution_count": 23,
   "metadata": {},
   "outputs": [
    {
     "name": "stdout",
     "output_type": "stream",
     "text": [
      "<google.cloud.aiplatform.matching_engine.matching_engine_index_endpoint.MatchingEngineIndexEndpoint object at 0x000001D07910DA60> \n",
      "resource name: projects/840606066459/locations/us-central1/indexEndpoints/4827476170494705664\n"
     ]
    }
   ],
   "source": [
    "my_index_endpoint_id = \"4827476170494705664\"  # @param {type:\"string\"}\n",
    "my_index_endpoint = aiplatform.MatchingEngineIndexEndpoint(my_index_endpoint_id)\n",
    "print(my_index_endpoint)"
   ]
  },
  {
   "cell_type": "markdown",
   "metadata": {},
   "source": [
    "### 8. Run a Query with Vector Search\n",
    "\n",
    "Finally it's ready to use Vector Search. In the following code, it creates an embedding for a test question, and find similar question with the Vector Search.\n",
    "\n",
    "**Get an embedding to run a query**\n",
    "\n",
    "First, load the embedding JSON file to build a dict of product names and embeddings."
   ]
  },
  {
   "cell_type": "code",
   "execution_count": 24,
   "metadata": {},
   "outputs": [],
   "source": [
    "import json\n",
    "\n",
    "# build dicts for product names and embs\n",
    "product_names = {}\n",
    "product_embs = {}\n",
    "with open(\"product-embs.json\") as f:\n",
    "    for l in f.readlines():\n",
    "        p = json.loads(l)\n",
    "        id = p[\"id\"]\n",
    "        product_names[id] = p[\"name\"]\n",
    "        product_embs[id] = p[\"embedding\"]"
   ]
  },
  {
   "cell_type": "code",
   "execution_count": 26,
   "metadata": {},
   "outputs": [
    {
     "name": "stdout",
     "output_type": "stream",
     "text": [
      "[-0.015140533447265625, 0.029022620990872383, 0.043999187648296356, 0.0008045680006034672, 0.02479265257716179, -0.058345310389995575, 0.010426630266010761, 0.023504989221692085, -0.03466186299920082, -0.00134370313026011, 0.007397875655442476, -0.01431096438318491, 0.024990102276206017, 0.06665688753128052, 0.023334601894021034, -0.005286165047436953, -0.06492510437965393, -0.0345313623547554, 0.060259561985731125, 0.010223621502518654, -0.09199754148721695, 0.01886577345430851, 0.03483972325921059, -0.027113549411296844, -0.03256196156144142, -0.07872982323169708, 0.037879571318626404, -0.009713241830468178, -0.03232517093420029, -0.07063174992799759, 0.0024606185033917427, -0.015956062823534012, -0.003946097567677498, 0.021167505532503128, -0.008327499032020569, 0.055032506585121155, 0.019084438681602478, 0.0015176940942183137, 0.00926684495061636, 0.06493163108825684, 0.0036904136650264263, 0.02693367190659046, 0.04891353100538254, -0.001483380445279181, -0.0366176962852478, -0.013225529342889786, 0.02575700730085373, -0.02645546942949295, -0.0444398857653141, -0.01169970165938139, -0.006911656819283962, -0.027404319494962692, -0.023148760199546814, 0.019367007538676262, 0.003512781346216798, 0.04276829585433006, -0.030194010585546494, 0.03024723194539547, -0.0277257077395916, 0.020818673074245453, 0.0012017320841550827, -0.01792461983859539, 0.038923900574445724, -0.02110218070447445, -0.010081320069730282, 0.05481641739606857, -0.003986804746091366, 0.0013842986663803458, -0.02054463140666485, 0.0048963469453155994, 0.0019251639023423195, 0.0019051918061450124, -0.03444911912083626, -0.034989409148693085, 0.02214030921459198, 0.013895319774746895, 0.013025431893765926, 0.010057887062430382, 0.041741687804460526, -0.020021049305796623, -0.034627970308065414, -0.05507693439722061, -0.06070627644658089, -0.0614217147231102, 0.004933731630444527, 0.00855338480323553, -0.04246039688587189, -0.022230055183172226, -0.032010648399591446, -0.0034006242640316486, -0.06582677364349365, 0.0020829609129577875, 0.04337126016616821, -7.69580656196922e-05, -0.04546953737735748, 0.0023531103506684303, -0.03966619819402695, -0.03253144770860672, 0.03201724961400032, -0.004446547944098711, -0.018432356417179108, -0.024726636707782745, 0.03782270476222038, 0.002974384231492877, 0.0696018859744072, 0.0207957960665226, 0.016570046544075012, 0.03457920253276825, -0.03262939676642418, -0.11016054451465607, -0.07471106201410294, 0.026307791471481323, -0.025133458897471428, 0.013174696825444698, 0.033063486218452454, -0.042337752878665924, 0.033265840262174606, -0.02151954360306263, 0.004062382970005274, -0.007820687256753445, -0.05606011673808098, 0.045228514820337296, -0.002518878085538745, 0.05903085321187973, 0.03924679756164551, -0.03054344654083252, 0.043597858399152756, -0.013328972272574902, -0.0053729163482785225, -0.005869470536708832, -0.049528591334819794, -0.014033927582204342, 0.04547160491347313, 0.02360733412206173, -0.006778865586966276, 0.025799807161092758, -0.009379701688885689, -0.005146481096744537, -0.011498992331326008, 0.024177920073270798, -0.05769413337111473, -0.014251068234443665, -0.09167259931564331, 0.01954030431807041, 0.021239392459392548, -0.020328164100646973, -0.005861626472324133, -0.0164809450507164, -0.056931063532829285, -0.022357402369379997, 0.02083827182650566, -0.019899049773812294, 0.004674824886023998, 0.016611656174063683, 0.07385704666376114, 0.006548609584569931, 0.08574448525905609, 0.04436742514371872, -0.04103697091341019, -0.009801986627280712, -0.007955006323754787, -0.005517835263162851, 0.013743152841925621, 0.018046939745545387, 0.024934472516179085, -0.015408213250339031, -0.03174378722906113, -0.03975186496973038, -0.016494888812303543, 0.10020676255226135, 0.05269762873649597, -0.051138490438461304, 0.014576397836208344, -0.04757850989699364, 0.075430728495121, 0.021862182766199112, 0.0013182726688683033, 0.008329978212714195, -0.0397854819893837, -0.009775661863386631, -0.008506842888891697, -0.050842344760894775, 0.0032998574897646904, 0.016894349828362465, -0.01190937403589487, 0.033192750066518784, -0.015412242151796818, -0.009434041567146778, -0.04451608657836914, 0.06068295240402222, -0.01768895611166954, 0.039129842072725296, -0.000810507801361382, -0.03298003599047661, 0.00033929661731235683, 0.015685029327869415, 0.03737114369869232, -0.14607718586921692, 0.02521015703678131, 0.06047359108924866, 0.021858585998415947, -0.014666697941720486, 0.006666426081210375, 0.045191384851932526, -0.04955655336380005, -0.05466556176543236, -0.09523238241672516, -0.013527113012969494, 0.012005605734884739, -0.008302375674247742, 0.01704857312142849, 0.0496482253074646, 0.0811600461602211, 0.07510186731815338, 0.0404362715780735, -0.004659111611545086, 0.020165126770734787, -0.05172562226653099, -0.07545290142297745, 0.0166696235537529, 0.02918050065636635, -0.006135563366115093, 0.005434595048427582, 0.027116701006889343, -0.01661740243434906, 0.007891828194260597, 0.030557794496417046, -0.019930938258767128, 0.07170160114765167, 0.007174916099756956, -0.028259949758648872, -0.008529005572199821, -0.053142622113227844, 0.018068421632051468, 0.03175245597958565, 0.043940380215644836, 0.02832476980984211, -0.040988512337207794, -0.034988969564437866, -0.03114982135593891, 0.0493108406662941, 0.03427247330546379, -0.025544723495841026, 0.0353991873562336, -0.044942717999219894, 0.004884892608970404, 0.00034072299604304135, 0.002199822338297963, 0.06962693482637405, -0.006294320337474346, 0.021510839462280273, -0.05024569854140282, 0.02387187071144581, 0.021572081372141838, 0.03700738027691841, 0.009807688184082508, -0.020286479964852333, 0.07119031995534897, -0.03403439372777939, 0.024131139740347862, 0.017140831798315048, 0.01280839741230011, 0.018194183707237244, 0.07771110534667969, -0.05984032526612282, -0.007469666190445423, -0.03636316955089569, 0.01775471121072769, 0.043202318251132965, -0.04554608091711998, -0.05378151684999466, -0.029497666284441948, -0.0114979213103652, 0.05673489347100258, 0.010521933436393738, 0.030039995908737183, -0.02452210709452629, 0.03176527097821236, 0.010145977139472961, 0.02700018882751465, 0.025093622505664825, -0.05266602709889412, -0.01194692775607109, 0.029665783047676086, -0.0024581761099398136, -0.006281796842813492, -0.0528867207467556, 0.04213130474090576, -0.04731209576129913, 0.03083803877234459, 0.02948691137135029, 0.017720839008688927, -0.012650319375097752, 0.11714336276054382, 0.02546866051852703, -0.04842602461576462, 0.0800737738609314, -0.03783879429101944, -0.014663076028227806, 0.022365599870681763, 0.00565302511677146, -0.03641846030950546, 0.01305362954735756, -0.032402846962213516, 0.018115732818841934, -0.0029991534538567066, 0.03063785471022129, 0.008921722881495953, -0.005676016677170992, 0.01943359151482582, -0.06295466423034668, 0.0331290178000927, 0.021154610440135002, -0.01479574479162693, -0.024077679961919785, 0.02309487946331501, 0.044282522052526474, -0.04494186118245125, 0.001476046396419406, -0.005809460300952196, -0.03903315216302872, 0.05926999822258949, 0.050112396478652954, 0.013726016506552696, -0.03100764937698841, -0.0027807368896901608, 0.01949036493897438, -0.0032796321902424097, 0.08510244637727737, -0.10604152828454971, 0.004617596510797739, -0.020896660163998604, -0.0659673735499382, 0.04592086747288704, 0.012198572047054768, 0.05002860352396965, 0.016258426010608673, -0.015034208074212074, -0.04059532284736633, -0.09112321585416794, -0.011473380960524082, 0.017606522887945175, -0.014529857784509659, -0.017313901335000992, -0.021731551736593246, 0.019546501338481903, -0.014476482756435871, -0.005535725969821215, 0.004509275313466787, -0.02986694872379303, 0.004481323529034853, 0.005318935960531235, -0.049456529319286346, 0.01133559551090002, 0.0239548459649086, 0.008661854080855846, -0.008922917768359184, 0.02129599079489708, 0.02919161692261696, 0.014801747165620327, 0.018726056441664696, -0.014084688387811184, -0.05200643464922905, 0.006648799870163202, 0.030566811561584473, -0.01095522753894329, -0.03702237084507942, 0.054685115814208984, 0.029120774939656258, -0.003491024486720562, -0.020775796845555305, 0.01198757067322731, 0.017518294975161552, 0.04231458157300949, -0.013273453339934349, -0.013940713368356228, -0.0076011535711586475, 0.046919938176870346, -0.010114462114870548, 0.060981281101703644, -0.05383698642253876, 0.036582041531801224, -0.01512919645756483, 0.012783949263393879, -0.038807108998298645, 0.0038404425140470266, 0.0659659281373024, 0.028776872903108597, -0.029231267049908638, -0.007260276935994625, 0.007282623555511236, -0.021755581721663475, 0.033717378973960876, -0.031510766595602036, -0.05557405576109886, -0.010652911849319935, -0.035328418016433716, 0.013188248500227928, -0.025207383558154106, -0.033163536339998245, 0.018938051536679268, 0.02651931717991829, -0.06362797319889069, -0.03577391430735588, -0.002996074501425028, 0.017713462933897972, 0.004675860516726971, -0.00016977517225313932, 0.030358199030160904, -0.0062721725553274155, 0.043393004685640335, -0.008113347925245762, 0.022196264937520027, 0.0005249706446193159, 0.04758956655859947, -0.05510751157999039, 0.033124834299087524, -0.012010757811367512, -0.02202126383781433, 0.038441892713308334, 0.019420113414525986, -0.01995779201388359, 0.004119505640119314, 0.01806238293647766, 0.033444035798311234, -0.01317873876541853, -0.11342206597328186, -0.0020144039299339056, -0.016790028661489487, -0.06547658890485764, 0.0008289346005767584, -0.0003354553773533553, 0.0008931797347031534, -0.02459966018795967, -0.01926007680594921, -0.07418826967477798, 0.06891988962888718, 0.07264278084039688, 0.037642449140548706, 0.0043337540701031685, 0.02692292630672455, 0.018290257081389427, -0.06984040886163712, -0.0012988729868084192, -0.009117799811065197, -0.018832815811038017, 0.03707081079483032, -0.012242321856319904, -0.04668337106704712, -0.020246148109436035, -0.012265272438526154, -0.005081267561763525, -0.028268001973628998, 0.12639111280441284, 0.0064988285303115845, 0.022667810320854187, 0.052602753043174744, -0.04108070954680443, -0.029044046998023987, -0.0234293844550848, -0.03163054212927818, 0.0011960098054260015, -0.0064444104209542274, 0.03873886540532112, -0.033247437328100204, -0.006050714757293463, 0.0357610248029232, 0.05210044980049133, -0.015031018294394016, 0.04667867347598076, -0.044324666261672974, 0.032006893306970596, -0.023710019886493683, 0.0018456847174093127, 0.0648447573184967, 0.0034145857207477093, 0.08088068664073944, 0.0019356639822944999, -0.04106520861387253, -0.08505662530660629, -0.029757119715213776, -0.0177152082324028, -0.005334755871444941, -0.06441135704517365, 0.025183677673339844, 0.004504117649048567, 0.04944688454270363, -0.023900453001260757, 0.0054777818731963634, 0.06387361884117126, 0.059724725782871246, -0.04516270011663437, 0.043318189680576324, -0.061937861144542694, 0.035890012979507446, 0.022732598707079887, 0.0069588832557201385, -0.009992087259888649, 0.018062127754092216, -0.035434573888778687, 0.06498445570468903, 0.03890933468937874, 0.020631330087780952, -0.003871522145345807, -0.048805028200149536, -0.02876429818570614, 0.0178323145955801, -0.011478105559945107, -0.02104579284787178, -0.032997097820043564, -0.02076558768749237, -0.022214045748114586, -0.02791951410472393, -0.004821458365768194, -0.05368383601307869, -0.05296061187982559, -0.018714696168899536, 0.01952367089688778, -0.01743363030254841, -0.02166074700653553, 0.04007318243384361, -0.018984174355864525, 0.03740905970335007, 0.03318057581782341, 0.06571272760629654, 0.02758786454796791, 0.011488299816846848, -0.06458862870931625, -0.006089858245104551, 0.011108575388789177, -0.01909342221915722, -0.008960077539086342, 1.5780544345034286e-05, -0.003285048296675086, -0.007966224104166031, -0.01382402889430523, 0.013908114284276962, 0.0170779787003994, 0.061115462332963943, 0.08635270595550537, -0.01412574015557766, -0.07000977545976639, 0.012945203110575676, 0.013745817355811596, 0.035904720425605774, -0.008629264310002327, -0.018510248512029648, 0.013505568727850914, 0.01294394489377737, 0.0407380610704422, 0.008020817302167416, -0.04212763532996178, -0.0447101816534996, 0.018764806911349297, 0.008537104353308678, -0.03514809161424637, 0.04151954874396324, -0.07042703777551651, -0.05537120997905731, -0.04701421782374382, 0.001816740958020091, 0.00045609939843416214, -0.02929690107703209, -0.04747071489691734, 0.01376179326325655, -0.10812141746282578, 0.047318700700998306, 0.04831238090991974, 0.06399298459291458, 0.04003162682056427, 0.024145828559994698, -0.0825318768620491, -0.05337878316640854, 0.016120098531246185, -0.002764838980510831, 0.03755565732717514, -0.05727656930685043, 0.05157938227057457, 0.0013430551625788212, 0.015050512738525867, -0.03746667504310608, 0.027777457609772682, 0.007357816211879253, -0.015202611684799194, -0.024781323969364166, -0.010530813597142696, 0.017530271783471107, -0.04043442755937576, 0.006923071574419737, 0.0054358080960810184, 0.004124519415199757, -0.05352615937590599, 0.012771002016961575, 0.0022066165693104267, -0.04116038233041763, -0.03530890867114067, -0.02497498132288456, 0.040419336408376694, 0.011479891836643219, 0.025604594498872757, -4.330883893999271e-05, -0.0211698766797781, 0.022114623337984085, -0.070730060338974, 0.01966346614062786, -0.019911527633666992, 0.08479655534029007, 0.01668311469256878, 0.028417248278856277, 0.05842846259474754, 0.0598556250333786, 0.039202429354190826, 0.04441719129681587, -0.023320943117141724, -0.08449622243642807, 8.530772902304307e-05, -0.06318695843219757, 0.0395701564848423, 0.03115253336727619, -0.037368714809417725, 0.014993181452155113, -0.008601072244346142, -0.0047325254417955875, 0.009871306829154491, 0.04718424007296562, 0.030210550874471664, -0.010707090608775616, -0.009841282851994038, -0.0680813118815422, 0.004425420891493559, 0.008851262740790844, -0.0029040032532066107, 0.005916934926062822, -0.00627502053976059, 0.013631656765937805, -0.023430204018950462, -0.007691806647926569, 0.023391852155327797, 0.04662935808300972, 0.003973169717937708, 0.03461531177163124, -0.01147522497922182, 0.0006356143276207149, -0.02085750736296177, -0.0210372693836689, -0.04651506990194321, -0.011744619347155094, -0.04648694396018982, 0.0041617476381361485, -0.03835363686084747, 0.02976265735924244, 0.009109048172831535, -0.07294922322034836, -0.06359677761793137, 0.011428019031882286, 0.02001604437828064, -0.002158928196877241, 0.009916787967085838, -0.021861882880330086, 0.06722992658615112, 0.03426752984523773, 0.022853998467326164, 0.027270279824733734, 0.019676873460412025, -0.07529327273368835, 0.06668908894062042, 0.06931998580694199, 0.014600184746086597, 0.002079563681036234, -0.007235467433929443, -0.022596802562475204, -0.053804680705070496, 0.016448380425572395, -0.025443051010370255, 0.02051423490047455, 0.029485801234841347, 0.06605710834264755, 0.006358820479363203, 0.025768563151359558, 0.03376074507832527, -0.05137646198272705, 0.0276972483843565, 0.005264136008918285, 0.03885949030518532, 0.017217308282852173, -0.0242167916148901, 0.011897595599293709, 0.020204951986670494, -0.008171121589839458, 0.024519681930541992, -0.025235723704099655, 0.009299739263951778, 0.01803194358944893, -0.009948743507266045, 0.007330688647925854, -0.04733460396528244, -0.01925554871559143, 0.0033949657808989286, 0.010107554495334625, 0.034183189272880554, -0.018050961196422577, 0.0002667164371814579, -0.01913619041442871, 0.009245469234883785, 0.04968428984284401, -0.043854787945747375, -0.04529665783047676, -0.0023062662221491337, -0.03895782306790352, 0.01178250927478075, 0.002543037524446845, -0.018063388764858246, 0.019105782732367516, 0.01276165246963501, -0.021701859310269356, 0.007025719620287418, -0.016182713210582733, -0.04307495430111885, 0.031183725222945213, 0.04783971607685089, 0.004826345480978489, 0.017468443140387535, 0.02741573005914688, -0.03145824372768402, 0.0021770659368485212, -0.05574118345975876, -0.03776349127292633, -0.02167753502726555, 0.02447580173611641, 0.005730469711124897, -0.04619849845767021, 0.004773232154548168, 0.025550484657287598, 0.009459751658141613, 0.0011236999416723847, -0.04363493248820305, 0.06995133310556412, -0.03743589669466019, 0.03104412369430065, 0.0014785351231694221, -0.04349315166473389, 0.013674686662852764, 0.013796885497868061, -0.060736529529094696, 0.0030780688393861055, 0.028044600039720535, 0.0035996416117995977, -0.026478582993149757, 0.0008081024861894548, -0.04694484919309616, -0.03682095184922218, 0.034028150141239166, 0.012188064865767956, 0.06707766652107239, -0.002904814900830388, 0.025141138583421707, 0.009041926823556423, 0.033653926104307175, 0.0003978713939432055, 0.047095153480768204, -0.030994011089205742, 0.05059076473116875, -0.010508195497095585, -0.0034293055068701506, -0.011408429592847824, -0.025373656302690506, -0.012141711078584194, -0.04203790798783302]\n"
     ]
    }
   ],
   "source": [
    "# get the embedding for ID 6523 \"cloudveil women's excursion short\"\n",
    "# you can also try with other IDs such as 12711, 18090, 19536 and 11863\n",
    "query_emb = product_embs[\"6523\"]\n",
    "print(query_emb)"
   ]
  },
  {
   "cell_type": "markdown",
   "metadata": {},
   "source": [
    "**Run a Query**\n",
    "\n",
    "Pass the embedding to find_neighbors function to find similar product names."
   ]
  },
  {
   "cell_type": "code",
   "execution_count": 27,
   "metadata": {},
   "outputs": [
    {
     "name": "stdout",
     "output_type": "stream",
     "text": [
      "1.00 cloudveil women's excursion short\n",
      "0.82 quiksilver womens cruiser short\n",
      "0.80 xcvi women's alisal short\n",
      "0.80 cloudveil men's kahuna short\n",
      "0.78 ibex women's gozo short\n",
      "0.78 sanctuary clothing women's coquette short\n",
      "0.78 sunner women's collins printed short\n",
      "0.77 hurley lowrider cargo 2.5 short - women's\n",
      "0.77 stitch's women's fox knee length short\n",
      "0.77 sanctuary clothing women's passenger skirt\n"
     ]
    }
   ],
   "source": [
    "# run query\n",
    "response = my_index_endpoint.find_neighbors(\n",
    "    deployed_index_id=DEPLOYED_INDEX_ID, queries=[query_emb], num_neighbors=10\n",
    ")\n",
    "\n",
    "# show the results\n",
    "for idx, neighbor in enumerate(response[0]):\n",
    "    print(f\"{neighbor.distance:.2f} {product_names[neighbor.id]}\")"
   ]
  },
  {
   "cell_type": "markdown",
   "metadata": {},
   "source": [
    "### 9. Clean Up"
   ]
  },
  {
   "cell_type": "code",
   "execution_count": 28,
   "metadata": {},
   "outputs": [],
   "source": [
    "# create function to delete a bucket and all its contents\n",
    "def delete_bucket_and_contents(bucket_name):\n",
    "    \"\"\"Deletes a bucket and all its contents in Google Cloud Storage.\"\"\"\n",
    "    # Initialize a client\n",
    "    storage_client = storage.Client(credentials=credentials)\n",
    "\n",
    "    # Get the bucket\n",
    "    bucket = storage_client.bucket(bucket_name)\n",
    "\n",
    "    # Check if the bucket exists\n",
    "    if bucket.exists():\n",
    "        # Delete all the contents of the bucket\n",
    "        blobs = bucket.list_blobs()\n",
    "        for blob in blobs:\n",
    "            blob.delete()\n",
    "            print(f\"Blob {blob.name} deleted.\")\n",
    "\n",
    "        # Delete the bucket\n",
    "        bucket.delete()\n",
    "        print(f\"Bucket {bucket_name} deleted.\")\n",
    "    else:\n",
    "        print(f\"Bucket {bucket_name} does not exist or is already deleted.\")\n",
    "\n"
   ]
  },
  {
   "cell_type": "code",
   "execution_count": 29,
   "metadata": {},
   "outputs": [
    {
     "name": "stdout",
     "output_type": "stream",
     "text": [
      "Blob product-embs.json deleted.\n",
      "Bucket example_bukcet deleted.\n"
     ]
    }
   ],
   "source": [
    "# delete the bucket\n",
    "delete_bucket_and_contents(bucket_name)"
   ]
  },
  {
   "cell_type": "code",
   "execution_count": 30,
   "metadata": {},
   "outputs": [
    {
     "name": "stdout",
     "output_type": "stream",
     "text": [
      "Undeploying MatchingEngineIndexEndpoint index_endpoint: projects/840606066459/locations/us-central1/indexEndpoints/4827476170494705664\n",
      "Undeploy MatchingEngineIndexEndpoint index_endpoint backing LRO: projects/840606066459/locations/us-central1/indexEndpoints/4827476170494705664/operations/3338024874231726080\n",
      "MatchingEngineIndexEndpoint index_endpoint undeployed. Resource name: projects/840606066459/locations/us-central1/indexEndpoints/4827476170494705664\n",
      "Deleting MatchingEngineIndexEndpoint : projects/840606066459/locations/us-central1/indexEndpoints/4827476170494705664\n",
      "Delete MatchingEngineIndexEndpoint  backing LRO: projects/840606066459/locations/us-central1/operations/6792285788424896512\n",
      "MatchingEngineIndexEndpoint deleted. . Resource name: projects/840606066459/locations/us-central1/indexEndpoints/4827476170494705664\n",
      "Deleting MatchingEngineIndex : projects/840606066459/locations/us-central1/indexes/8273574310363267072\n",
      "Delete MatchingEngineIndex  backing LRO: projects/840606066459/locations/us-central1/indexes/8273574310363267072/operations/675834544502341632\n",
      "MatchingEngineIndex deleted. . Resource name: projects/840606066459/locations/us-central1/indexes/8273574310363267072\n"
     ]
    }
   ],
   "source": [
    "# delete Index Endpoint\n",
    "my_index_endpoint.undeploy_all()\n",
    "my_index_endpoint.delete(force=True)\n",
    "\n",
    "# delete Index\n",
    "my_index.delete()"
   ]
  }
 ],
 "metadata": {
  "kernelspec": {
   "display_name": "notebook",
   "language": "python",
   "name": "python3"
  },
  "language_info": {
   "codemirror_mode": {
    "name": "ipython",
    "version": 3
   },
   "file_extension": ".py",
   "mimetype": "text/x-python",
   "name": "python",
   "nbconvert_exporter": "python",
   "pygments_lexer": "ipython3",
   "version": "3.9.18"
  }
 },
 "nbformat": 4,
 "nbformat_minor": 2
}
